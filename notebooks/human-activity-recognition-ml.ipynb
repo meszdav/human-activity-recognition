{
 "cells": [
  {
   "cell_type": "markdown",
   "metadata": {},
   "source": [
    "## Import dependencies"
   ]
  },
  {
   "cell_type": "code",
   "execution_count": 46,
   "metadata": {
    "ExecuteTime": {
     "end_time": "2020-06-01T09:55:31.064215Z",
     "start_time": "2020-06-01T09:55:31.050225Z"
    }
   },
   "outputs": [],
   "source": [
    "import pandas as pd\n",
    "import seaborn as sns\n",
    "import time\n",
    "\n",
    "import matplotlib.pyplot as plt\n",
    "\n",
    "from sklearn.model_selection import train_test_split\n",
    "\n",
    "from sklearn.neighbors import KNeighborsClassifier\n",
    "from sklearn.naive_bayes import MultinomialNB\n",
    "from sklearn.linear_model import LogisticRegression\n",
    "from sklearn.svm import SVC\n",
    "from sklearn.ensemble import GradientBoostingClassifier, VotingClassifier, BaggingClassifier\n",
    "from sklearn.ensemble import RandomForestClassifier\n",
    "\n",
    "from sklearn.metrics import accuracy_score, recall_score, precision_score, f1_score\n",
    "from sklearn.model_selection import cross_val_score\n",
    "from sklearn.pipeline import Pipeline\n",
    "from sklearn.impute import SimpleImputer\n",
    "from sklearn.preprocessing import StandardScaler, MinMaxScaler\n",
    "from sklearn.model_selection import GridSearchCV\n",
    "from sklearn.metrics import confusion_matrix\n",
    "\n",
    "import joblib"
   ]
  },
  {
   "cell_type": "markdown",
   "metadata": {},
   "source": [
    "## Read data"
   ]
  },
  {
   "cell_type": "code",
   "execution_count": 47,
   "metadata": {
    "ExecuteTime": {
     "end_time": "2020-06-01T09:55:40.990587Z",
     "start_time": "2020-06-01T09:55:40.145070Z"
    }
   },
   "outputs": [],
   "source": [
    "X_train = pd.read_csv(\"../data/X_train_4.csv\",header=[0,1],index_col=0)\n",
    "X_test = pd.read_csv(\"../data/X_test_4.csv\",header=[0,1],index_col=0)\n",
    "y_train = pd.read_csv(\"../data/y_train_4.csv\",index_col=0)\n",
    "y_test = pd.read_csv(\"../data/y_test_4.csv\",index_col=0)"
   ]
  },
  {
   "cell_type": "code",
   "execution_count": 48,
   "metadata": {
    "ExecuteTime": {
     "end_time": "2020-06-01T09:55:52.291547Z",
     "start_time": "2020-06-01T09:55:52.285550Z"
    }
   },
   "outputs": [],
   "source": [
    "def find_na(df):\n",
    "    \n",
    "    features_to_drop = []\n",
    "    \n",
    "    for i in df.columns:\n",
    "        \n",
    "        if df[i].isna().sum() > len(df)*0.3:\n",
    "            features_to_drop.append(i)\n",
    "    \n",
    "    return features_to_drop"
   ]
  },
  {
   "cell_type": "code",
   "execution_count": 49,
   "metadata": {
    "ExecuteTime": {
     "end_time": "2020-06-01T09:55:52.656336Z",
     "start_time": "2020-06-01T09:55:52.644345Z"
    }
   },
   "outputs": [],
   "source": [
    "def drop_features(df,features_to_drop):\n",
    "    \n",
    "    df.drop(features_to_drop, axis = 1, inplace = True)\n",
    "    \n",
    "    return df"
   ]
  },
  {
   "cell_type": "markdown",
   "metadata": {},
   "source": [
    "### Drop nas"
   ]
  },
  {
   "cell_type": "markdown",
   "metadata": {},
   "source": [
    "#### Train data"
   ]
  },
  {
   "cell_type": "code",
   "execution_count": 50,
   "metadata": {
    "ExecuteTime": {
     "end_time": "2020-06-01T09:55:54.413601Z",
     "start_time": "2020-06-01T09:55:54.265690Z"
    }
   },
   "outputs": [],
   "source": [
    "features_to_drop = find_na(X_train)\n",
    "X_train = drop_features(X_train,features_to_drop)"
   ]
  },
  {
   "cell_type": "markdown",
   "metadata": {},
   "source": [
    "#### Test data "
   ]
  },
  {
   "cell_type": "code",
   "execution_count": 51,
   "metadata": {
    "ExecuteTime": {
     "end_time": "2020-06-01T09:55:55.024684Z",
     "start_time": "2020-06-01T09:55:55.013691Z"
    }
   },
   "outputs": [],
   "source": [
    "X_test = drop_features(X_test,features_to_drop)"
   ]
  },
  {
   "cell_type": "markdown",
   "metadata": {},
   "source": [
    "## Build pipeline"
   ]
  },
  {
   "cell_type": "markdown",
   "metadata": {},
   "source": [
    "### Select classifier "
   ]
  },
  {
   "cell_type": "markdown",
   "metadata": {},
   "source": [
    "First, I test some classifier, than I can choose one for parameter optimization to get better results."
   ]
  },
  {
   "cell_type": "code",
   "execution_count": 52,
   "metadata": {
    "ExecuteTime": {
     "end_time": "2020-06-01T09:55:57.107185Z",
     "start_time": "2020-06-01T09:55:57.091192Z"
    }
   },
   "outputs": [],
   "source": [
    "knc = KNeighborsClassifier()\n",
    "lr = LogisticRegression(solver=\"newton-cg\")\n",
    "svc = SVC()\n",
    "rfc = RandomForestClassifier()\n",
    "nbc = MultinomialNB()\n",
    "#gbc = GradientBoostingClassifier()\n",
    "bc = BaggingClassifier()\n",
    "\n",
    "ml_models = models = {\"knc\": knc, \"lr\": lr, \"svc\": svc, \"rfc\": rfc,\n",
    "                      'nb' : MultinomialNB(),\n",
    "                       'bc' : BaggingClassifier()}"
   ]
  },
  {
   "cell_type": "code",
   "execution_count": 53,
   "metadata": {
    "ExecuteTime": {
     "end_time": "2020-06-01T09:55:57.438994Z",
     "start_time": "2020-06-01T09:55:57.419004Z"
    }
   },
   "outputs": [],
   "source": [
    "def initial_model(X_train, X_test, y_train, y_test, ml_models):\n",
    "    \n",
    "    \n",
    "    \n",
    "    for model in ml_models:\n",
    "          \n",
    "        if model != 'nb':\n",
    "            \n",
    "            pipe = Pipeline([(\"imputer\", SimpleImputer(fill_value = 0)),\n",
    "                     ('scaler', StandardScaler()), (model, ml_models[model])])\n",
    "        else:\n",
    "            \n",
    "            pipe = Pipeline([(\"imputer\", SimpleImputer(fill_value = 0)),\n",
    "                     ('minmax',MinMaxScaler()), (model, ml_models[model])])\n",
    "        \n",
    "        start_train = time.time()\n",
    "        pipe.fit(X_train, y_train)\n",
    "        train_time = round(time.time()-start_train,1)\n",
    "        \n",
    "        accuracy = accuracy_score(y_test,pipe.predict(X_test))\n",
    "        recall = recall_score(y_test,pipe.predict(X_test), average=None)\n",
    "        precision = precision_score(y_test,pipe.predict(X_test), average=None)\n",
    "        f1 = f1_score(y_test,pipe.predict(X_test), average=None)\n",
    "        \n",
    "        print('*'*20)\n",
    "        print(f'Scores of {model}:')\n",
    "        print('*'*20)\n",
    "        print(f'Train time: {train_time}s')\n",
    "        print(f'Accuracy score: {accuracy}')\n",
    "        print('\\n')\n",
    "        print(f'Recall score: {recall}')\n",
    "        print('\\n')\n",
    "        print(f'Precision score: {precision}')\n",
    "        print('\\n')\n",
    "        print(f'F1 score: {f1}')\n",
    "        print('\\n')\n",
    "    "
   ]
  },
  {
   "cell_type": "code",
   "execution_count": 54,
   "metadata": {
    "ExecuteTime": {
     "end_time": "2020-06-01T09:57:13.946371Z",
     "start_time": "2020-06-01T09:55:57.814951Z"
    },
    "scrolled": false
   },
   "outputs": [
    {
     "name": "stdout",
     "output_type": "stream",
     "text": [
      "********************\n",
      "Scores of knc:\n",
      "********************\n",
      "Train time: 0.6s\n",
      "Accuracy score: 0.9212927756653992\n",
      "\n",
      "\n",
      "Recall score: [0.89037433 0.97887324 0.97250859 0.99122807 0.86021505 0.88588589\n",
      " 0.99693252 0.88888889 0.9375     0.9        0.88       0.68292683\n",
      " 0.52380952]\n",
      "\n",
      "\n",
      "Precision score: [0.94468085 0.85276074 0.98951049 0.99559471 0.90566038 0.84045584\n",
      " 0.98484848 0.88888889 0.9375     0.64285714 0.66666667 0.93333333\n",
      " 0.73333333]\n",
      "\n",
      "\n",
      "F1 score: [0.91672402 0.91147541 0.98093588 0.99340659 0.88235294 0.8625731\n",
      " 0.99085366 0.88888889 0.9375     0.75       0.75862069 0.78873239\n",
      " 0.61111111]\n",
      "\n",
      "\n",
      "********************\n",
      "Scores of lr:\n",
      "********************\n",
      "Train time: 11.9s\n",
      "Accuracy score: 0.9444866920152091\n",
      "\n",
      "\n",
      "Recall score: [0.91176471 0.97183099 0.9862543  0.99122807 0.94265233 0.9009009\n",
      " 0.99693252 0.94444444 0.9375     0.8        0.84       0.87804878\n",
      " 0.95238095]\n",
      "\n",
      "\n",
      "Precision score: [0.95786517 0.92307692 0.99652778 0.9826087  0.92932862 0.85714286\n",
      " 0.98784195 0.94444444 1.         0.84210526 0.91304348 0.9\n",
      " 0.83333333]\n",
      "\n",
      "\n",
      "F1 score: [0.93424658 0.94682676 0.99136442 0.98689956 0.93594306 0.87847731\n",
      " 0.99236641 0.94444444 0.96774194 0.82051282 0.875      0.88888889\n",
      " 0.88888889]\n",
      "\n",
      "\n",
      "********************\n",
      "Scores of svc:\n",
      "********************\n",
      "Train time: 5.1s\n",
      "Accuracy score: 0.94106463878327\n",
      "\n",
      "\n",
      "Recall score: [0.90641711 0.98591549 0.9862543  0.99122807 0.91397849 0.90690691\n",
      " 0.98773006 0.88888889 0.875      0.95       0.84       0.87804878\n",
      " 0.9047619 ]\n",
      "\n",
      "\n",
      "Precision score: [0.94428969 0.92715232 1.         0.99122807 0.92727273 0.84357542\n",
      " 0.99076923 0.88888889 1.         0.9047619  0.875      0.97297297\n",
      " 0.82608696]\n",
      "\n",
      "\n",
      "F1 score: [0.92496589 0.9556314  0.99307958 0.99122807 0.92057762 0.87409551\n",
      " 0.98924731 0.88888889 0.93333333 0.92682927 0.85714286 0.92307692\n",
      " 0.86363636]\n",
      "\n",
      "\n",
      "********************\n",
      "Scores of rfc:\n",
      "********************\n",
      "Train time: 9.4s\n",
      "Accuracy score: 0.9460076045627377\n",
      "\n",
      "\n",
      "Recall score: [0.92245989 0.97183099 0.97594502 0.98684211 0.96774194 0.91591592\n",
      " 0.99693252 0.72222222 0.9375     0.75       0.84       0.75609756\n",
      " 0.85714286]\n",
      "\n",
      "\n",
      "Precision score: [0.93117409 0.93877551 0.98611111 0.97826087 0.96428571 0.89181287\n",
      " 0.99085366 0.92857143 1.         0.83333333 0.84       0.93939394\n",
      " 0.81818182]\n",
      "\n",
      "\n",
      "F1 score: [0.92679651 0.9550173  0.98100173 0.98253275 0.96601073 0.9037037\n",
      " 0.99388379 0.8125     0.96774194 0.78947368 0.84       0.83783784\n",
      " 0.8372093 ]\n",
      "\n",
      "\n",
      "********************\n",
      "Scores of nb:\n",
      "********************\n",
      "Train time: 0.1s\n",
      "Accuracy score: 0.7730038022813688\n",
      "\n",
      "\n",
      "Recall score: [0.69919786 0.77816901 0.76975945 0.84210526 0.81003584 0.78078078\n",
      " 0.97239264 0.05555556 0.3125     0.85       0.64       0.53658537\n",
      " 0.42857143]\n",
      "\n",
      "\n",
      "Precision score: [0.79969419 0.66167665 0.79432624 0.92307692 0.81003584 0.68062827\n",
      " 0.90571429 0.2        0.35714286 0.5483871  0.59259259 0.47826087\n",
      " 0.5       ]\n",
      "\n",
      "\n",
      "F1 score: [0.74607703 0.71521036 0.78184991 0.88073394 0.81003584 0.72727273\n",
      " 0.93786982 0.08695652 0.33333333 0.66666667 0.61538462 0.50574713\n",
      " 0.46153846]\n",
      "\n",
      "\n",
      "********************\n",
      "Scores of bc:\n",
      "********************\n",
      "Train time: 14.1s\n",
      "Accuracy score: 0.9277566539923955\n",
      "\n",
      "\n",
      "Recall score: [0.90641711 0.91549296 0.95876289 0.97368421 0.95698925 0.8978979\n",
      " 0.99693252 0.61111111 0.9375     0.9        0.76       0.75609756\n",
      " 0.76190476]\n",
      "\n",
      "\n",
      "Precision score: [0.89920424 0.9252669  0.95876289 0.96521739 0.93031359 0.88988095\n",
      " 0.99388379 0.91666667 0.9375     0.85714286 0.82608696 0.91176471\n",
      " 0.88888889]\n",
      "\n",
      "\n",
      "F1 score: [0.90279627 0.92035398 0.95876289 0.96943231 0.9434629  0.89387145\n",
      " 0.99540582 0.73333333 0.9375     0.87804878 0.79166667 0.82666667\n",
      " 0.82051282]\n",
      "\n",
      "\n"
     ]
    }
   ],
   "source": [
    "initial_model(X_train,X_test,y_train[\"activity\"],y_test[\"activity\"],ml_models)"
   ]
  },
  {
   "cell_type": "markdown",
   "metadata": {},
   "source": [
    "## Final model"
   ]
  },
  {
   "cell_type": "markdown",
   "metadata": {},
   "source": [
    "In the initial test, in the previous section I tried out some of the classification models in sklearn. There are some model with really high accuracy. Most of the models without any parameter tuning, show us a high accuracy. The fastest model was the `Naive Bayes` but the accuracy wasn't so high. The `Random Forest Classifier` has the highest accuracy score, and the calculation speed is not so bad. I will test out this model. "
   ]
  },
  {
   "cell_type": "markdown",
   "metadata": {},
   "source": [
    "### RandomForestClassifier "
   ]
  },
  {
   "cell_type": "code",
   "execution_count": 257,
   "metadata": {
    "ExecuteTime": {
     "end_time": "2020-05-31T19:07:12.528190Z",
     "start_time": "2020-05-31T19:07:12.521195Z"
    }
   },
   "outputs": [],
   "source": [
    "rfc_params = {'rfc__n_estimators' : [100],\n",
    "              'rfc__max_depth' : [2, 20, 50],\n",
    "              'rfc__min_samples_split' : [2, 5, 10],\n",
    "              'rfc__min_samples_leaf' : [1, 2, 10]} "
   ]
  },
  {
   "cell_type": "code",
   "execution_count": 258,
   "metadata": {
    "ExecuteTime": {
     "end_time": "2020-05-31T19:07:17.080148Z",
     "start_time": "2020-05-31T19:07:17.072149Z"
    }
   },
   "outputs": [],
   "source": [
    " def random_search(model, params):\n",
    "        \n",
    "    pipe = Pipeline([(\"imputer\", SimpleImputer(fill_value = 0)),\n",
    "                     ('scaler', StandardScaler()), (\"rfc\", model)])\n",
    "                     \n",
    "    search = GridSearchCV(pipe, param_grid=params)\n",
    "    \n",
    "    return search"
   ]
  },
  {
   "cell_type": "code",
   "execution_count": 259,
   "metadata": {
    "ExecuteTime": {
     "end_time": "2020-05-31T19:07:17.863400Z",
     "start_time": "2020-05-31T19:07:17.858382Z"
    }
   },
   "outputs": [],
   "source": [
    "model = random_search(RandomForestClassifier(),rfc_params)"
   ]
  },
  {
   "cell_type": "code",
   "execution_count": null,
   "metadata": {},
   "outputs": [],
   "source": []
  },
  {
   "cell_type": "code",
   "execution_count": 260,
   "metadata": {
    "ExecuteTime": {
     "end_time": "2020-05-31T19:18:20.790161Z",
     "start_time": "2020-05-31T19:07:20.429154Z"
    },
    "scrolled": false
   },
   "outputs": [
    {
     "data": {
      "text/plain": [
       "GridSearchCV(estimator=Pipeline(steps=[('imputer', SimpleImputer(fill_value=0)),\n",
       "                                       ('scaler', StandardScaler()),\n",
       "                                       ('rfc', RandomForestClassifier())]),\n",
       "             param_grid={'rfc__max_depth': [2, 20, 50],\n",
       "                         'rfc__min_samples_leaf': [1, 2, 10],\n",
       "                         'rfc__min_samples_split': [2, 5, 10],\n",
       "                         'rfc__n_estimators': [100]})"
      ]
     },
     "execution_count": 260,
     "metadata": {},
     "output_type": "execute_result"
    }
   ],
   "source": [
    "model.fit(X_train,y_train['activity'])"
   ]
  },
  {
   "cell_type": "code",
   "execution_count": 262,
   "metadata": {
    "ExecuteTime": {
     "end_time": "2020-05-31T19:21:07.343181Z",
     "start_time": "2020-05-31T19:21:07.335186Z"
    }
   },
   "outputs": [
    {
     "data": {
      "text/plain": [
       "{'rfc__max_depth': 50,\n",
       " 'rfc__min_samples_leaf': 1,\n",
       " 'rfc__min_samples_split': 5,\n",
       " 'rfc__n_estimators': 100}"
      ]
     },
     "execution_count": 262,
     "metadata": {},
     "output_type": "execute_result"
    }
   ],
   "source": [
    "model.best_params_"
   ]
  },
  {
   "cell_type": "code",
   "execution_count": 55,
   "metadata": {
    "ExecuteTime": {
     "end_time": "2020-06-01T09:57:39.892522Z",
     "start_time": "2020-06-01T09:57:30.494882Z"
    }
   },
   "outputs": [
    {
     "data": {
      "text/plain": [
       "Pipeline(steps=[('imputer', SimpleImputer(fill_value=0)),\n",
       "                ('scaler', StandardScaler()),\n",
       "                ('rfc', RandomForestClassifier())])"
      ]
     },
     "execution_count": 55,
     "metadata": {},
     "output_type": "execute_result"
    }
   ],
   "source": [
    "rfc = RandomForestClassifier()\n",
    "model = Pipeline([(\"imputer\", SimpleImputer(fill_value = 0)),\n",
    "                 ('scaler', StandardScaler()), (\"rfc\", rfc)])\n",
    "                     \n",
    "model.fit(X_train,y_train['activity'])"
   ]
  },
  {
   "cell_type": "code",
   "execution_count": 56,
   "metadata": {
    "ExecuteTime": {
     "end_time": "2020-06-01T09:57:40.761005Z",
     "start_time": "2020-06-01T09:57:40.150356Z"
    }
   },
   "outputs": [
    {
     "name": "stdout",
     "output_type": "stream",
     "text": [
      "********************\n",
      "Scores of Pipeline(steps=[('imputer', SimpleImputer(fill_value=0)),\n",
      "                ('scaler', StandardScaler()),\n",
      "                ('rfc', RandomForestClassifier())]):\n",
      "********************\n",
      "Train time: 0.0s\n",
      "Accuracy score: 0.9452471482889734\n",
      "\n",
      "\n",
      "Recall score: [0.92780749 0.95070423 0.97938144 0.98245614 0.96415771 0.91591592\n",
      " 0.99693252 0.72222222 0.9375     0.8        0.76       0.80487805\n",
      " 0.85714286]\n",
      "\n",
      "\n",
      "Precision score: [0.9241012  0.93425606 0.99303136 0.97816594 0.97111913 0.89181287\n",
      " 0.99085366 0.92857143 1.         0.88888889 0.82608696 0.97058824\n",
      " 0.7826087 ]\n",
      "\n",
      "\n",
      "F1 score: [0.92595063 0.94240838 0.98615917 0.98030635 0.9676259  0.9037037\n",
      " 0.99388379 0.8125     0.96774194 0.84210526 0.79166667 0.88\n",
      " 0.81818182]\n",
      "\n",
      "\n"
     ]
    }
   ],
   "source": [
    "start_train = time.time()\n",
    "train_time = round(time.time()-start_train,1)\n",
    "\n",
    "accuracy = accuracy_score(y_test,model.predict(X_test))\n",
    "recall = recall_score(y_test,model.predict(X_test), average=None)\n",
    "precision = precision_score(y_test,model.predict(X_test), average=None)\n",
    "f1 = f1_score(y_test,model.predict(X_test), average=None)\n",
    "\n",
    "print('*'*20)\n",
    "print(f'Scores of {model}:')\n",
    "print('*'*20)\n",
    "print(f'Train time: {train_time}s')\n",
    "print(f'Accuracy score: {accuracy}')\n",
    "print('\\n')\n",
    "print(f'Recall score: {recall}')\n",
    "print('\\n')\n",
    "print(f'Precision score: {precision}')\n",
    "print('\\n')\n",
    "print(f'F1 score: {f1}')\n",
    "print('\\n')\n",
    "    "
   ]
  },
  {
   "cell_type": "code",
   "execution_count": 43,
   "metadata": {
    "ExecuteTime": {
     "end_time": "2020-06-01T09:07:33.957824Z",
     "start_time": "2020-06-01T09:07:23.686701Z"
    }
   },
   "outputs": [],
   "source": [
    "scores = cross_val_score(model, X_train, y_train[\"activity\"], cv=3)"
   ]
  },
  {
   "cell_type": "code",
   "execution_count": 44,
   "metadata": {
    "ExecuteTime": {
     "end_time": "2020-06-01T09:07:36.108271Z",
     "start_time": "2020-06-01T09:07:36.099277Z"
    }
   },
   "outputs": [
    {
     "name": "stdout",
     "output_type": "stream",
     "text": [
      "Accuracy of the model: 78.95% ±1.11%\n"
     ]
    }
   ],
   "source": [
    "print('Accuracy of the model: {}% ±{}%'.format(round(np.mean(scores)*100,2), round(np.std(scores)*100,2)))"
   ]
  },
  {
   "cell_type": "code",
   "execution_count": 57,
   "metadata": {
    "ExecuteTime": {
     "end_time": "2020-06-01T09:57:46.800225Z",
     "start_time": "2020-06-01T09:57:45.372042Z"
    }
   },
   "outputs": [
    {
     "data": {
      "text/plain": [
       "<matplotlib.axes._subplots.AxesSubplot at 0x15dd7a4fd88>"
      ]
     },
     "execution_count": 57,
     "metadata": {},
     "output_type": "execute_result"
    },
    {
     "data": {
      "image/png": "[encoded data removed]",
      "text/plain": [
       "<Figure size 1152x720 with 2 Axes>"
      ]
     },
     "metadata": {
      "needs_background": "light"
     },
     "output_type": "display_data"
    }
   ],
   "source": [
    "plt.figure(figsize=(16,10))\n",
    "sns.heatmap(confusion_matrix(y_test,model.predict(X_test)), annot=True, cmap=\"viridis\",\n",
    "            xticklabels=[\"No_Activity\",\"WALKING\",\n",
    "                       \"WALKING_UPSTAIRS\",\n",
    "                       \"WALKING_DOWNSTAIRS\",\n",
    "                       \"SITTING\",\n",
    "                       \"STANDING\",\n",
    "                       \"LAYING\",\n",
    "                       \"STAND_TO_SIT\",\n",
    "                       \"SIT_TO_STAND\",\n",
    "                       \"SIT_TO_LIE\",\n",
    "                       \"LIE_TO_SIT\",\n",
    "                       \"STAND_TO_LIE\",\n",
    "                       \"LIE_TO_STAND\"],\n",
    "            yticklabels=['NO_Activity',\"WALKING\",\n",
    "                       \"WALKING_UPSTAIRS\",\n",
    "                       \"WALKING_DOWNSTAIRS\",\n",
    "                       \"SITTING\",\n",
    "                       \"STANDING\",\n",
    "                       \"LAYING\",\n",
    "                       \"STAND_TO_SIT\",\n",
    "                       \"SIT_TO_STAND\",\n",
    "                       \"SIT_TO_LIE\",\n",
    "                       \"LIE_TO_SIT\",\n",
    "                       \"STAND_TO_LIE\",\n",
    "                       \"LIE_TO_STAND\"])"
   ]
  },
  {
   "cell_type": "markdown",
   "metadata": {},
   "source": [
    "###  Saving the final model"
   ]
  },
  {
   "cell_type": "code",
   "execution_count": 58,
   "metadata": {
    "ExecuteTime": {
     "end_time": "2020-06-01T09:57:51.812767Z",
     "start_time": "2020-06-01T09:57:51.807772Z"
    }
   },
   "outputs": [],
   "source": [
    "import joblib"
   ]
  },
  {
   "cell_type": "code",
   "execution_count": 60,
   "metadata": {
    "ExecuteTime": {
     "end_time": "2020-06-01T09:58:47.606926Z",
     "start_time": "2020-06-01T09:58:47.601926Z"
    }
   },
   "outputs": [],
   "source": [
    "def save_model():\n",
    "    '''Save the model to disk'''\n",
    "    \n",
    "    filename = '../models/har_model_v06.sav'\n",
    "    joblib.dump(model, filename)\n",
    "    readme = open('../models/ml_model_v06.txt', 'w')\n",
    "    readme.write('Ml model with rfc, there is 50% overlap. Blocks from the original data.')\n",
    "    readme.close()"
   ]
  },
  {
   "cell_type": "code",
   "execution_count": 61,
   "metadata": {
    "ExecuteTime": {
     "end_time": "2020-06-01T09:58:48.934823Z",
     "start_time": "2020-06-01T09:58:48.820887Z"
    }
   },
   "outputs": [],
   "source": [
    "save_model()"
   ]
  },
  {
   "cell_type": "code",
   "execution_count": 62,
   "metadata": {
    "ExecuteTime": {
     "end_time": "2020-06-01T09:58:50.424694Z",
     "start_time": "2020-06-01T09:58:50.415700Z"
    }
   },
   "outputs": [
    {
     "data": {
      "text/plain": [
       "[('acc_x_FFT', 'peak_mean_6'),\n",
       " ('acc_x_FFT', 'peak_mean_8'),\n",
       " ('acc_x_FFT', 'peak_mean_12'),\n",
       " ('acc_y_FFT', 'peak_mean_6'),\n",
       " ('acc_y_FFT', 'peak_mean_8'),\n",
       " ('acc_y_FFT', 'peak_mean_12'),\n",
       " ('acc_z_FFT', 'peak_mean_6'),\n",
       " ('acc_z_FFT', 'peak_mean_8'),\n",
       " ('acc_z_FFT', 'peak_mean_12'),\n",
       " ('gyro_x_FFT', 'peak_mean_6'),\n",
       " ('gyro_x_FFT', 'peak_mean_8'),\n",
       " ('gyro_x_FFT', 'peak_mean_12'),\n",
       " ('gyro_y_FFT', 'peak_mean_6'),\n",
       " ('gyro_y_FFT', 'peak_mean_8'),\n",
       " ('gyro_y_FFT', 'peak_mean_12'),\n",
       " ('gyro_z_FFT', 'peak_mean_6'),\n",
       " ('gyro_z_FFT', 'peak_mean_8'),\n",
       " ('gyro_z_FFT', 'peak_mean_12')]"
      ]
     },
     "execution_count": 62,
     "metadata": {},
     "output_type": "execute_result"
    }
   ],
   "source": [
    "features_to_drop"
   ]
  },
  {
   "cell_type": "code",
   "execution_count": null,
   "metadata": {},
   "outputs": [],
   "source": []
  }
 ],
 "metadata": {
  "kernelspec": {
   "display_name": "Python 3",
   "language": "python",
   "name": "python3"
  },
  "language_info": {
   "codemirror_mode": {
    "name": "ipython",
    "version": 3
   },
   "file_extension": ".py",
   "mimetype": "text/x-python",
   "name": "python",
   "nbconvert_exporter": "python",
   "pygments_lexer": "ipython3",
   "version": "3.7.5"
  },
  "notify_time": "10",
  "toc": {
   "base_numbering": 1,
   "nav_menu": {},
   "number_sections": true,
   "sideBar": true,
   "skip_h1_title": false,
   "title_cell": "Table of Contents",
   "title_sidebar": "Contents",
   "toc_cell": false,
   "toc_position": {},
   "toc_section_display": true,
   "toc_window_display": true
  },
  "varInspector": {
   "cols": {
    "lenName": 16,
    "lenType": 16,
    "lenVar": 40
   },
   "kernels_config": {
    "python": {
     "delete_cmd_postfix": "",
     "delete_cmd_prefix": "del ",
     "library": "var_list.py",
     "varRefreshCmd": "print(var_dic_list())"
    },
    "r": {
     "delete_cmd_postfix": ") ",
     "delete_cmd_prefix": "rm(",
     "library": "var_list.r",
     "varRefreshCmd": "cat(var_dic_list()) "
    }
   },
   "types_to_exclude": [
    "module",
    "function",
    "builtin_function_or_method",
    "instance",
    "_Feature"
   ],
   "window_display": false
  }
 },
 "nbformat": 4,
 "nbformat_minor": 4
}
