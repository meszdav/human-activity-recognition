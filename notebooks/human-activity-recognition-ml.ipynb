{
 "cells": [
  {
   "cell_type": "markdown",
   "metadata": {},
   "source": [
    "## Import dependencies"
   ]
  },
  {
   "cell_type": "code",
   "execution_count": 169,
   "metadata": {
    "ExecuteTime": {
     "end_time": "2020-05-31T10:24:10.233655Z",
     "start_time": "2020-05-31T10:24:10.218666Z"
    }
   },
   "outputs": [],
   "source": [
    "import pandas as pd\n",
    "import seaborn as sns\n",
    "import time\n",
    "\n",
    "import matplotlib.pyplot as plt\n",
    "\n",
    "from sklearn.model_selection import train_test_split\n",
    "\n",
    "from sklearn.neighbors import KNeighborsClassifier\n",
    "from sklearn.naive_bayes import MultinomialNB\n",
    "from sklearn.linear_model import LogisticRegression\n",
    "from sklearn.svm import SVC\n",
    "from sklearn.ensemble import GradientBoostingClassifier, VotingClassifier, BaggingClassifier\n",
    "from sklearn.ensemble import RandomForestClassifier\n",
    "\n",
    "\n",
    "\n",
    "from sklearn.metrics import accuracy_score, recall_score, precision_score, f1_score\n",
    "from sklearn.model_selection import cross_val_score\n",
    "from sklearn.pipeline import Pipeline\n",
    "from sklearn.impute import SimpleImputer\n",
    "from sklearn.preprocessing import StandardScaler, MinMaxScaler\n",
    "from sklearn.model_selection import GridSearchCV"
   ]
  },
  {
   "cell_type": "markdown",
   "metadata": {},
   "source": [
    "## Read data"
   ]
  },
  {
   "cell_type": "code",
   "execution_count": 170,
   "metadata": {
    "ExecuteTime": {
     "end_time": "2020-05-31T10:24:11.880097Z",
     "start_time": "2020-05-31T10:24:10.751744Z"
    }
   },
   "outputs": [],
   "source": [
    "X_train = pd.read_csv(\"../data/X_train.csv\",header=[0,1],index_col=0)\n",
    "X_test = pd.read_csv(\"../data/X_test.csv\",header=[0,1],index_col=0)\n",
    "y_train = pd.read_csv(\"../data/y_train.csv\",index_col=0)\n",
    "y_test = pd.read_csv(\"../data/y_test.csv\",index_col=0)"
   ]
  },
  {
   "cell_type": "code",
   "execution_count": 171,
   "metadata": {
    "ExecuteTime": {
     "end_time": "2020-05-31T10:24:12.208895Z",
     "start_time": "2020-05-31T10:24:12.198899Z"
    }
   },
   "outputs": [],
   "source": [
    "def find_na(df):\n",
    "    \n",
    "    features_to_drop = []\n",
    "    \n",
    "    for i in df.columns:\n",
    "        \n",
    "        if df[i].isna().sum() > len(df)*0.2:\n",
    "            features_to_drop.append(i)\n",
    "    \n",
    "    return features_to_drop"
   ]
  },
  {
   "cell_type": "code",
   "execution_count": 172,
   "metadata": {
    "ExecuteTime": {
     "end_time": "2020-05-31T10:24:12.446757Z",
     "start_time": "2020-05-31T10:24:12.438761Z"
    }
   },
   "outputs": [],
   "source": [
    "def drop_features(df,features_to_drop):\n",
    "    \n",
    "    df.drop(features_to_drop, axis = 1, inplace = True)\n",
    "    \n",
    "    return df"
   ]
  },
  {
   "cell_type": "markdown",
   "metadata": {},
   "source": [
    "### Drop nas"
   ]
  },
  {
   "cell_type": "markdown",
   "metadata": {},
   "source": [
    "#### Train data"
   ]
  },
  {
   "cell_type": "code",
   "execution_count": 173,
   "metadata": {
    "ExecuteTime": {
     "end_time": "2020-05-31T10:24:12.857521Z",
     "start_time": "2020-05-31T10:24:12.680624Z"
    }
   },
   "outputs": [],
   "source": [
    "features_to_drop = find_na(X_train)\n",
    "X_train = drop_features(X_train,features_to_drop)"
   ]
  },
  {
   "cell_type": "markdown",
   "metadata": {},
   "source": [
    "#### Test data "
   ]
  },
  {
   "cell_type": "code",
   "execution_count": 174,
   "metadata": {
    "ExecuteTime": {
     "end_time": "2020-05-31T10:24:13.871626Z",
     "start_time": "2020-05-31T10:24:13.734706Z"
    }
   },
   "outputs": [],
   "source": [
    "features_to_drop = find_na(X_test)\n",
    "X_test = drop_features(X_test,features_to_drop)"
   ]
  },
  {
   "cell_type": "markdown",
   "metadata": {},
   "source": [
    "## Build pipeline"
   ]
  },
  {
   "cell_type": "markdown",
   "metadata": {},
   "source": [
    "### Select classifier "
   ]
  },
  {
   "cell_type": "markdown",
   "metadata": {},
   "source": [
    "First, I test some classifier, than I can choose one for parameter optimization to get better results."
   ]
  },
  {
   "cell_type": "code",
   "execution_count": 176,
   "metadata": {
    "ExecuteTime": {
     "end_time": "2020-05-31T10:24:44.012816Z",
     "start_time": "2020-05-31T10:24:44.003824Z"
    }
   },
   "outputs": [],
   "source": [
    "knc = KNeighborsClassifier()\n",
    "lr = LogisticRegression(solver=\"newton-cg\")\n",
    "svc = SVC()\n",
    "rfc = RandomForestClassifier()\n",
    "nbc = MultinomialNB()\n",
    "gbc = GradientBoostingClassifier()\n",
    "bc = BaggingClassifier()\n",
    "\n",
    "ml_models = models = {\"knc\": knc, \"lr\": lr, \"svc\": svc, \"rfc\": rfc,\n",
    "                      'nb' : MultinomialNB(), 'gbc' : GradientBoostingClassifier(),\n",
    "                       'bc' : BaggingClassifier()}"
   ]
  },
  {
   "cell_type": "code",
   "execution_count": 177,
   "metadata": {
    "ExecuteTime": {
     "end_time": "2020-05-31T10:24:46.322867Z",
     "start_time": "2020-05-31T10:24:46.302876Z"
    }
   },
   "outputs": [],
   "source": [
    "def initial_model(X_train, X_test, y_train, y_test, ml_models):\n",
    "    \n",
    "    \n",
    "    \n",
    "    for model in ml_models:\n",
    "          \n",
    "        if model != 'nb':\n",
    "            \n",
    "            pipe = Pipeline([(\"imputer\", SimpleImputer(fill_value = 0)),\n",
    "                     ('scaler', StandardScaler()), (model, ml_models[model])])\n",
    "        else:\n",
    "            \n",
    "            pipe = Pipeline([(\"imputer\", SimpleImputer(fill_value = 0)),\n",
    "                     ('minmax',MinMaxScaler()), (model, ml_models[model])])\n",
    "        \n",
    "        start_train = time.time()\n",
    "        pipe.fit(X_train, y_train)\n",
    "        train_time = round(time.time()-start_train,1)\n",
    "        \n",
    "        accuracy = accuracy_score(y_test,pipe.predict(X_test))\n",
    "        recall = recall_score(y_test,pipe.predict(X_test), average=None)\n",
    "        precision = precision_score(y_test,pipe.predict(X_test), average=None)\n",
    "        f1 = f1_score(y_test,pipe.predict(X_test), average=None)\n",
    "        \n",
    "        print('*'*20)\n",
    "        print(f'Scores of {model}:')\n",
    "        print('*'*20)\n",
    "        print(f'Train time: {train_time}s')\n",
    "        print(f'Accuracy score: {accuracy}')\n",
    "        print('\\n')\n",
    "        print(f'Recall score: {recall}')\n",
    "        print('\\n')\n",
    "        print(f'Precision score: {precision}')\n",
    "        print('\\n')\n",
    "        print(f'F1 score: {f1}')\n",
    "        print('\\n')\n",
    "    "
   ]
  },
  {
   "cell_type": "code",
   "execution_count": 178,
   "metadata": {
    "ExecuteTime": {
     "end_time": "2020-05-31T10:37:39.419402Z",
     "start_time": "2020-05-31T10:24:46.856658Z"
    },
    "scrolled": false
   },
   "outputs": [
    {
     "name": "stdout",
     "output_type": "stream",
     "text": [
      "********************\n",
      "Scores of knc:\n",
      "********************\n",
      "Train time: 0.7s\n",
      "Accuracy score: 0.948269711023903\n",
      "\n",
      "\n",
      "Recall score: [0.99307159 0.99240506 0.98060942 0.83936652 0.93644068 0.99789916\n",
      " 0.97142857 0.84615385 0.87804878 0.85294118 0.875      0.775     ]\n",
      "\n",
      "\n",
      "Precision score: [0.97505669 0.98492462 0.99159664 0.92982456 0.86328125 0.99789916\n",
      " 0.91891892 1.         0.87804878 0.80555556 0.875      0.86111111]\n",
      "\n",
      "\n",
      "F1 score: [0.98398169 0.98865069 0.98607242 0.882283   0.89837398 0.99789916\n",
      " 0.94444444 0.91666667 0.87804878 0.82857143 0.875      0.81578947]\n",
      "\n",
      "\n",
      "********************\n",
      "Scores of lr:\n",
      "********************\n",
      "Train time: 11.1s\n",
      "Accuracy score: 0.9721726721369961\n",
      "\n",
      "\n",
      "Recall score: [0.99769053 0.99493671 0.99445983 0.91628959 0.95338983 0.99789916\n",
      " 0.94285714 1.         0.92682927 0.97058824 0.9375     0.9       ]\n",
      "\n",
      "\n",
      "Precision score: [0.98855835 0.99746193 1.         0.94847775 0.92592593 0.99789916\n",
      " 1.         1.         0.92682927 0.94285714 0.86538462 0.97297297]\n",
      "\n",
      "\n",
      "F1 score: [0.99310345 0.99619772 0.99722222 0.93210587 0.9394572  0.99789916\n",
      " 0.97058824 1.         0.92682927 0.95652174 0.9        0.93506494]\n",
      "\n",
      "\n",
      "********************\n",
      "Scores of svc:\n",
      "********************\n",
      "Train time: 4.3s\n",
      "Accuracy score: 0.967891544773457\n",
      "\n",
      "\n",
      "Recall score: [1.         0.99746835 0.99722992 0.90497738 0.94491525 0.99789916\n",
      " 1.         0.88461538 0.87804878 0.94117647 0.95833333 0.825     ]\n",
      "\n",
      "\n",
      "Precision score: [0.99311927 0.98994975 1.         0.93896714 0.91958763 0.99580713\n",
      " 1.         1.         0.94736842 0.88888889 0.86792453 0.91666667]\n",
      "\n",
      "\n",
      "F1 score: [0.99654776 0.99369483 0.99861304 0.92165899 0.93207941 0.99685205\n",
      " 1.         0.93877551 0.91139241 0.91428571 0.91089109 0.86842105]\n",
      "\n",
      "\n",
      "********************\n",
      "Scores of rfc:\n",
      "********************\n",
      "Train time: 9.2s\n",
      "Accuracy score: 0.9850160542276133\n",
      "\n",
      "\n",
      "Recall score: [0.99769053 0.99746835 1.         0.95927602 0.9809322  1.\n",
      " 1.         0.96153846 0.97560976 0.88235294 0.9375     0.9       ]\n",
      "\n",
      "\n",
      "Precision score: [1.         0.99244332 0.99723757 0.97921478 0.96257796 1.\n",
      " 1.         1.         0.90909091 0.90909091 0.9375     0.97297297]\n",
      "\n",
      "\n",
      "F1 score: [0.99884393 0.99494949 0.99861687 0.96914286 0.97166842 1.\n",
      " 1.         0.98039216 0.94117647 0.89552239 0.9375     0.93506494]\n",
      "\n",
      "\n",
      "********************\n",
      "Scores of nb:\n",
      "********************\n",
      "Train time: 0.1s\n",
      "Accuracy score: 0.8358901177310025\n",
      "\n",
      "\n",
      "Recall score: [0.89376443 0.75696203 0.85041551 0.76923077 0.8220339  0.9789916\n",
      " 0.57142857 0.61538462 0.87804878 0.64705882 0.72916667 0.675     ]\n",
      "\n",
      "\n",
      "Precision score: [0.6886121  0.82142857 0.93030303 0.85427136 0.80665281 0.99148936\n",
      " 0.8        0.88888889 0.85714286 0.70967742 0.83333333 0.675     ]\n",
      "\n",
      "\n",
      "F1 score: [0.77788945 0.78787879 0.88856729 0.80952381 0.81427072 0.98520085\n",
      " 0.66666667 0.72727273 0.86746988 0.67692308 0.77777778 0.675     ]\n",
      "\n",
      "\n",
      "********************\n",
      "Scores of gbc:\n",
      "********************\n",
      "Train time: 687.0s\n",
      "Accuracy score: 0.978951123795933\n",
      "\n",
      "\n",
      "Recall score: [1.         0.99240506 1.         0.97285068 0.98516949 1.\n",
      " 0.85714286 0.80769231 0.87804878 0.76470588 0.83333333 0.85      ]\n",
      "\n",
      "\n",
      "Precision score: [0.99311927 0.98492462 1.         0.97285068 0.97280335 1.\n",
      " 0.88235294 0.95454545 0.9        0.83870968 0.93023256 0.80952381]\n",
      "\n",
      "\n",
      "F1 score: [0.99654776 0.98865069 1.         0.97285068 0.97894737 1.\n",
      " 0.86956522 0.875      0.88888889 0.8        0.87912088 0.82926829]\n",
      "\n",
      "\n",
      "********************\n",
      "Scores of bc:\n",
      "********************\n",
      "Train time: 17.9s\n",
      "Accuracy score: 0.9636104174099179\n",
      "\n",
      "\n",
      "Recall score: [0.97921478 0.97721519 0.99722992 0.95022624 0.94279661 0.99579832\n",
      " 0.88571429 0.88461538 0.90243902 0.76470588 0.85416667 0.85      ]\n",
      "\n",
      "\n",
      "Precision score: [0.9837587  0.9821883  0.98630137 0.93959732 0.94882729 1.\n",
      " 0.91176471 1.         0.86046512 0.78787879 0.78846154 0.87179487]\n",
      "\n",
      "\n",
      "F1 score: [0.98148148 0.97969543 0.99173554 0.94488189 0.94580234 0.99789474\n",
      " 0.89855072 0.93877551 0.88095238 0.7761194  0.82       0.86075949]\n",
      "\n",
      "\n"
     ]
    }
   ],
   "source": [
    "initial_model(X_train,X_test,y_train[\"activity\"],y_test[\"activity\"],ml_models)"
   ]
  },
  {
   "cell_type": "markdown",
   "metadata": {},
   "source": [
    "## Final model"
   ]
  },
  {
   "cell_type": "markdown",
   "metadata": {},
   "source": [
    "In the initial test, in the previous section I tried out some of the classification models in sklearn. There are some model with really high accuracy. Most of the models without any parameter tuning, show us a high accuracy. The fastest model was the `Naive Bayes` but the accuracy wasn't so high. The Random Forest Classifier has the highest accuracy score is, and the calculation speed is not so bad. I will test out this model. "
   ]
  },
  {
   "cell_type": "code",
   "execution_count": null,
   "metadata": {},
   "outputs": [],
   "source": []
  }
 ],
 "metadata": {
  "kernelspec": {
   "display_name": "Python 3",
   "language": "python",
   "name": "python3"
  },
  "language_info": {
   "codemirror_mode": {
    "name": "ipython",
    "version": 3
   },
   "file_extension": ".py",
   "mimetype": "text/x-python",
   "name": "python",
   "nbconvert_exporter": "python",
   "pygments_lexer": "ipython3",
   "version": "3.7.5"
  },
  "toc": {
   "base_numbering": 1,
   "nav_menu": {},
   "number_sections": true,
   "sideBar": true,
   "skip_h1_title": false,
   "title_cell": "Table of Contents",
   "title_sidebar": "Contents",
   "toc_cell": false,
   "toc_position": {},
   "toc_section_display": true,
   "toc_window_display": false
  },
  "varInspector": {
   "cols": {
    "lenName": 16,
    "lenType": 16,
    "lenVar": 40
   },
   "kernels_config": {
    "python": {
     "delete_cmd_postfix": "",
     "delete_cmd_prefix": "del ",
     "library": "var_list.py",
     "varRefreshCmd": "print(var_dic_list())"
    },
    "r": {
     "delete_cmd_postfix": ") ",
     "delete_cmd_prefix": "rm(",
     "library": "var_list.r",
     "varRefreshCmd": "cat(var_dic_list()) "
    }
   },
   "types_to_exclude": [
    "module",
    "function",
    "builtin_function_or_method",
    "instance",
    "_Feature"
   ],
   "window_display": false
  }
 },
 "nbformat": 4,
 "nbformat_minor": 4
}
