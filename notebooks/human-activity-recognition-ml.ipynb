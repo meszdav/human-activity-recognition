{
 "cells": [
  {
   "cell_type": "markdown",
   "metadata": {},
   "source": [
    "## Import dependencies"
   ]
  },
  {
   "cell_type": "code",
   "execution_count": 76,
   "metadata": {
    "ExecuteTime": {
     "end_time": "2020-06-01T17:21:58.967442Z",
     "start_time": "2020-06-01T17:21:58.951468Z"
    }
   },
   "outputs": [],
   "source": [
    "import pandas as pd\n",
    "import seaborn as sns\n",
    "import time\n",
    "\n",
    "import matplotlib.pyplot as plt\n",
    "\n",
    "from sklearn.model_selection import train_test_split\n",
    "\n",
    "from sklearn.neighbors import KNeighborsClassifier\n",
    "from sklearn.naive_bayes import MultinomialNB\n",
    "from sklearn.linear_model import LogisticRegression\n",
    "from sklearn.svm import SVC\n",
    "from sklearn.ensemble import GradientBoostingClassifier, VotingClassifier, BaggingClassifier\n",
    "from sklearn.ensemble import RandomForestClassifier\n",
    "\n",
    "from sklearn.metrics import accuracy_score, recall_score, precision_score, f1_score\n",
    "from sklearn.model_selection import cross_val_score\n",
    "from sklearn.pipeline import Pipeline\n",
    "from sklearn.impute import SimpleImputer\n",
    "from sklearn.preprocessing import StandardScaler, MinMaxScaler\n",
    "from sklearn.model_selection import GridSearchCV\n",
    "from sklearn.metrics import confusion_matrix\n",
    "\n",
    "import joblib"
   ]
  },
  {
   "cell_type": "markdown",
   "metadata": {},
   "source": [
    "## Read data"
   ]
  },
  {
   "cell_type": "code",
   "execution_count": 97,
   "metadata": {
    "ExecuteTime": {
     "end_time": "2020-06-01T17:27:34.587183Z",
     "start_time": "2020-06-01T17:27:33.907576Z"
    }
   },
   "outputs": [],
   "source": [
    "X_train = pd.read_csv(\"../data/train_test/X_train.csv\",header=None)\n",
    "X_test = pd.read_csv(\"../data/train_test/X_test.csv\", header=None)\n",
    "y_train = pd.read_csv(\"../data/train_test/y_train.csv\", header=None)\n",
    "y_test = pd.read_csv(\"../data/train_test/y_test.csv\", header=None)\n",
    "\n",
    "X_train = X_train.to_numpy()\n",
    "X_test = X_test.to_numpy()\n",
    "y_train = y_train.to_numpy().reshape(-1,)\n",
    "y_test = y_test.to_numpy().reshape(-1,)"
   ]
  },
  {
   "cell_type": "markdown",
   "metadata": {},
   "source": [
    "## Build pipeline"
   ]
  },
  {
   "cell_type": "markdown",
   "metadata": {},
   "source": [
    "### Select classifier "
   ]
  },
  {
   "cell_type": "markdown",
   "metadata": {},
   "source": [
    "First, I test some classifier, than I can choose one for parameter optimization to get better results."
   ]
  },
  {
   "cell_type": "code",
   "execution_count": 96,
   "metadata": {
    "ExecuteTime": {
     "end_time": "2020-06-01T17:27:28.340117Z",
     "start_time": "2020-06-01T17:27:28.324127Z"
    }
   },
   "outputs": [],
   "source": [
    "\n",
    "knc = KNeighborsClassifier()\n",
    "lr = LogisticRegression(solver=\"newton-cg\")\n",
    "svc = SVC()\n",
    "rfc = RandomForestClassifier()\n",
    "nbc = MultinomialNB()\n",
    "#gbc = GradientBoostingClassifier()\n",
    "bc = BaggingClassifier()\n",
    "\n",
    "ml_models = models = {\"knc\": knc, \"lr\": lr, \"svc\": svc, \"rfc\": rfc,\n",
    "                      'nb' : MultinomialNB(),\n",
    "                       'bc' : BaggingClassifier()}"
   ]
  },
  {
   "cell_type": "code",
   "execution_count": 90,
   "metadata": {
    "ExecuteTime": {
     "end_time": "2020-06-01T17:24:12.291459Z",
     "start_time": "2020-06-01T17:24:12.277465Z"
    }
   },
   "outputs": [],
   "source": [
    "def initial_model(X_train, X_test, y_train, y_test, ml_models):\n",
    "    \n",
    "    \n",
    "    \n",
    "    for model in ml_models:\n",
    "          \n",
    "        if model != 'nb':\n",
    "            \n",
    "            pipe = Pipeline([(\"imputer\", SimpleImputer(fill_value = 0)),\n",
    "                     ('scaler', StandardScaler()), (model, ml_models[model])])\n",
    "        else:\n",
    "            \n",
    "            pipe = Pipeline([(\"imputer\", SimpleImputer(fill_value = 0)),\n",
    "                     ('minmax',MinMaxScaler()), (model, ml_models[model])])\n",
    "        \n",
    "        start_train = time.time()\n",
    "        pipe.fit(X_train, y_train)\n",
    "        train_time = round(time.time()-start_train,1)\n",
    "        \n",
    "        accuracy = accuracy_score(y_test,pipe.predict(X_test))\n",
    "        recall = recall_score(y_test,pipe.predict(X_test), average=None)\n",
    "        precision = precision_score(y_test,pipe.predict(X_test), average=None)\n",
    "        f1 = f1_score(y_test,pipe.predict(X_test), average=None)\n",
    "        \n",
    "        print('*'*20)\n",
    "        print(f'Scores of {model}:')\n",
    "        print('*'*20)\n",
    "        print(f'Train time: {train_time}s')\n",
    "        print(f'Accuracy score: {accuracy}')\n",
    "        print('\\n')\n",
    "        print(f'Recall score: {recall}')\n",
    "        print('\\n')\n",
    "        print(f'Precision score: {precision}')\n",
    "        print('\\n')\n",
    "        print(f'F1 score: {f1}')\n",
    "        print('\\n')\n",
    "    "
   ]
  },
  {
   "cell_type": "code",
   "execution_count": 91,
   "metadata": {
    "ExecuteTime": {
     "end_time": "2020-06-01T17:24:56.220586Z",
     "start_time": "2020-06-01T17:24:13.029311Z"
    },
    "scrolled": false
   },
   "outputs": [
    {
     "name": "stdout",
     "output_type": "stream",
     "text": [
      "********************\n",
      "Scores of knc:\n",
      "********************\n",
      "Train time: 0.4s\n",
      "Accuracy score: 0.8770277341705913\n",
      "\n",
      "\n",
      "Recall score: [0.97993311 0.94014085 0.91489362 0.77891156 0.89666667 0.99367089\n",
      " 0.6        0.5        0.61764706 0.43589744 0.41176471 0.36      ]\n",
      "\n",
      "\n",
      "Precision score: [0.85422741 0.91438356 0.96846847 0.8740458  0.81515152 0.98125\n",
      " 0.78947368 0.8125     0.58333333 0.62962963 0.60869565 0.42857143]\n",
      "\n",
      "\n",
      "F1 score: [0.91277259 0.92708333 0.94091904 0.82374101 0.85396825 0.98742138\n",
      " 0.68181818 0.61904762 0.6        0.51515152 0.49122807 0.39130435]\n",
      "\n",
      "\n",
      "********************\n",
      "Scores of lr:\n",
      "********************\n",
      "Train time: 6.4s\n",
      "Accuracy score: 0.9225536368393511\n",
      "\n",
      "\n",
      "Recall score: [0.97658863 0.96830986 0.96595745 0.86054422 0.94       0.99367089\n",
      " 0.8        0.53846154 0.70588235 0.53846154 0.64705882 0.76      ]\n",
      "\n",
      "\n",
      "Precision score: [0.96369637 0.95818815 0.97008547 0.93014706 0.88125    0.98432602\n",
      " 0.68965517 0.875      0.63157895 0.77777778 0.66666667 0.57575758]\n",
      "\n",
      "\n",
      "F1 score: [0.97009967 0.96322242 0.96801706 0.89399293 0.90967742 0.98897638\n",
      " 0.74074074 0.66666667 0.66666667 0.63636364 0.65671642 0.65517241]\n",
      "\n",
      "\n",
      "********************\n",
      "Scores of svc:\n",
      "********************\n",
      "Train time: 2.2s\n",
      "Accuracy score: 0.9105180533751962\n",
      "\n",
      "\n",
      "Recall score: [0.97658863 0.95774648 0.96595745 0.84353741 0.92333333 0.99367089\n",
      " 0.8        0.46153846 0.55882353 0.48717949 0.79411765 0.52      ]\n",
      "\n",
      "\n",
      "Precision score: [0.95737705 0.90066225 0.97844828 0.91512915 0.86024845 0.98742138\n",
      " 0.68965517 0.92307692 0.79166667 0.82608696 0.675      0.40625   ]\n",
      "\n",
      "\n",
      "F1 score: [0.96688742 0.92832765 0.97216274 0.87787611 0.89067524 0.99053628\n",
      " 0.74074074 0.61538462 0.65517241 0.61290323 0.72972973 0.45614035]\n",
      "\n",
      "\n",
      "********************\n",
      "Scores of rfc:\n",
      "********************\n",
      "Train time: 5.7s\n",
      "Accuracy score: 0.9293563579277865\n",
      "\n",
      "\n",
      "Recall score: [0.96989967 0.96830986 0.98297872 0.9047619  0.96       1.\n",
      " 0.68       0.61538462 0.70588235 0.46153846 0.64705882 0.52      ]\n",
      "\n",
      "\n",
      "Precision score: [0.95081967 0.94827586 0.95850622 0.95683453 0.91719745 0.98442368\n",
      " 0.5        0.84210526 0.75       0.69230769 0.73333333 0.61904762]\n",
      "\n",
      "\n",
      "F1 score: [0.9602649  0.95818815 0.97058824 0.93006993 0.93811075 0.99215071\n",
      " 0.57627119 0.71111111 0.72727273 0.55384615 0.6875     0.56521739]\n",
      "\n",
      "\n",
      "********************\n",
      "Scores of nb:\n",
      "********************\n",
      "Train time: 0.1s\n",
      "Accuracy score: 0.7535321821036107\n",
      "\n",
      "\n",
      "Recall score: [0.84949833 0.73943662 0.80851064 0.67006803 0.73       0.99367089\n",
      " 0.36       0.30769231 0.29411765 0.15384615 0.32352941 0.48      ]\n",
      "\n",
      "\n",
      "Precision score: [0.61204819 0.71917808 0.87962963 0.73507463 0.72277228 0.97515528\n",
      " 0.6        0.57142857 0.76923077 0.85714286 0.5        0.5       ]\n",
      "\n",
      "\n",
      "F1 score: [0.71148459 0.72916667 0.84257206 0.70106762 0.72636816 0.98432602\n",
      " 0.45       0.4        0.42553191 0.26086957 0.39285714 0.48979592]\n",
      "\n",
      "\n",
      "********************\n",
      "Scores of bc:\n",
      "********************\n",
      "Train time: 8.1s\n",
      "Accuracy score: 0.9094714809000524\n",
      "\n",
      "\n",
      "Recall score: [0.95317726 0.96478873 0.94468085 0.87414966 0.92666667 0.99683544\n",
      " 0.76       0.53846154 0.61764706 0.46153846 0.70588235 0.44      ]\n",
      "\n",
      "\n",
      "Precision score: [0.93442623 0.93197279 0.94468085 0.90812721 0.89102564 0.99683544\n",
      " 0.57575758 0.77777778 0.77777778 0.64285714 0.63157895 0.5       ]\n",
      "\n",
      "\n",
      "F1 score: [0.94370861 0.94809689 0.94468085 0.89081456 0.90849673 0.99683544\n",
      " 0.65517241 0.63636364 0.68852459 0.53731343 0.66666667 0.46808511]\n",
      "\n",
      "\n"
     ]
    }
   ],
   "source": [
    "initial_model(X_train,X_test,y_train,y_test,ml_models)"
   ]
  },
  {
   "cell_type": "markdown",
   "metadata": {},
   "source": [
    "## Final model"
   ]
  },
  {
   "cell_type": "markdown",
   "metadata": {},
   "source": [
    "In the initial test, in the previous section I tried out some of the classification models in sklearn. There are some model with really high accuracy. Most of the models without any parameter tuning, show us a high accuracy. The fastest model was the `Naive Bayes` but the accuracy wasn't so high. The `Random Forest Classifier` has the highest accuracy score, and the calculation speed is not so bad. I will test out this model. "
   ]
  },
  {
   "cell_type": "markdown",
   "metadata": {},
   "source": [
    "### RandomForestClassifier "
   ]
  },
  {
   "cell_type": "code",
   "execution_count": 121,
   "metadata": {
    "ExecuteTime": {
     "end_time": "2020-06-01T17:49:55.099713Z",
     "start_time": "2020-06-01T17:49:55.092719Z"
    }
   },
   "outputs": [],
   "source": [
    "rfc_params = {'rfc__n_estimators' : [100],\n",
    "              'rfc__max_depth' : [2, 20, 50],\n",
    "              'rfc__min_samples_split' : [2, 5, 10],\n",
    "              'rfc__min_samples_leaf' : [1, 2, 10]} "
   ]
  },
  {
   "cell_type": "code",
   "execution_count": 122,
   "metadata": {
    "ExecuteTime": {
     "end_time": "2020-06-01T17:49:55.629411Z",
     "start_time": "2020-06-01T17:49:55.621416Z"
    }
   },
   "outputs": [],
   "source": [
    " def random_search(model, params):\n",
    "        \n",
    "    pipe = Pipeline([(\"imputer\", SimpleImputer(fill_value = 0)),\n",
    "                     ('scaler', StandardScaler()), (\"rfc\", model)])\n",
    "                     \n",
    "    search = GridSearchCV(pipe, param_grid=params)\n",
    "    \n",
    "    return search"
   ]
  },
  {
   "cell_type": "code",
   "execution_count": 123,
   "metadata": {
    "ExecuteTime": {
     "end_time": "2020-06-01T17:50:01.195237Z",
     "start_time": "2020-06-01T17:50:01.191239Z"
    }
   },
   "outputs": [],
   "source": [
    "model = random_search(RandomForestClassifier(),rfc_params)"
   ]
  },
  {
   "cell_type": "code",
   "execution_count": null,
   "metadata": {
    "ExecuteTime": {
     "start_time": "2020-06-01T17:50:21.220Z"
    },
    "scrolled": false
   },
   "outputs": [],
   "source": [
    "model.fit(X_train,y_train)"
   ]
  },
  {
   "cell_type": "code",
   "execution_count": 262,
   "metadata": {
    "ExecuteTime": {
     "end_time": "2020-05-31T19:21:07.343181Z",
     "start_time": "2020-05-31T19:21:07.335186Z"
    }
   },
   "outputs": [
    {
     "data": {
      "text/plain": [
       "{'rfc__max_depth': 50,\n",
       " 'rfc__min_samples_leaf': 1,\n",
       " 'rfc__min_samples_split': 5,\n",
       " 'rfc__n_estimators': 100}"
      ]
     },
     "execution_count": 262,
     "metadata": {},
     "output_type": "execute_result"
    }
   ],
   "source": [
    "model.best_params_"
   ]
  },
  {
   "cell_type": "code",
   "execution_count": 112,
   "metadata": {
    "ExecuteTime": {
     "end_time": "2020-06-01T17:35:11.061496Z",
     "start_time": "2020-06-01T17:35:07.133742Z"
    }
   },
   "outputs": [
    {
     "name": "stdout",
     "output_type": "stream",
     "text": [
      "********************\n",
      "Scores of Pipeline(steps=[('imputer', SimpleImputer(fill_value=0)),\n",
      "                ('scaler', StandardScaler()), ('svc', SVC())]):\n",
      "********************\n",
      "Train time: 0.0s\n",
      "Accuracy score: 0.9105180533751962\n",
      "\n",
      "\n",
      "Recall score: [0.97658863 0.95774648 0.96595745 0.84353741 0.92333333 0.99367089\n",
      " 0.8        0.46153846 0.55882353 0.48717949 0.79411765 0.52      ]\n",
      "\n",
      "\n",
      "Precision score: [0.95737705 0.90066225 0.97844828 0.91512915 0.86024845 0.98742138\n",
      " 0.68965517 0.92307692 0.79166667 0.82608696 0.675      0.40625   ]\n",
      "\n",
      "\n",
      "F1 score: [0.96688742 0.92832765 0.97216274 0.87787611 0.89067524 0.99053628\n",
      " 0.74074074 0.61538462 0.65517241 0.61290323 0.72972973 0.45614035]\n",
      "\n",
      "\n"
     ]
    }
   ],
   "source": [
    "start_train = time.time()\n",
    "train_time = round(time.time()-start_train,1)\n",
    "\n",
    "accuracy = accuracy_score(y_test,model.predict(X_test))\n",
    "recall = recall_score(y_test,model.predict(X_test), average=None)\n",
    "precision = precision_score(y_test,model.predict(X_test), average=None)\n",
    "f1 = f1_score(y_test,model.predict(X_test), average=None)\n",
    "\n",
    "print('*'*20)\n",
    "print(f'Scores of {model}:')\n",
    "print('*'*20)\n",
    "print(f'Train time: {train_time}s')\n",
    "print(f'Accuracy score: {accuracy}')\n",
    "print('\\n')\n",
    "print(f'Recall score: {recall}')\n",
    "print('\\n')\n",
    "print(f'Precision score: {precision}')\n",
    "print('\\n')\n",
    "print(f'F1 score: {f1}')\n",
    "print('\\n')\n",
    "    "
   ]
  },
  {
   "cell_type": "code",
   "execution_count": 104,
   "metadata": {
    "ExecuteTime": {
     "end_time": "2020-06-01T17:29:12.732262Z",
     "start_time": "2020-06-01T17:29:07.243399Z"
    }
   },
   "outputs": [],
   "source": [
    "scores = cross_val_score(model, X_train, y_train, cv=3)"
   ]
  },
  {
   "cell_type": "code",
   "execution_count": 105,
   "metadata": {
    "ExecuteTime": {
     "end_time": "2020-06-01T17:29:12.972120Z",
     "start_time": "2020-06-01T17:29:12.961127Z"
    }
   },
   "outputs": [
    {
     "name": "stdout",
     "output_type": "stream",
     "text": [
      "Accuracy of the model: 91.48% ±0.5%\n"
     ]
    }
   ],
   "source": [
    "print('Accuracy of the model: {}% ±{}%'.format(round(np.mean(scores)*100,2), round(np.std(scores)*100,2)))"
   ]
  },
  {
   "cell_type": "code",
   "execution_count": 116,
   "metadata": {
    "ExecuteTime": {
     "end_time": "2020-06-01T17:37:58.367850Z",
     "start_time": "2020-06-01T17:37:56.244063Z"
    }
   },
   "outputs": [
    {
     "data": {
      "text/plain": [
       "<matplotlib.axes._subplots.AxesSubplot at 0x15dd1e73a08>"
      ]
     },
     "execution_count": 116,
     "metadata": {},
     "output_type": "execute_result"
    },
    {
     "data": {
      "image/png": "[encoded data removed]",
      "text/plain": [
       "<Figure size 1152x720 with 2 Axes>"
      ]
     },
     "metadata": {
      "needs_background": "light"
     },
     "output_type": "display_data"
    }
   ],
   "source": [
    "plt.figure(figsize=(16,10))\n",
    "sns.heatmap(confusion_matrix(y_test,model.predict(X_test)), annot=True, cmap=\"viridis\",\n",
    "            xticklabels=[\"No_Activity\",\"WALKING\",\n",
    "                       \"WALKING_UPSTAIRS\",\n",
    "                       \"WALKING_DOWNSTAIRS\",\n",
    "                       \"SITTING\",\n",
    "                       \"STANDING\",\n",
    "                       \"LAYING\",\n",
    "                       \"STAND_TO_SIT\",\n",
    "                       \"SIT_TO_STAND\",\n",
    "                       \"SIT_TO_LIE\",\n",
    "                       \"LIE_TO_SIT\",\n",
    "                       \"STAND_TO_LIE\",\n",
    "                       \"LIE_TO_STAND\"],\n",
    "            yticklabels=['NO_Activity',\"WALKING\",\n",
    "                       \"WALKING_UPSTAIRS\",\n",
    "                       \"WALKING_DOWNSTAIRS\",\n",
    "                       \"SITTING\",\n",
    "                       \"STANDING\",\n",
    "                       \"LAYING\",\n",
    "                       \"STAND_TO_SIT\",\n",
    "                       \"SIT_TO_STAND\",\n",
    "                       \"SIT_TO_LIE\",\n",
    "                       \"LIE_TO_SIT\",\n",
    "                       \"STAND_TO_LIE\",\n",
    "                       \"LIE_TO_STAND\"])"
   ]
  },
  {
   "cell_type": "markdown",
   "metadata": {},
   "source": [
    "###  Saving the final model"
   ]
  },
  {
   "cell_type": "code",
   "execution_count": 117,
   "metadata": {
    "ExecuteTime": {
     "end_time": "2020-06-01T17:38:03.823915Z",
     "start_time": "2020-06-01T17:38:03.818921Z"
    }
   },
   "outputs": [],
   "source": [
    "import joblib"
   ]
  },
  {
   "cell_type": "code",
   "execution_count": 118,
   "metadata": {
    "ExecuteTime": {
     "end_time": "2020-06-01T17:38:18.406195Z",
     "start_time": "2020-06-01T17:38:18.399197Z"
    }
   },
   "outputs": [],
   "source": [
    "def save_model(model):\n",
    "    '''Save the model to disk'''\n",
    "    \n",
    "    filename = '../models/har_model_v08.sav'\n",
    "    joblib.dump(model, filename)\n",
    "    readme = open('../models/ml_model_v07.txt', 'w')\n",
    "    readme.write('Ml model with svc, without overlap 91% accuracy.')\n",
    "    readme.close()"
   ]
  },
  {
   "cell_type": "code",
   "execution_count": 119,
   "metadata": {
    "ExecuteTime": {
     "end_time": "2020-06-01T17:38:23.050270Z",
     "start_time": "2020-06-01T17:38:23.034280Z"
    }
   },
   "outputs": [],
   "source": [
    "save_model(model)"
   ]
  },
  {
   "cell_type": "code",
   "execution_count": 108,
   "metadata": {
    "ExecuteTime": {
     "end_time": "2020-06-01T17:29:54.805021Z",
     "start_time": "2020-06-01T17:29:54.797032Z"
    }
   },
   "outputs": [
    {
     "data": {
      "text/plain": [
       "[('acc_x_FFT', 'peak_mean_6'),\n",
       " ('acc_x_FFT', 'peak_mean_8'),\n",
       " ('acc_x_FFT', 'peak_mean_12'),\n",
       " ('acc_y_FFT', 'peak_mean_6'),\n",
       " ('acc_y_FFT', 'peak_mean_8'),\n",
       " ('acc_y_FFT', 'peak_mean_12'),\n",
       " ('acc_z_FFT', 'peak_mean_6'),\n",
       " ('acc_z_FFT', 'peak_mean_8'),\n",
       " ('acc_z_FFT', 'peak_mean_12'),\n",
       " ('gyro_x_FFT', 'peak_mean_6'),\n",
       " ('gyro_x_FFT', 'peak_mean_8'),\n",
       " ('gyro_x_FFT', 'peak_mean_12'),\n",
       " ('gyro_y_FFT', 'peak_mean_6'),\n",
       " ('gyro_y_FFT', 'peak_mean_8'),\n",
       " ('gyro_y_FFT', 'peak_mean_12'),\n",
       " ('gyro_z_FFT', 'peak_mean_6'),\n",
       " ('gyro_z_FFT', 'peak_mean_8'),\n",
       " ('gyro_z_FFT', 'peak_mean_12')]"
      ]
     },
     "execution_count": 108,
     "metadata": {},
     "output_type": "execute_result"
    }
   ],
   "source": [
    "features_to_drop"
   ]
  },
  {
   "cell_type": "code",
   "execution_count": null,
   "metadata": {},
   "outputs": [],
   "source": []
  }
 ],
 "metadata": {
  "kernelspec": {
   "display_name": "Python 3",
   "language": "python",
   "name": "python3"
  },
  "language_info": {
   "codemirror_mode": {
    "name": "ipython",
    "version": 3
   },
   "file_extension": ".py",
   "mimetype": "text/x-python",
   "name": "python",
   "nbconvert_exporter": "python",
   "pygments_lexer": "ipython3",
   "version": "3.7.5"
  },
  "notify_time": "10",
  "toc": {
   "base_numbering": 1,
   "nav_menu": {},
   "number_sections": true,
   "sideBar": true,
   "skip_h1_title": false,
   "title_cell": "Table of Contents",
   "title_sidebar": "Contents",
   "toc_cell": false,
   "toc_position": {},
   "toc_section_display": true,
   "toc_window_display": true
  },
  "varInspector": {
   "cols": {
    "lenName": 16,
    "lenType": 16,
    "lenVar": 40
   },
   "kernels_config": {
    "python": {
     "delete_cmd_postfix": "",
     "delete_cmd_prefix": "del ",
     "library": "var_list.py",
     "varRefreshCmd": "print(var_dic_list())"
    },
    "r": {
     "delete_cmd_postfix": ") ",
     "delete_cmd_prefix": "rm(",
     "library": "var_list.r",
     "varRefreshCmd": "cat(var_dic_list()) "
    }
   },
   "types_to_exclude": [
    "module",
    "function",
    "builtin_function_or_method",
    "instance",
    "_Feature"
   ],
   "window_display": false
  }
 },
 "nbformat": 4,
 "nbformat_minor": 4
}
