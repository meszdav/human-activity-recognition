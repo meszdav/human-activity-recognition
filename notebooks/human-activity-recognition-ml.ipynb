{
 "cells": [
  {
   "cell_type": "markdown",
   "metadata": {},
   "source": [
    "## Import dependencies"
   ]
  },
  {
   "cell_type": "code",
   "execution_count": 127,
   "metadata": {
    "ExecuteTime": {
     "end_time": "2020-06-01T18:21:38.472604Z",
     "start_time": "2020-06-01T18:21:38.458632Z"
    }
   },
   "outputs": [],
   "source": [
    "import pandas as pd\n",
    "import seaborn as sns\n",
    "import time\n",
    "\n",
    "import matplotlib.pyplot as plt\n",
    "\n",
    "from sklearn.model_selection import train_test_split\n",
    "\n",
    "from sklearn.neighbors import KNeighborsClassifier\n",
    "from sklearn.naive_bayes import MultinomialNB\n",
    "from sklearn.linear_model import LogisticRegression\n",
    "from sklearn.svm import SVC\n",
    "from sklearn.ensemble import GradientBoostingClassifier, VotingClassifier, BaggingClassifier\n",
    "from sklearn.ensemble import RandomForestClassifier\n",
    "\n",
    "from sklearn.metrics import accuracy_score, recall_score, precision_score, f1_score\n",
    "from sklearn.model_selection import cross_val_score\n",
    "from sklearn.pipeline import Pipeline\n",
    "from sklearn.impute import SimpleImputer\n",
    "from sklearn.preprocessing import StandardScaler, MinMaxScaler\n",
    "from sklearn.model_selection import GridSearchCV\n",
    "from sklearn.metrics import confusion_matrix\n",
    "\n",
    "import joblib"
   ]
  },
  {
   "cell_type": "markdown",
   "metadata": {},
   "source": [
    "## Read data"
   ]
  },
  {
   "cell_type": "code",
   "execution_count": 128,
   "metadata": {
    "ExecuteTime": {
     "end_time": "2020-06-01T18:21:39.820616Z",
     "start_time": "2020-06-01T18:21:39.158997Z"
    }
   },
   "outputs": [],
   "source": [
    "X_train = pd.read_csv(\"../data/train_test/X_train.csv\",header=None)\n",
    "X_test = pd.read_csv(\"../data/train_test/X_test.csv\", header=None)\n",
    "y_train = pd.read_csv(\"../data/train_test/y_train.csv\", header=None)\n",
    "y_test = pd.read_csv(\"../data/train_test/y_test.csv\", header=None)\n",
    "\n",
    "X_train = X_train.to_numpy()\n",
    "X_test = X_test.to_numpy()\n",
    "y_train = y_train.to_numpy().reshape(-1,)\n",
    "y_test = y_test.to_numpy().reshape(-1,)"
   ]
  },
  {
   "cell_type": "markdown",
   "metadata": {},
   "source": [
    "## Build pipeline"
   ]
  },
  {
   "cell_type": "markdown",
   "metadata": {},
   "source": [
    "### Select classifier "
   ]
  },
  {
   "cell_type": "markdown",
   "metadata": {},
   "source": [
    "First, I test some classifier, than I can choose one for parameter optimization to get better results."
   ]
  },
  {
   "cell_type": "code",
   "execution_count": 129,
   "metadata": {
    "ExecuteTime": {
     "end_time": "2020-06-01T18:21:43.281972Z",
     "start_time": "2020-06-01T18:21:43.273982Z"
    }
   },
   "outputs": [],
   "source": [
    "\n",
    "knc = KNeighborsClassifier()\n",
    "lr = LogisticRegression(solver=\"newton-cg\")\n",
    "svc = SVC()\n",
    "rfc = RandomForestClassifier()\n",
    "nbc = MultinomialNB()\n",
    "#gbc = GradientBoostingClassifier()\n",
    "bc = BaggingClassifier()\n",
    "\n",
    "ml_models = models = {\"knc\": knc, \"lr\": lr, \"svc\": svc, \"rfc\": rfc,\n",
    "                      'nb' : MultinomialNB(),\n",
    "                       'bc' : BaggingClassifier()}"
   ]
  },
  {
   "cell_type": "code",
   "execution_count": 130,
   "metadata": {
    "ExecuteTime": {
     "end_time": "2020-06-01T18:21:45.627374Z",
     "start_time": "2020-06-01T18:21:45.608386Z"
    }
   },
   "outputs": [],
   "source": [
    "def initial_model(X_train, X_test, y_train, y_test, ml_models):\n",
    "    \n",
    "    \n",
    "    \n",
    "    for model in ml_models:\n",
    "          \n",
    "        if model != 'nb':\n",
    "            \n",
    "            pipe = Pipeline([(\"imputer\", SimpleImputer(fill_value = 0)),\n",
    "                     ('scaler', StandardScaler()), (model, ml_models[model])])\n",
    "        else:\n",
    "            \n",
    "            pipe = Pipeline([(\"imputer\", SimpleImputer(fill_value = 0)),\n",
    "                     ('minmax',MinMaxScaler()), (model, ml_models[model])])\n",
    "        \n",
    "        start_train = time.time()\n",
    "        pipe.fit(X_train, y_train)\n",
    "        train_time = round(time.time()-start_train,1)\n",
    "        \n",
    "        accuracy = accuracy_score(y_test,pipe.predict(X_test))\n",
    "        recall = recall_score(y_test,pipe.predict(X_test), average=None)\n",
    "        precision = precision_score(y_test,pipe.predict(X_test), average=None)\n",
    "        f1 = f1_score(y_test,pipe.predict(X_test), average=None)\n",
    "        \n",
    "        print('*'*20)\n",
    "        print(f'Scores of {model}:')\n",
    "        print('*'*20)\n",
    "        print(f'Train time: {train_time}s')\n",
    "        print(f'Accuracy score: {accuracy}')\n",
    "        print('\\n')\n",
    "        print(f'Recall score: {recall}')\n",
    "        print('\\n')\n",
    "        print(f'Precision score: {precision}')\n",
    "        print('\\n')\n",
    "        print(f'F1 score: {f1}')\n",
    "        print('\\n')\n",
    "    "
   ]
  },
  {
   "cell_type": "code",
   "execution_count": 131,
   "metadata": {
    "ExecuteTime": {
     "end_time": "2020-06-01T18:22:26.700225Z",
     "start_time": "2020-06-01T18:21:47.838471Z"
    },
    "scrolled": false
   },
   "outputs": [
    {
     "name": "stdout",
     "output_type": "stream",
     "text": [
      "********************\n",
      "Scores of knc:\n",
      "********************\n",
      "Train time: 0.4s\n",
      "Accuracy score: 0.9391714735186156\n",
      "\n",
      "\n",
      "Recall score: [0.99293286 0.96323529 0.97131148 0.86956522 0.92899408 0.99375\n",
      " 0.88461538 0.82352941 0.9        1.         0.68571429 0.36842105]\n",
      "\n",
      "\n",
      "Precision score: [0.93666667 0.98867925 0.9916318  0.91872792 0.88700565 1.\n",
      " 0.95833333 0.82352941 0.72972973 0.68571429 0.85714286 1.        ]\n",
      "\n",
      "\n",
      "F1 score: [0.96397942 0.97579143 0.98136646 0.89347079 0.90751445 0.9968652\n",
      " 0.92       0.82352941 0.80597015 0.81355932 0.76190476 0.53846154]\n",
      "\n",
      "\n",
      "********************\n",
      "Scores of lr:\n",
      "********************\n",
      "Train time: 4.9s\n",
      "Accuracy score: 0.9716832721552177\n",
      "\n",
      "\n",
      "Recall score: [0.99646643 0.99632353 0.99180328 0.93311037 0.94970414 1.\n",
      " 1.         1.         0.83333333 0.91666667 0.94285714 0.78947368]\n",
      "\n",
      "\n",
      "Precision score: [0.99295775 0.99632353 0.99588477 0.94256757 0.94134897 1.\n",
      " 1.         0.94444444 0.96153846 0.88       0.86842105 0.83333333]\n",
      "\n",
      "\n",
      "F1 score: [0.99470899 0.99632353 0.99383984 0.93781513 0.9455081  1.\n",
      " 1.         0.97142857 0.89285714 0.89795918 0.90410959 0.81081081]\n",
      "\n",
      "\n",
      "********************\n",
      "Scores of svc:\n",
      "********************\n",
      "Train time: 2.0s\n",
      "Accuracy score: 0.9638175144205559\n",
      "\n",
      "\n",
      "Recall score: [0.99646643 0.99632353 0.98770492 0.91304348 0.94970414 1.\n",
      " 1.         0.82352941 0.83333333 0.83333333 0.91428571 0.68421053]\n",
      "\n",
      "\n",
      "Precision score: [0.98601399 0.97482014 0.99586777 0.94137931 0.92774566 0.99688474\n",
      " 0.96296296 1.         0.92592593 0.86956522 0.88888889 0.76470588]\n",
      "\n",
      "\n",
      "F1 score: [0.99121265 0.98545455 0.99176955 0.92699491 0.93859649 0.99843994\n",
      " 0.98113208 0.90322581 0.87719298 0.85106383 0.90140845 0.72222222]\n",
      "\n",
      "\n",
      "********************\n",
      "Scores of rfc:\n",
      "********************\n",
      "Train time: 5.1s\n",
      "Accuracy score: 0.9826953329837441\n",
      "\n",
      "\n",
      "Recall score: [1.         0.99264706 0.98770492 0.97658863 0.9852071  1.\n",
      " 0.92307692 1.         0.93333333 0.91666667 0.85714286 0.73684211]\n",
      "\n",
      "\n",
      "Precision score: [0.98606272 1.         0.99586777 0.97986577 0.97653959 1.\n",
      " 0.92307692 0.94444444 0.84848485 0.88       0.9375     0.93333333]\n",
      "\n",
      "\n",
      "F1 score: [0.99298246 0.99630996 0.99176955 0.97822446 0.9808542  1.\n",
      " 0.92307692 0.97142857 0.88888889 0.89795918 0.89552239 0.82352941]\n",
      "\n",
      "\n",
      "********************\n",
      "Scores of nb:\n",
      "********************\n",
      "Train time: 0.1s\n",
      "Accuracy score: 0.8264289459884635\n",
      "\n",
      "\n",
      "Recall score: [0.83392226 0.72058824 0.85245902 0.83277592 0.79289941 0.975\n",
      " 0.65384615 0.76470588 0.8        0.83333333 0.62857143 0.57894737]\n",
      "\n",
      "\n",
      "Precision score: [0.66106443 0.84120172 0.89655172 0.80844156 0.85897436 0.98113208\n",
      " 0.89473684 0.72222222 0.68571429 0.76923077 0.78571429 0.52380952]\n",
      "\n",
      "\n",
      "F1 score: [0.7375     0.77623762 0.87394958 0.82042834 0.82461538 0.97805643\n",
      " 0.75555556 0.74285714 0.73846154 0.8        0.6984127  0.55      ]\n",
      "\n",
      "\n",
      "********************\n",
      "Scores of bc:\n",
      "********************\n",
      "Train time: 6.9s\n",
      "Accuracy score: 0.9653906659674882\n",
      "\n",
      "\n",
      "Recall score: [0.98586572 0.96323529 0.98360656 0.95652174 0.96153846 0.996875\n",
      " 0.92307692 0.94117647 0.9        0.83333333 0.88571429 0.63157895]\n",
      "\n",
      "\n",
      "Precision score: [0.96875    0.99619772 0.96774194 0.95016611 0.95588235 1.\n",
      " 1.         0.94117647 0.87096774 0.74074074 0.91176471 0.8       ]\n",
      "\n",
      "\n",
      "F1 score: [0.97723292 0.97943925 0.97560976 0.95333333 0.95870206 0.99843505\n",
      " 0.96       0.94117647 0.8852459  0.78431373 0.89855072 0.70588235]\n",
      "\n",
      "\n"
     ]
    }
   ],
   "source": [
    "initial_model(X_train,X_test,y_train,y_test,ml_models)"
   ]
  },
  {
   "cell_type": "markdown",
   "metadata": {},
   "source": [
    "## Final model"
   ]
  },
  {
   "cell_type": "markdown",
   "metadata": {},
   "source": [
    "In the initial test, in the previous section I tried out some of the classification models in sklearn. There are some model with really high accuracy. Most of the models without any parameter tuning, show us a high accuracy. The fastest model was the `Naive Bayes` but the accuracy wasn't so high. The `Random Forest Classifier` has the highest accuracy score, and the calculation speed is not so bad. I will test out this model. "
   ]
  },
  {
   "cell_type": "markdown",
   "metadata": {},
   "source": [
    "### RandomForestClassifier "
   ]
  },
  {
   "cell_type": "code",
   "execution_count": 132,
   "metadata": {
    "ExecuteTime": {
     "end_time": "2020-06-01T18:22:31.442120Z",
     "start_time": "2020-06-01T18:22:31.436129Z"
    }
   },
   "outputs": [],
   "source": [
    "rfc_params = {'rfc__n_estimators' : [100],\n",
    "              'rfc__max_depth' : [2, 20, 50],\n",
    "              'rfc__min_samples_split' : [2, 5, 10],\n",
    "              'rfc__min_samples_leaf' : [1, 2, 10]} "
   ]
  },
  {
   "cell_type": "code",
   "execution_count": 133,
   "metadata": {
    "ExecuteTime": {
     "end_time": "2020-06-01T18:22:33.815661Z",
     "start_time": "2020-06-01T18:22:33.806669Z"
    }
   },
   "outputs": [],
   "source": [
    " def random_search(model, params):\n",
    "        \n",
    "    pipe = Pipeline([(\"imputer\", SimpleImputer(fill_value = 0)),\n",
    "                     ('scaler', StandardScaler()), (\"rfc\", model)])\n",
    "                     \n",
    "    search = GridSearchCV(pipe, param_grid=params)\n",
    "    \n",
    "    return search"
   ]
  },
  {
   "cell_type": "code",
   "execution_count": 134,
   "metadata": {
    "ExecuteTime": {
     "end_time": "2020-06-01T18:22:34.377740Z",
     "start_time": "2020-06-01T18:22:34.372743Z"
    }
   },
   "outputs": [],
   "source": [
    "model = random_search(RandomForestClassifier(),rfc_params)"
   ]
  },
  {
   "cell_type": "code",
   "execution_count": 135,
   "metadata": {
    "ExecuteTime": {
     "end_time": "2020-06-01T18:29:21.431831Z",
     "start_time": "2020-06-01T18:22:34.913526Z"
    },
    "scrolled": false
   },
   "outputs": [
    {
     "data": {
      "text/plain": [
       "GridSearchCV(estimator=Pipeline(steps=[('imputer', SimpleImputer(fill_value=0)),\n",
       "                                       ('scaler', StandardScaler()),\n",
       "                                       ('rfc', RandomForestClassifier())]),\n",
       "             param_grid={'rfc__max_depth': [2, 20, 50],\n",
       "                         'rfc__min_samples_leaf': [1, 2, 10],\n",
       "                         'rfc__min_samples_split': [2, 5, 10],\n",
       "                         'rfc__n_estimators': [100]})"
      ]
     },
     "execution_count": 135,
     "metadata": {},
     "output_type": "execute_result"
    }
   ],
   "source": [
    "model.fit(X_train,y_train)"
   ]
  },
  {
   "cell_type": "code",
   "execution_count": 136,
   "metadata": {
    "ExecuteTime": {
     "end_time": "2020-06-01T18:29:44.475978Z",
     "start_time": "2020-06-01T18:29:44.468984Z"
    }
   },
   "outputs": [
    {
     "data": {
      "text/plain": [
       "{'rfc__max_depth': 50,\n",
       " 'rfc__min_samples_leaf': 1,\n",
       " 'rfc__min_samples_split': 2,\n",
       " 'rfc__n_estimators': 100}"
      ]
     },
     "execution_count": 136,
     "metadata": {},
     "output_type": "execute_result"
    }
   ],
   "source": [
    "model.best_params_"
   ]
  },
  {
   "cell_type": "code",
   "execution_count": 142,
   "metadata": {
    "ExecuteTime": {
     "end_time": "2020-06-02T19:49:15.051118Z",
     "start_time": "2020-06-02T19:49:14.566390Z"
    }
   },
   "outputs": [
    {
     "name": "stdout",
     "output_type": "stream",
     "text": [
      "********************\n",
      "Scores of GridSearchCV(estimator=Pipeline(steps=[('imputer', SimpleImputer(fill_value=0)),\n",
      "                                       ('scaler', StandardScaler()),\n",
      "                                       ('rfc', RandomForestClassifier())]),\n",
      "             param_grid={'rfc__max_depth': [2, 20, 50],\n",
      "                         'rfc__min_samples_leaf': [1, 2, 10],\n",
      "                         'rfc__min_samples_split': [2, 5, 10],\n",
      "                         'rfc__n_estimators': [100]}):\n",
      "********************\n",
      "Train time: 0.0s\n",
      "Accuracy score: 0.9790246460409019\n",
      "\n",
      "\n",
      "Recall score: [1.         0.98529412 0.99180328 0.97324415 0.97337278 1.\n",
      " 0.92307692 1.         0.93333333 0.83333333 0.88571429 0.73684211]\n",
      "\n",
      "\n",
      "Precision score: [0.98606272 1.         0.99180328 0.96677741 0.97337278 1.\n",
      " 0.92307692 0.94444444 0.875      0.83333333 0.93939394 0.875     ]\n",
      "\n",
      "\n",
      "F1 score: [0.99298246 0.99259259 0.99180328 0.97       0.97337278 1.\n",
      " 0.92307692 0.97142857 0.90322581 0.83333333 0.91176471 0.8       ]\n",
      "\n",
      "\n"
     ]
    }
   ],
   "source": [
    "start_train = time.time()\n",
    "train_time = round(time.time()-start_train,1)\n",
    "\n",
    "accuracy = accuracy_score(y_test,model.predict(X_test))\n",
    "recall = recall_score(y_test,model.predict(X_test), average=None)\n",
    "precision = precision_score(y_test,model.predict(X_test), average=None)\n",
    "f1 = f1_score(y_test,model.predict(X_test), average=None)\n",
    "\n",
    "print('*'*20)\n",
    "print(f'Scores of {model}:')\n",
    "print('*'*20)\n",
    "print(f'Train time: {train_time}s')\n",
    "print(f'Accuracy score: {accuracy}')\n",
    "print('\\n')\n",
    "print(f'Recall score: {recall}')\n",
    "print('\\n')\n",
    "print(f'Precision score: {precision}')\n",
    "print('\\n')\n",
    "print(f'F1 score: {f1}')\n",
    "print('\\n')\n",
    "    "
   ]
  },
  {
   "cell_type": "code",
   "execution_count": 104,
   "metadata": {
    "ExecuteTime": {
     "end_time": "2020-06-01T17:29:12.732262Z",
     "start_time": "2020-06-01T17:29:07.243399Z"
    }
   },
   "outputs": [],
   "source": [
    "scores = cross_val_score(model, X_train, y_train, cv=3)"
   ]
  },
  {
   "cell_type": "code",
   "execution_count": 105,
   "metadata": {
    "ExecuteTime": {
     "end_time": "2020-06-01T17:29:12.972120Z",
     "start_time": "2020-06-01T17:29:12.961127Z"
    }
   },
   "outputs": [
    {
     "name": "stdout",
     "output_type": "stream",
     "text": [
      "Accuracy of the model: 91.48% ±0.5%\n"
     ]
    }
   ],
   "source": [
    "print('Accuracy of the model: {}% ±{}%'.format(round(np.mean(scores)*100,2), round(np.std(scores)*100,2)))"
   ]
  },
  {
   "cell_type": "code",
   "execution_count": 138,
   "metadata": {
    "ExecuteTime": {
     "end_time": "2020-06-01T18:35:37.572981Z",
     "start_time": "2020-06-01T18:35:36.376685Z"
    }
   },
   "outputs": [
    {
     "data": {
      "text/plain": [
       "<matplotlib.axes._subplots.AxesSubplot at 0x15dd2224348>"
      ]
     },
     "execution_count": 138,
     "metadata": {},
     "output_type": "execute_result"
    },
    {
     "data": {
      "image/png": "[encoded data removed]",
      "text/plain": [
       "<Figure size 1152x720 with 2 Axes>"
      ]
     },
     "metadata": {
      "needs_background": "light"
     },
     "output_type": "display_data"
    }
   ],
   "source": [
    "plt.figure(figsize=(16,10))\n",
    "sns.heatmap(confusion_matrix(y_test,model.predict(X_test)), annot=True, cmap=\"viridis\",\n",
    "            xticklabels=[\"No_Activity\",\"WALKING\",\n",
    "                       \"WALKING_UPSTAIRS\",\n",
    "                       \"WALKING_DOWNSTAIRS\",\n",
    "                       \"SITTING\",\n",
    "                       \"STANDING\",\n",
    "                       \"LAYING\",\n",
    "                       \"STAND_TO_SIT\",\n",
    "                       \"SIT_TO_STAND\",\n",
    "                       \"SIT_TO_LIE\",\n",
    "                       \"LIE_TO_SIT\",\n",
    "                       \"STAND_TO_LIE\",\n",
    "                       \"LIE_TO_STAND\"],\n",
    "            yticklabels=['NO_Activity',\"WALKING\",\n",
    "                       \"WALKING_UPSTAIRS\",\n",
    "                       \"WALKING_DOWNSTAIRS\",\n",
    "                       \"SITTING\",\n",
    "                       \"STANDING\",\n",
    "                       \"LAYING\",\n",
    "                       \"STAND_TO_SIT\",\n",
    "                       \"SIT_TO_STAND\",\n",
    "                       \"SIT_TO_LIE\",\n",
    "                       \"LIE_TO_SIT\",\n",
    "                       \"STAND_TO_LIE\",\n",
    "                       \"LIE_TO_STAND\"])"
   ]
  },
  {
   "cell_type": "markdown",
   "metadata": {},
   "source": [
    "###  Saving the final model"
   ]
  },
  {
   "cell_type": "code",
   "execution_count": 139,
   "metadata": {
    "ExecuteTime": {
     "end_time": "2020-06-01T18:35:41.809666Z",
     "start_time": "2020-06-01T18:35:41.805669Z"
    }
   },
   "outputs": [],
   "source": [
    "import joblib"
   ]
  },
  {
   "cell_type": "code",
   "execution_count": 143,
   "metadata": {
    "ExecuteTime": {
     "end_time": "2020-06-02T19:49:35.006299Z",
     "start_time": "2020-06-02T19:49:34.999303Z"
    }
   },
   "outputs": [],
   "source": [
    "def save_model(model):\n",
    "    '''Save the model to disk'''\n",
    "    \n",
    "    filename = '../models/har_model_v12.sav'\n",
    "    joblib.dump(model, filename)\n",
    "    readme = open('../models/ml_model_v09.txt', 'w')\n",
    "    readme.write('Ml model with svc, without overlap 97% accuracy.')\n",
    "    readme.close()"
   ]
  },
  {
   "cell_type": "code",
   "execution_count": 144,
   "metadata": {
    "ExecuteTime": {
     "end_time": "2020-06-02T19:49:36.207568Z",
     "start_time": "2020-06-02T19:49:36.006683Z"
    }
   },
   "outputs": [],
   "source": [
    "save_model(model)"
   ]
  },
  {
   "cell_type": "code",
   "execution_count": 145,
   "metadata": {
    "ExecuteTime": {
     "end_time": "2020-06-02T19:50:00.554527Z",
     "start_time": "2020-06-02T19:50:00.546531Z"
    }
   },
   "outputs": [
    {
     "data": {
      "text/plain": [
       "[('acc_x_FFT', 'peak_mean_6'),\n",
       " ('acc_x_FFT', 'peak_mean_8'),\n",
       " ('acc_x_FFT', 'peak_mean_12'),\n",
       " ('acc_y_FFT', 'peak_mean_6'),\n",
       " ('acc_y_FFT', 'peak_mean_8'),\n",
       " ('acc_y_FFT', 'peak_mean_12'),\n",
       " ('acc_z_FFT', 'peak_mean_6'),\n",
       " ('acc_z_FFT', 'peak_mean_8'),\n",
       " ('acc_z_FFT', 'peak_mean_12'),\n",
       " ('gyro_x_FFT', 'peak_mean_6'),\n",
       " ('gyro_x_FFT', 'peak_mean_8'),\n",
       " ('gyro_x_FFT', 'peak_mean_12'),\n",
       " ('gyro_y_FFT', 'peak_mean_6'),\n",
       " ('gyro_y_FFT', 'peak_mean_8'),\n",
       " ('gyro_y_FFT', 'peak_mean_12'),\n",
       " ('gyro_z_FFT', 'peak_mean_6'),\n",
       " ('gyro_z_FFT', 'peak_mean_8'),\n",
       " ('gyro_z_FFT', 'peak_mean_12')]"
      ]
     },
     "execution_count": 145,
     "metadata": {},
     "output_type": "execute_result"
    }
   ],
   "source": [
    "features_to_drop"
   ]
  },
  {
   "cell_type": "code",
   "execution_count": null,
   "metadata": {},
   "outputs": [],
   "source": []
  }
 ],
 "metadata": {
  "kernelspec": {
   "display_name": "Python 3",
   "language": "python",
   "name": "python3"
  },
  "language_info": {
   "codemirror_mode": {
    "name": "ipython",
    "version": 3
   },
   "file_extension": ".py",
   "mimetype": "text/x-python",
   "name": "python",
   "nbconvert_exporter": "python",
   "pygments_lexer": "ipython3",
   "version": "3.7.5"
  },
  "notify_time": "10",
  "toc": {
   "base_numbering": 1,
   "nav_menu": {},
   "number_sections": true,
   "sideBar": true,
   "skip_h1_title": false,
   "title_cell": "Table of Contents",
   "title_sidebar": "Contents",
   "toc_cell": false,
   "toc_position": {},
   "toc_section_display": true,
   "toc_window_display": true
  },
  "varInspector": {
   "cols": {
    "lenName": 16,
    "lenType": 16,
    "lenVar": 40
   },
   "kernels_config": {
    "python": {
     "delete_cmd_postfix": "",
     "delete_cmd_prefix": "del ",
     "library": "var_list.py",
     "varRefreshCmd": "print(var_dic_list())"
    },
    "r": {
     "delete_cmd_postfix": ") ",
     "delete_cmd_prefix": "rm(",
     "library": "var_list.r",
     "varRefreshCmd": "cat(var_dic_list()) "
    }
   },
   "types_to_exclude": [
    "module",
    "function",
    "builtin_function_or_method",
    "instance",
    "_Feature"
   ],
   "window_display": false
  }
 },
 "nbformat": 4,
 "nbformat_minor": 4
}
