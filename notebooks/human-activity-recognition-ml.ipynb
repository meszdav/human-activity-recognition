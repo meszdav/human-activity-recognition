{
 "cells": [
  {
   "cell_type": "markdown",
   "metadata": {},
   "source": [
    "## Import dependencies"
   ]
  },
  {
   "cell_type": "code",
   "execution_count": 16,
   "metadata": {
    "ExecuteTime": {
     "end_time": "2020-06-01T08:40:29.114349Z",
     "start_time": "2020-06-01T08:40:29.100357Z"
    }
   },
   "outputs": [],
   "source": [
    "import pandas as pd\n",
    "import seaborn as sns\n",
    "import time\n",
    "\n",
    "import matplotlib.pyplot as plt\n",
    "\n",
    "from sklearn.model_selection import train_test_split\n",
    "\n",
    "from sklearn.neighbors import KNeighborsClassifier\n",
    "from sklearn.naive_bayes import MultinomialNB\n",
    "from sklearn.linear_model import LogisticRegression\n",
    "from sklearn.svm import SVC\n",
    "from sklearn.ensemble import GradientBoostingClassifier, VotingClassifier, BaggingClassifier\n",
    "from sklearn.ensemble import RandomForestClassifier\n",
    "\n",
    "from sklearn.metrics import accuracy_score, recall_score, precision_score, f1_score\n",
    "from sklearn.model_selection import cross_val_score\n",
    "from sklearn.pipeline import Pipeline\n",
    "from sklearn.impute import SimpleImputer\n",
    "from sklearn.preprocessing import StandardScaler, MinMaxScaler\n",
    "from sklearn.model_selection import GridSearchCV\n",
    "from sklearn.metrics import confusion_matrix\n",
    "\n",
    "import joblib"
   ]
  },
  {
   "cell_type": "markdown",
   "metadata": {},
   "source": [
    "## Read data"
   ]
  },
  {
   "cell_type": "code",
   "execution_count": 31,
   "metadata": {
    "ExecuteTime": {
     "end_time": "2020-06-01T08:51:44.770126Z",
     "start_time": "2020-06-01T08:51:44.232361Z"
    }
   },
   "outputs": [],
   "source": [
    "X_train = pd.read_csv(\"../data/X_train_3.csv\",header=[0,1],index_col=0)\n",
    "X_test = pd.read_csv(\"../data/X_test_3.csv\",header=[0,1],index_col=0)\n",
    "y_train = pd.read_csv(\"../data/y_train_3.csv\",index_col=0)\n",
    "y_test = pd.read_csv(\"../data/y_test_3.csv\",index_col=0)"
   ]
  },
  {
   "cell_type": "code",
   "execution_count": 18,
   "metadata": {
    "ExecuteTime": {
     "end_time": "2020-06-01T08:40:39.128211Z",
     "start_time": "2020-06-01T08:40:39.119221Z"
    }
   },
   "outputs": [],
   "source": [
    "def find_na(df):\n",
    "    \n",
    "    features_to_drop = []\n",
    "    \n",
    "    for i in df.columns:\n",
    "        \n",
    "        if df[i].isna().sum() > len(df)*0.3:\n",
    "            features_to_drop.append(i)\n",
    "    \n",
    "    return features_to_drop"
   ]
  },
  {
   "cell_type": "code",
   "execution_count": 19,
   "metadata": {
    "ExecuteTime": {
     "end_time": "2020-06-01T08:40:39.890111Z",
     "start_time": "2020-06-01T08:40:39.883118Z"
    }
   },
   "outputs": [],
   "source": [
    "def drop_features(df,features_to_drop):\n",
    "    \n",
    "    df.drop(features_to_drop, axis = 1, inplace = True)\n",
    "    \n",
    "    return df"
   ]
  },
  {
   "cell_type": "markdown",
   "metadata": {},
   "source": [
    "### Drop nas"
   ]
  },
  {
   "cell_type": "markdown",
   "metadata": {},
   "source": [
    "#### Train data"
   ]
  },
  {
   "cell_type": "code",
   "execution_count": 20,
   "metadata": {
    "ExecuteTime": {
     "end_time": "2020-06-01T08:40:42.736871Z",
     "start_time": "2020-06-01T08:40:42.575963Z"
    }
   },
   "outputs": [],
   "source": [
    "features_to_drop = find_na(X_train)\n",
    "X_train = drop_features(X_train,features_to_drop)"
   ]
  },
  {
   "cell_type": "markdown",
   "metadata": {},
   "source": [
    "#### Test data "
   ]
  },
  {
   "cell_type": "code",
   "execution_count": 21,
   "metadata": {
    "ExecuteTime": {
     "end_time": "2020-06-01T08:40:43.659227Z",
     "start_time": "2020-06-01T08:40:43.648232Z"
    }
   },
   "outputs": [],
   "source": [
    "X_test = drop_features(X_test,features_to_drop)"
   ]
  },
  {
   "cell_type": "markdown",
   "metadata": {},
   "source": [
    "## Build pipeline"
   ]
  },
  {
   "cell_type": "markdown",
   "metadata": {},
   "source": [
    "### Select classifier "
   ]
  },
  {
   "cell_type": "markdown",
   "metadata": {},
   "source": [
    "First, I test some classifier, than I can choose one for parameter optimization to get better results."
   ]
  },
  {
   "cell_type": "code",
   "execution_count": 32,
   "metadata": {
    "ExecuteTime": {
     "end_time": "2020-06-01T08:51:49.555787Z",
     "start_time": "2020-06-01T08:51:49.549791Z"
    }
   },
   "outputs": [],
   "source": [
    "knc = KNeighborsClassifier()\n",
    "lr = LogisticRegression(solver=\"newton-cg\")\n",
    "svc = SVC()\n",
    "rfc = RandomForestClassifier()\n",
    "nbc = MultinomialNB()\n",
    "#gbc = GradientBoostingClassifier()\n",
    "bc = BaggingClassifier()\n",
    "\n",
    "ml_models = models = {\"knc\": knc, \"lr\": lr, \"svc\": svc, \"rfc\": rfc,\n",
    "                      'nb' : MultinomialNB(),\n",
    "                       'bc' : BaggingClassifier()}"
   ]
  },
  {
   "cell_type": "code",
   "execution_count": 33,
   "metadata": {
    "ExecuteTime": {
     "end_time": "2020-06-01T08:51:49.962770Z",
     "start_time": "2020-06-01T08:51:49.945782Z"
    }
   },
   "outputs": [],
   "source": [
    "def initial_model(X_train, X_test, y_train, y_test, ml_models):\n",
    "    \n",
    "    \n",
    "    \n",
    "    for model in ml_models:\n",
    "          \n",
    "        if model != 'nb':\n",
    "            \n",
    "            pipe = Pipeline([(\"imputer\", SimpleImputer(fill_value = 0)),\n",
    "                     ('scaler', StandardScaler()), (model, ml_models[model])])\n",
    "        else:\n",
    "            \n",
    "            pipe = Pipeline([(\"imputer\", SimpleImputer(fill_value = 0)),\n",
    "                     ('minmax',MinMaxScaler()), (model, ml_models[model])])\n",
    "        \n",
    "        start_train = time.time()\n",
    "        pipe.fit(X_train, y_train)\n",
    "        train_time = round(time.time()-start_train,1)\n",
    "        \n",
    "        accuracy = accuracy_score(y_test,pipe.predict(X_test))\n",
    "        recall = recall_score(y_test,pipe.predict(X_test), average=None)\n",
    "        precision = precision_score(y_test,pipe.predict(X_test), average=None)\n",
    "        f1 = f1_score(y_test,pipe.predict(X_test), average=None)\n",
    "        \n",
    "        print('*'*20)\n",
    "        print(f'Scores of {model}:')\n",
    "        print('*'*20)\n",
    "        print(f'Train time: {train_time}s')\n",
    "        print(f'Accuracy score: {accuracy}')\n",
    "        print('\\n')\n",
    "        print(f'Recall score: {recall}')\n",
    "        print('\\n')\n",
    "        print(f'Precision score: {precision}')\n",
    "        print('\\n')\n",
    "        print(f'F1 score: {f1}')\n",
    "        print('\\n')\n",
    "    "
   ]
  },
  {
   "cell_type": "code",
   "execution_count": 34,
   "metadata": {
    "ExecuteTime": {
     "end_time": "2020-06-01T08:52:32.625855Z",
     "start_time": "2020-06-01T08:51:51.015675Z"
    },
    "scrolled": false
   },
   "outputs": [
    {
     "name": "stderr",
     "output_type": "stream",
     "text": [
      "c:\\users\\mesza\\.virtualenvs\\human-activity-recognition-7vqxol0e\\lib\\site-packages\\sklearn\\metrics\\_classification.py:1221: UndefinedMetricWarning: Precision is ill-defined and being set to 0.0 in labels with no predicted samples. Use `zero_division` parameter to control this behavior.\n",
      "  _warn_prf(average, modifier, msg_start, len(result))\n"
     ]
    },
    {
     "name": "stdout",
     "output_type": "stream",
     "text": [
      "********************\n",
      "Scores of knc:\n",
      "********************\n",
      "Train time: 0.4s\n",
      "Accuracy score: 0.7285067873303167\n",
      "\n",
      "\n",
      "Recall score: [0.78611111 0.66037736 0.65413534 0.76315789 0.7        0.80124224\n",
      " 0.88461538 0.31578947 0.35714286 0.         0.         0.        ]\n",
      "\n",
      "\n",
      "Precision score: [0.78830084 0.6763285  0.70731707 0.68235294 0.84259259 0.69354839\n",
      " 0.8655914  0.35294118 0.15625    0.         0.         0.        ]\n",
      "\n",
      "\n",
      "F1 score: [0.78720445 0.66825776 0.6796875  0.72049689 0.76470588 0.74351585\n",
      " 0.875      0.33333333 0.2173913  0.         0.         0.        ]\n",
      "\n",
      "\n"
     ]
    },
    {
     "name": "stderr",
     "output_type": "stream",
     "text": [
      "c:\\users\\mesza\\.virtualenvs\\human-activity-recognition-7vqxol0e\\lib\\site-packages\\sklearn\\metrics\\_classification.py:1221: UndefinedMetricWarning: Precision is ill-defined and being set to 0.0 in labels with no predicted samples. Use `zero_division` parameter to control this behavior.\n",
      "  _warn_prf(average, modifier, msg_start, len(result))\n"
     ]
    },
    {
     "name": "stdout",
     "output_type": "stream",
     "text": [
      "********************\n",
      "Scores of lr:\n",
      "********************\n",
      "Train time: 9.2s\n",
      "Accuracy score: 0.753393665158371\n",
      "\n",
      "\n",
      "Recall score: [0.80277778 0.71226415 0.68421053 0.77631579 0.82307692 0.73913043\n",
      " 0.83516484 0.55263158 0.5        0.25       0.         0.        ]\n",
      "\n",
      "\n",
      "Precision score: [0.80277778 0.70560748 0.7        0.76623377 0.79259259 0.77777778\n",
      " 0.88372093 0.47727273 0.21875    0.33333333 0.         0.        ]\n",
      "\n",
      "\n",
      "F1 score: [0.80277778 0.70892019 0.69201521 0.77124183 0.80754717 0.75796178\n",
      " 0.85875706 0.51219512 0.30434783 0.28571429 0.         0.        ]\n",
      "\n",
      "\n"
     ]
    },
    {
     "name": "stderr",
     "output_type": "stream",
     "text": [
      "c:\\users\\mesza\\.virtualenvs\\human-activity-recognition-7vqxol0e\\lib\\site-packages\\sklearn\\metrics\\_classification.py:1221: UndefinedMetricWarning: Precision is ill-defined and being set to 0.0 in labels with no predicted samples. Use `zero_division` parameter to control this behavior.\n",
      "  _warn_prf(average, modifier, msg_start, len(result))\n"
     ]
    },
    {
     "name": "stdout",
     "output_type": "stream",
     "text": [
      "********************\n",
      "Scores of svc:\n",
      "********************\n",
      "Train time: 2.6s\n",
      "Accuracy score: 0.7564102564102564\n",
      "\n",
      "\n",
      "Recall score: [0.825      0.72641509 0.61654135 0.82894737 0.73076923 0.81987578\n",
      " 0.87362637 0.36842105 0.42857143 0.08333333 0.         0.        ]\n",
      "\n",
      "\n",
      "Precision score: [0.8027027  0.7        0.78095238 0.74117647 0.85585586 0.6984127\n",
      " 0.9137931  0.42424242 0.17142857 0.25       0.         0.        ]\n",
      "\n",
      "\n",
      "F1 score: [0.81369863 0.71296296 0.68907563 0.7826087  0.78838174 0.75428571\n",
      " 0.89325843 0.3943662  0.24489796 0.125      0.         0.        ]\n",
      "\n",
      "\n"
     ]
    },
    {
     "name": "stderr",
     "output_type": "stream",
     "text": [
      "c:\\users\\mesza\\.virtualenvs\\human-activity-recognition-7vqxol0e\\lib\\site-packages\\sklearn\\metrics\\_classification.py:1221: UndefinedMetricWarning: Precision is ill-defined and being set to 0.0 in labels with no predicted samples. Use `zero_division` parameter to control this behavior.\n",
      "  _warn_prf(average, modifier, msg_start, len(result))\n"
     ]
    },
    {
     "name": "stdout",
     "output_type": "stream",
     "text": [
      "********************\n",
      "Scores of rfc:\n",
      "********************\n",
      "Train time: 5.0s\n",
      "Accuracy score: 0.8001508295625943\n",
      "\n",
      "\n",
      "Recall score: [0.86944444 0.81132075 0.66165414 0.86842105 0.83846154 0.85714286\n",
      " 0.85714286 0.28947368 0.57142857 0.         0.         0.        ]\n",
      "\n",
      "\n",
      "Precision score: [0.81088083 0.76106195 0.83018868 0.79518072 0.91596639 0.79768786\n",
      " 0.92307692 0.45833333 0.20512821 0.         0.         0.        ]\n",
      "\n",
      "\n",
      "F1 score: [0.83914209 0.78538813 0.73640167 0.83018868 0.87550201 0.82634731\n",
      " 0.88888889 0.35483871 0.30188679 0.         0.         0.        ]\n",
      "\n",
      "\n",
      "********************\n",
      "Scores of nb:\n",
      "********************\n",
      "Train time: 0.1s\n",
      "Accuracy score: 0.583710407239819\n",
      "\n",
      "\n",
      "Recall score: [0.64444444 0.66037736 0.2481203  0.67105263 0.71538462 0.36024845\n",
      " 0.84615385 0.21052632 0.35714286 0.         0.         0.        ]\n",
      "\n",
      "\n",
      "Precision score: [0.5994832  0.54474708 0.7173913  0.64556962 0.53757225 0.44615385\n",
      " 0.82352941 0.4        0.2        0.         0.         0.        ]\n",
      "\n",
      "\n",
      "F1 score: [0.62115127 0.59701493 0.36871508 0.65806452 0.61386139 0.39862543\n",
      " 0.83468835 0.27586207 0.25641026 0.         0.         0.        ]\n",
      "\n",
      "\n",
      "********************\n",
      "Scores of bc:\n",
      "********************\n",
      "Train time: 9.4s\n",
      "Accuracy score: 0.7760180995475113\n",
      "\n",
      "\n",
      "Recall score: [0.86388889 0.78301887 0.61654135 0.80263158 0.79230769 0.78881988\n",
      " 0.85714286 0.34210526 0.57142857 0.16666667 0.         0.        ]\n",
      "\n",
      "\n",
      "Precision score: [0.75120773 0.75799087 0.82828283 0.7625     0.87288136 0.75147929\n",
      " 0.92857143 0.54166667 0.28571429 0.28571429 0.         0.        ]\n",
      "\n",
      "\n",
      "F1 score: [0.80361757 0.77030162 0.70689655 0.78205128 0.83064516 0.76969697\n",
      " 0.89142857 0.41935484 0.38095238 0.21052632 0.         0.        ]\n",
      "\n",
      "\n"
     ]
    },
    {
     "name": "stderr",
     "output_type": "stream",
     "text": [
      "c:\\users\\mesza\\.virtualenvs\\human-activity-recognition-7vqxol0e\\lib\\site-packages\\sklearn\\metrics\\_classification.py:1221: UndefinedMetricWarning: Precision is ill-defined and being set to 0.0 in labels with no predicted samples. Use `zero_division` parameter to control this behavior.\n",
      "  _warn_prf(average, modifier, msg_start, len(result))\n"
     ]
    }
   ],
   "source": [
    "initial_model(X_train,X_test,y_train[\"activity\"],y_test[\"activity\"],ml_models)"
   ]
  },
  {
   "cell_type": "markdown",
   "metadata": {},
   "source": [
    "## Final model"
   ]
  },
  {
   "cell_type": "markdown",
   "metadata": {},
   "source": [
    "In the initial test, in the previous section I tried out some of the classification models in sklearn. There are some model with really high accuracy. Most of the models without any parameter tuning, show us a high accuracy. The fastest model was the `Naive Bayes` but the accuracy wasn't so high. The `Random Forest Classifier` has the highest accuracy score, and the calculation speed is not so bad. I will test out this model. "
   ]
  },
  {
   "cell_type": "markdown",
   "metadata": {},
   "source": [
    "### RandomForestClassifier "
   ]
  },
  {
   "cell_type": "code",
   "execution_count": 257,
   "metadata": {
    "ExecuteTime": {
     "end_time": "2020-05-31T19:07:12.528190Z",
     "start_time": "2020-05-31T19:07:12.521195Z"
    }
   },
   "outputs": [],
   "source": [
    "rfc_params = {'rfc__n_estimators' : [100],\n",
    "              'rfc__max_depth' : [2, 20, 50],\n",
    "              'rfc__min_samples_split' : [2, 5, 10],\n",
    "              'rfc__min_samples_leaf' : [1, 2, 10]} "
   ]
  },
  {
   "cell_type": "code",
   "execution_count": 258,
   "metadata": {
    "ExecuteTime": {
     "end_time": "2020-05-31T19:07:17.080148Z",
     "start_time": "2020-05-31T19:07:17.072149Z"
    }
   },
   "outputs": [],
   "source": [
    " def random_search(model, params):\n",
    "        \n",
    "    pipe = Pipeline([(\"imputer\", SimpleImputer(fill_value = 0)),\n",
    "                     ('scaler', StandardScaler()), (\"rfc\", model)])\n",
    "                     \n",
    "    search = GridSearchCV(pipe, param_grid=params)\n",
    "    \n",
    "    return search"
   ]
  },
  {
   "cell_type": "code",
   "execution_count": 259,
   "metadata": {
    "ExecuteTime": {
     "end_time": "2020-05-31T19:07:17.863400Z",
     "start_time": "2020-05-31T19:07:17.858382Z"
    }
   },
   "outputs": [],
   "source": [
    "model = random_search(RandomForestClassifier(),rfc_params)"
   ]
  },
  {
   "cell_type": "code",
   "execution_count": null,
   "metadata": {},
   "outputs": [],
   "source": []
  },
  {
   "cell_type": "code",
   "execution_count": 260,
   "metadata": {
    "ExecuteTime": {
     "end_time": "2020-05-31T19:18:20.790161Z",
     "start_time": "2020-05-31T19:07:20.429154Z"
    },
    "scrolled": false
   },
   "outputs": [
    {
     "data": {
      "text/plain": [
       "GridSearchCV(estimator=Pipeline(steps=[('imputer', SimpleImputer(fill_value=0)),\n",
       "                                       ('scaler', StandardScaler()),\n",
       "                                       ('rfc', RandomForestClassifier())]),\n",
       "             param_grid={'rfc__max_depth': [2, 20, 50],\n",
       "                         'rfc__min_samples_leaf': [1, 2, 10],\n",
       "                         'rfc__min_samples_split': [2, 5, 10],\n",
       "                         'rfc__n_estimators': [100]})"
      ]
     },
     "execution_count": 260,
     "metadata": {},
     "output_type": "execute_result"
    }
   ],
   "source": [
    "model.fit(X_train,y_train['activity'])"
   ]
  },
  {
   "cell_type": "code",
   "execution_count": 262,
   "metadata": {
    "ExecuteTime": {
     "end_time": "2020-05-31T19:21:07.343181Z",
     "start_time": "2020-05-31T19:21:07.335186Z"
    }
   },
   "outputs": [
    {
     "data": {
      "text/plain": [
       "{'rfc__max_depth': 50,\n",
       " 'rfc__min_samples_leaf': 1,\n",
       " 'rfc__min_samples_split': 5,\n",
       " 'rfc__n_estimators': 100}"
      ]
     },
     "execution_count": 262,
     "metadata": {},
     "output_type": "execute_result"
    }
   ],
   "source": [
    "model.best_params_"
   ]
  },
  {
   "cell_type": "code",
   "execution_count": 40,
   "metadata": {
    "ExecuteTime": {
     "end_time": "2020-06-01T09:06:52.461018Z",
     "start_time": "2020-06-01T09:06:47.493865Z"
    }
   },
   "outputs": [
    {
     "data": {
      "text/plain": [
       "Pipeline(steps=[('imputer', SimpleImputer(fill_value=0)),\n",
       "                ('scaler', StandardScaler()),\n",
       "                ('rfc',\n",
       "                 RandomForestClassifier(max_depth=50, min_samples_split=5))])"
      ]
     },
     "execution_count": 40,
     "metadata": {},
     "output_type": "execute_result"
    }
   ],
   "source": [
    "rfc = RandomForestClassifier(max_depth=50, min_samples_leaf=1, min_samples_split=5, n_estimators=100)\n",
    "model = Pipeline([(\"imputer\", SimpleImputer(fill_value = 0)),\n",
    "                 ('scaler', StandardScaler()), (\"rfc\", rfc)])\n",
    "                     \n",
    "model.fit(X_train,y_train['activity'])"
   ]
  },
  {
   "cell_type": "code",
   "execution_count": 41,
   "metadata": {
    "ExecuteTime": {
     "end_time": "2020-06-01T09:06:53.162620Z",
     "start_time": "2020-06-01T09:06:52.717874Z"
    }
   },
   "outputs": [
    {
     "name": "stdout",
     "output_type": "stream",
     "text": [
      "********************\n",
      "Scores of Pipeline(steps=[('imputer', SimpleImputer(fill_value=0)),\n",
      "                ('scaler', StandardScaler()),\n",
      "                ('rfc',\n",
      "                 RandomForestClassifier(max_depth=50, min_samples_split=5))]):\n",
      "********************\n",
      "Train time: 0.0s\n",
      "Accuracy score: 0.797134238310709\n",
      "\n",
      "\n",
      "Recall score: [0.86666667 0.81132075 0.63909774 0.88157895 0.84615385 0.85093168\n",
      " 0.85714286 0.28947368 0.5        0.         0.         0.        ]\n",
      "\n",
      "\n",
      "Precision score: [0.81462141 0.75770925 0.81730769 0.77906977 0.91666667 0.79190751\n",
      " 0.89655172 0.45833333 0.21212121 0.         0.         0.        ]\n",
      "\n",
      "\n",
      "F1 score: [0.83983849 0.78359909 0.71729958 0.82716049 0.88       0.82035928\n",
      " 0.87640449 0.35483871 0.29787234 0.         0.         0.        ]\n",
      "\n",
      "\n"
     ]
    },
    {
     "name": "stderr",
     "output_type": "stream",
     "text": [
      "c:\\users\\mesza\\.virtualenvs\\human-activity-recognition-7vqxol0e\\lib\\site-packages\\sklearn\\metrics\\_classification.py:1221: UndefinedMetricWarning: Precision is ill-defined and being set to 0.0 in labels with no predicted samples. Use `zero_division` parameter to control this behavior.\n",
      "  _warn_prf(average, modifier, msg_start, len(result))\n"
     ]
    }
   ],
   "source": [
    "start_train = time.time()\n",
    "train_time = round(time.time()-start_train,1)\n",
    "\n",
    "accuracy = accuracy_score(y_test,model.predict(X_test))\n",
    "recall = recall_score(y_test,model.predict(X_test), average=None)\n",
    "precision = precision_score(y_test,model.predict(X_test), average=None)\n",
    "f1 = f1_score(y_test,model.predict(X_test), average=None)\n",
    "\n",
    "print('*'*20)\n",
    "print(f'Scores of {model}:')\n",
    "print('*'*20)\n",
    "print(f'Train time: {train_time}s')\n",
    "print(f'Accuracy score: {accuracy}')\n",
    "print('\\n')\n",
    "print(f'Recall score: {recall}')\n",
    "print('\\n')\n",
    "print(f'Precision score: {precision}')\n",
    "print('\\n')\n",
    "print(f'F1 score: {f1}')\n",
    "print('\\n')\n",
    "    "
   ]
  },
  {
   "cell_type": "code",
   "execution_count": 43,
   "metadata": {
    "ExecuteTime": {
     "end_time": "2020-06-01T09:07:33.957824Z",
     "start_time": "2020-06-01T09:07:23.686701Z"
    }
   },
   "outputs": [],
   "source": [
    "scores = cross_val_score(model, X_train, y_train[\"activity\"], cv=3)"
   ]
  },
  {
   "cell_type": "code",
   "execution_count": null,
   "metadata": {
    "ExecuteTime": {
     "end_time": "2020-05-31T16:42:24.993801Z",
     "start_time": "2020-05-31T16:13:47.061Z"
    }
   },
   "outputs": [],
   "source": [
    "print('Accuracy of the model: {}% ±{}%'.format(round(np.mean(scores)*100,2), round(np.std(scores)*100,2)))"
   ]
  },
  {
   "cell_type": "code",
   "execution_count": 37,
   "metadata": {
    "ExecuteTime": {
     "end_time": "2020-06-01T08:52:52.767690Z",
     "start_time": "2020-06-01T08:52:51.420462Z"
    }
   },
   "outputs": [
    {
     "data": {
      "text/plain": [
       "<matplotlib.axes._subplots.AxesSubplot at 0x15dd7b75a88>"
      ]
     },
     "execution_count": 37,
     "metadata": {},
     "output_type": "execute_result"
    },
    {
     "data": {
      "image/png": "[encoded data removed]",
      "text/plain": [
       "<Figure size 1152x720 with 2 Axes>"
      ]
     },
     "metadata": {
      "needs_background": "light"
     },
     "output_type": "display_data"
    }
   ],
   "source": [
    "plt.figure(figsize=(16,10))\n",
    "sns.heatmap(confusion_matrix(y_test,model.predict(X_test)), annot=True, cmap=\"viridis\",\n",
    "            xticklabels=[\"No_Activity\",\"WALKING\",\n",
    "                       \"WALKING_UPSTAIRS\",\n",
    "                       \"WALKING_DOWNSTAIRS\",\n",
    "                       \"SITTING\",\n",
    "                       \"STANDING\",\n",
    "                       \"LAYING\",\n",
    "                       \"STAND_TO_SIT\",\n",
    "                       \"SIT_TO_STAND\",\n",
    "                       \"SIT_TO_LIE\",\n",
    "                       \"LIE_TO_SIT\",\n",
    "                       \"STAND_TO_LIE\",\n",
    "                       \"LIE_TO_STAND\"],\n",
    "            yticklabels=['NO_Activity',\"WALKING\",\n",
    "                       \"WALKING_UPSTAIRS\",\n",
    "                       \"WALKING_DOWNSTAIRS\",\n",
    "                       \"SITTING\",\n",
    "                       \"STANDING\",\n",
    "                       \"LAYING\",\n",
    "                       \"STAND_TO_SIT\",\n",
    "                       \"SIT_TO_STAND\",\n",
    "                       \"SIT_TO_LIE\",\n",
    "                       \"LIE_TO_SIT\",\n",
    "                       \"STAND_TO_LIE\",\n",
    "                       \"LIE_TO_STAND\"])"
   ]
  },
  {
   "cell_type": "markdown",
   "metadata": {},
   "source": [
    "###  Saving the final model"
   ]
  },
  {
   "cell_type": "code",
   "execution_count": 27,
   "metadata": {
    "ExecuteTime": {
     "end_time": "2020-06-01T08:42:38.244986Z",
     "start_time": "2020-06-01T08:42:38.240984Z"
    }
   },
   "outputs": [],
   "source": [
    "import joblib"
   ]
  },
  {
   "cell_type": "code",
   "execution_count": 28,
   "metadata": {
    "ExecuteTime": {
     "end_time": "2020-06-01T08:43:56.474198Z",
     "start_time": "2020-06-01T08:43:56.466204Z"
    }
   },
   "outputs": [],
   "source": [
    "def save_model():\n",
    "    '''Save the model to disk'''\n",
    "    \n",
    "    filename = '../models/har_model_v05.sav'\n",
    "    joblib.dump(model, filename)\n",
    "    readme = open('../models/ml_model_v05.txt', 'w')\n",
    "    readme.write('Ml model with rfc, there is no overlapping in the original data. PSd have been calculated for the blocks and not for the activities the accuracy is less..')\n",
    "    readme.close()"
   ]
  },
  {
   "cell_type": "code",
   "execution_count": 29,
   "metadata": {
    "ExecuteTime": {
     "end_time": "2020-06-01T08:43:57.805436Z",
     "start_time": "2020-06-01T08:43:57.589560Z"
    }
   },
   "outputs": [],
   "source": [
    "save_model()"
   ]
  },
  {
   "cell_type": "code",
   "execution_count": 30,
   "metadata": {
    "ExecuteTime": {
     "end_time": "2020-06-01T08:43:59.088299Z",
     "start_time": "2020-06-01T08:43:59.078306Z"
    }
   },
   "outputs": [
    {
     "data": {
      "text/plain": [
       "[('acc_x_FFT', 'peak_mean_6'),\n",
       " ('acc_x_FFT', 'peak_mean_8'),\n",
       " ('acc_x_FFT', 'peak_mean_12'),\n",
       " ('acc_y_FFT', 'peak_mean_6'),\n",
       " ('acc_y_FFT', 'peak_mean_8'),\n",
       " ('acc_y_FFT', 'peak_mean_12'),\n",
       " ('acc_z_FFT', 'peak_mean_6'),\n",
       " ('acc_z_FFT', 'peak_mean_8'),\n",
       " ('acc_z_FFT', 'peak_mean_12'),\n",
       " ('gyro_x_FFT', 'peak_mean_6'),\n",
       " ('gyro_x_FFT', 'peak_mean_8'),\n",
       " ('gyro_x_FFT', 'peak_mean_12'),\n",
       " ('gyro_y_FFT', 'peak_mean_6'),\n",
       " ('gyro_y_FFT', 'peak_mean_8'),\n",
       " ('gyro_y_FFT', 'peak_mean_12'),\n",
       " ('gyro_z_FFT', 'peak_mean_6'),\n",
       " ('gyro_z_FFT', 'peak_mean_8'),\n",
       " ('gyro_z_FFT', 'peak_mean_12')]"
      ]
     },
     "execution_count": 30,
     "metadata": {},
     "output_type": "execute_result"
    }
   ],
   "source": [
    "features_to_drop"
   ]
  },
  {
   "cell_type": "code",
   "execution_count": null,
   "metadata": {},
   "outputs": [],
   "source": []
  }
 ],
 "metadata": {
  "kernelspec": {
   "display_name": "Python 3",
   "language": "python",
   "name": "python3"
  },
  "language_info": {
   "codemirror_mode": {
    "name": "ipython",
    "version": 3
   },
   "file_extension": ".py",
   "mimetype": "text/x-python",
   "name": "python",
   "nbconvert_exporter": "python",
   "pygments_lexer": "ipython3",
   "version": "3.7.5"
  },
  "notify_time": "10",
  "toc": {
   "base_numbering": 1,
   "nav_menu": {},
   "number_sections": true,
   "sideBar": true,
   "skip_h1_title": false,
   "title_cell": "Table of Contents",
   "title_sidebar": "Contents",
   "toc_cell": false,
   "toc_position": {},
   "toc_section_display": true,
   "toc_window_display": true
  },
  "varInspector": {
   "cols": {
    "lenName": 16,
    "lenType": 16,
    "lenVar": 40
   },
   "kernels_config": {
    "python": {
     "delete_cmd_postfix": "",
     "delete_cmd_prefix": "del ",
     "library": "var_list.py",
     "varRefreshCmd": "print(var_dic_list())"
    },
    "r": {
     "delete_cmd_postfix": ") ",
     "delete_cmd_prefix": "rm(",
     "library": "var_list.r",
     "varRefreshCmd": "cat(var_dic_list()) "
    }
   },
   "types_to_exclude": [
    "module",
    "function",
    "builtin_function_or_method",
    "instance",
    "_Feature"
   ],
   "window_display": false
  }
 },
 "nbformat": 4,
 "nbformat_minor": 4
}
