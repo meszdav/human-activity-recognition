{
 "cells": [
  {
   "cell_type": "markdown",
   "metadata": {},
   "source": [
    "## Import dependencies"
   ]
  },
  {
   "cell_type": "code",
   "execution_count": 25,
   "metadata": {
    "ExecuteTime": {
     "end_time": "2020-06-06T10:06:02.347198Z",
     "start_time": "2020-06-06T10:06:02.334203Z"
    }
   },
   "outputs": [],
   "source": [
    "import pandas as pd\n",
    "import seaborn as sns\n",
    "import time\n",
    "\n",
    "import matplotlib.pyplot as plt\n",
    "\n",
    "from sklearn.model_selection import train_test_split\n",
    "\n",
    "from sklearn.neighbors import KNeighborsClassifier\n",
    "from sklearn.naive_bayes import MultinomialNB\n",
    "from sklearn.linear_model import LogisticRegression\n",
    "from sklearn.svm import SVC\n",
    "from sklearn.ensemble import GradientBoostingClassifier, VotingClassifier, BaggingClassifier\n",
    "from sklearn.ensemble import RandomForestClassifier\n",
    "\n",
    "from sklearn.metrics import accuracy_score, recall_score, precision_score, f1_score\n",
    "from sklearn.model_selection import cross_val_score\n",
    "from sklearn.pipeline import Pipeline\n",
    "from sklearn.impute import SimpleImputer\n",
    "from sklearn.preprocessing import StandardScaler, MinMaxScaler\n",
    "from sklearn.model_selection import GridSearchCV\n",
    "from sklearn.metrics import confusion_matrix\n",
    "\n",
    "import joblib"
   ]
  },
  {
   "cell_type": "markdown",
   "metadata": {},
   "source": [
    "## Read data"
   ]
  },
  {
   "cell_type": "code",
   "execution_count": 26,
   "metadata": {
    "ExecuteTime": {
     "end_time": "2020-06-06T10:06:03.827303Z",
     "start_time": "2020-06-06T10:06:03.149368Z"
    }
   },
   "outputs": [],
   "source": [
    "X_train = pd.read_csv(\"../data/train_test/X_train.csv\",header=None)\n",
    "X_test = pd.read_csv(\"../data/train_test/X_test.csv\", header=None)\n",
    "y_train = pd.read_csv(\"../data/train_test/y_train.csv\", header=None)\n",
    "y_test = pd.read_csv(\"../data/train_test/y_test.csv\", header=None)\n",
    "\n",
    "X_train = X_train.to_numpy()\n",
    "X_test = X_test.to_numpy()\n",
    "y_train = y_train.to_numpy().reshape(-1,)\n",
    "y_test = y_test.to_numpy().reshape(-1,)"
   ]
  },
  {
   "cell_type": "markdown",
   "metadata": {},
   "source": [
    "## Build pipeline"
   ]
  },
  {
   "cell_type": "markdown",
   "metadata": {},
   "source": [
    "### Select classifier "
   ]
  },
  {
   "cell_type": "markdown",
   "metadata": {},
   "source": [
    "First, I test some classifier, than I can choose one for parameter optimization to get better results."
   ]
  },
  {
   "cell_type": "code",
   "execution_count": 27,
   "metadata": {
    "ExecuteTime": {
     "end_time": "2020-06-06T10:06:05.521083Z",
     "start_time": "2020-06-06T10:06:05.512086Z"
    }
   },
   "outputs": [],
   "source": [
    "\n",
    "knc = KNeighborsClassifier()\n",
    "lr = LogisticRegression(solver=\"newton-cg\")\n",
    "svc = SVC()\n",
    "rfc = RandomForestClassifier()\n",
    "nbc = MultinomialNB()\n",
    "#gbc = GradientBoostingClassifier()\n",
    "bc = BaggingClassifier()\n",
    "\n",
    "ml_models = models = {\"knc\": knc, \"lr\": lr, \"svc\": svc, \"rfc\": rfc,\n",
    "                      'nb' : MultinomialNB(),\n",
    "                       'bc' : BaggingClassifier()}"
   ]
  },
  {
   "cell_type": "code",
   "execution_count": 28,
   "metadata": {
    "ExecuteTime": {
     "end_time": "2020-06-06T10:06:06.180691Z",
     "start_time": "2020-06-06T10:06:06.168697Z"
    }
   },
   "outputs": [],
   "source": [
    "def initial_model(X_train, X_test, y_train, y_test, ml_models):\n",
    "    \n",
    "    \n",
    "    \n",
    "    for model in ml_models:\n",
    "          \n",
    "        if model != 'nb':\n",
    "            \n",
    "            pipe = Pipeline([(\"imputer\", SimpleImputer(fill_value = 0)),\n",
    "                     ('scaler', StandardScaler()), (model, ml_models[model])])\n",
    "        else:\n",
    "            \n",
    "            pipe = Pipeline([(\"imputer\", SimpleImputer(fill_value = 0)),\n",
    "                     ('minmax',MinMaxScaler()), (model, ml_models[model])])\n",
    "        \n",
    "        start_train = time.time()\n",
    "        pipe.fit(X_train, y_train)\n",
    "        train_time = round(time.time()-start_train,1)\n",
    "        \n",
    "        accuracy = accuracy_score(y_test,pipe.predict(X_test))\n",
    "        recall = recall_score(y_test,pipe.predict(X_test), average=None)\n",
    "        precision = precision_score(y_test,pipe.predict(X_test), average=None)\n",
    "        f1 = f1_score(y_test,pipe.predict(X_test), average=None)\n",
    "        \n",
    "        print('*'*20)\n",
    "        print(f'Scores of {model}:')\n",
    "        print('*'*20)\n",
    "        print(f'Train time: {train_time}s')\n",
    "        print(f'Accuracy score: {accuracy}')\n",
    "        print('\\n')\n",
    "        print(f'Recall score: {recall}')\n",
    "        print('\\n')\n",
    "        print(f'Precision score: {precision}')\n",
    "        print('\\n')\n",
    "        print(f'F1 score: {f1}')\n",
    "        print('\\n')\n",
    "    "
   ]
  },
  {
   "cell_type": "code",
   "execution_count": 29,
   "metadata": {
    "ExecuteTime": {
     "end_time": "2020-06-06T10:07:08.897417Z",
     "start_time": "2020-06-06T10:06:06.809636Z"
    },
    "scrolled": false
   },
   "outputs": [
    {
     "name": "stdout",
     "output_type": "stream",
     "text": [
      "********************\n",
      "Scores of knc:\n",
      "********************\n",
      "Train time: 0.5s\n",
      "Accuracy score: 0.9432750624331074\n",
      "\n",
      "\n",
      "Recall score: [0.98795181 0.98756219 0.98113208 0.86104784 0.91983968 0.99781659\n",
      " 0.76470588 0.93333333 0.93023256 0.75       0.84615385 0.71794872]\n",
      "\n",
      "\n",
      "Precision score: [0.95571096 0.97783251 0.98913043 0.91084337 0.88610039 0.99132321\n",
      " 1.         0.77777778 0.85106383 0.79411765 0.93617021 0.82352941]\n",
      "\n",
      "\n",
      "F1 score: [0.97156398 0.98267327 0.98511502 0.8852459  0.90265487 0.9945593\n",
      " 0.86666667 0.84848485 0.88888889 0.77142857 0.88888889 0.76712329]\n",
      "\n",
      "\n",
      "********************\n",
      "Scores of lr:\n",
      "********************\n",
      "Train time: 8.4s\n",
      "Accuracy score: 0.96931858722797\n",
      "\n",
      "\n",
      "Recall score: [0.98313253 0.99751244 0.99730458 0.94077449 0.93186373 1.\n",
      " 0.88235294 1.         0.93023256 0.94444444 0.90384615 0.92307692]\n",
      "\n",
      "\n",
      "Precision score: [0.99512195 0.98525799 0.9919571  0.921875   0.94512195 0.99565217\n",
      " 0.96774194 1.         0.93023256 0.94444444 0.95918367 0.92307692]\n",
      "\n",
      "\n",
      "F1 score: [0.98909091 0.99134734 0.99462366 0.93122886 0.93844601 0.99782135\n",
      " 0.92307692 1.         0.93023256 0.94444444 0.93069307 0.92307692]\n",
      "\n",
      "\n",
      "********************\n",
      "Scores of svc:\n",
      "********************\n",
      "Train time: 3.9s\n",
      "Accuracy score: 0.949696753478416\n",
      "\n",
      "\n",
      "Recall score: [0.98795181 0.99751244 0.98382749 0.90660592 0.88777555 1.\n",
      " 0.88235294 0.86666667 0.86046512 0.72222222 0.94230769 0.82051282]\n",
      "\n",
      "\n",
      "Precision score: [0.98795181 0.97804878 0.99184783 0.8785872  0.92291667 0.98920086\n",
      " 0.96774194 1.         0.94871795 0.86666667 0.81666667 0.7804878 ]\n",
      "\n",
      "\n",
      "F1 score: [0.98795181 0.98768473 0.98782138 0.89237668 0.90500511 0.99457112\n",
      " 0.92307692 0.92857143 0.90243902 0.78787879 0.875      0.8       ]\n",
      "\n",
      "\n",
      "********************\n",
      "Scores of rfc:\n",
      "********************\n",
      "Train time: 7.2s\n",
      "Accuracy score: 0.9785943631823046\n",
      "\n",
      "\n",
      "Recall score: [1.         0.99004975 0.98382749 0.97266515 0.9739479  1.\n",
      " 0.91176471 1.         0.88372093 0.80555556 0.92307692 0.84615385]\n",
      "\n",
      "\n",
      "Precision score: [0.97877358 0.995      0.99726776 0.96825397 0.9739479  1.\n",
      " 0.96875    1.         0.9047619  0.82857143 0.90566038 0.86842105]\n",
      "\n",
      "\n",
      "F1 score: [0.98927294 0.9925187  0.99050204 0.97045455 0.9739479  1.\n",
      " 0.93939394 1.         0.89411765 0.81690141 0.91428571 0.85714286]\n",
      "\n",
      "\n",
      "********************\n",
      "Scores of nb:\n",
      "********************\n",
      "Train time: 0.1s\n",
      "Accuracy score: 0.7866571530503033\n",
      "\n",
      "\n",
      "Recall score: [0.82650602 0.63930348 0.8032345  0.82004556 0.71342685 0.97161572\n",
      " 0.52941176 0.66666667 0.79069767 0.63888889 0.69230769 0.64102564]\n",
      "\n",
      "\n",
      "Precision score: [0.59548611 0.77409639 0.88690476 0.75471698 0.85167464 0.98017621\n",
      " 0.75       0.37037037 0.77272727 0.67647059 0.9        0.6097561 ]\n",
      "\n",
      "\n",
      "F1 score: [0.69223007 0.70027248 0.84299859 0.7860262  0.77644493 0.97587719\n",
      " 0.62068966 0.47619048 0.7816092  0.65714286 0.7826087  0.625     ]\n",
      "\n",
      "\n",
      "********************\n",
      "Scores of bc:\n",
      "********************\n",
      "Train time: 10.5s\n",
      "Accuracy score: 0.9593292900463789\n",
      "\n",
      "\n",
      "Recall score: [0.98795181 0.95024876 0.97843666 0.95216401 0.95791583 1.\n",
      " 0.79411765 1.         0.86046512 0.75       0.82692308 0.79487179]\n",
      "\n",
      "\n",
      "Precision score: [0.95348837 0.97948718 0.97580645 0.9478458  0.95791583 0.99782135\n",
      " 0.9        0.88235294 0.86046512 0.79411765 0.86       0.81578947]\n",
      "\n",
      "\n",
      "F1 score: [0.9704142  0.96464646 0.97711978 0.95       0.95791583 0.99890949\n",
      " 0.84375    0.9375     0.86046512 0.77142857 0.84313725 0.80519481]\n",
      "\n",
      "\n"
     ]
    }
   ],
   "source": [
    "initial_model(X_train,X_test,y_train,y_test,ml_models)"
   ]
  },
  {
   "cell_type": "markdown",
   "metadata": {},
   "source": [
    "## Final model"
   ]
  },
  {
   "cell_type": "markdown",
   "metadata": {},
   "source": [
    "In the initial test, in the previous section I tried out some of the classification models in sklearn. There are some model with really high accuracy. Most of the models without any parameter tuning, show us a high accuracy. The fastest model was the `Naive Bayes` but the accuracy wasn't so high. The `Random Forest Classifier` has the highest accuracy score, and the calculation speed is not so bad. I will test out this model. "
   ]
  },
  {
   "cell_type": "markdown",
   "metadata": {},
   "source": [
    "### RandomForestClassifier "
   ]
  },
  {
   "cell_type": "code",
   "execution_count": 30,
   "metadata": {
    "ExecuteTime": {
     "end_time": "2020-06-06T10:15:50.130685Z",
     "start_time": "2020-06-06T10:15:50.123704Z"
    }
   },
   "outputs": [],
   "source": [
    "rfc_params = {'rfc__n_estimators' : [20,50,100,200],\n",
    "              'rfc__min_samples_split' : [2, 5, 10],\n",
    "              'rfc__min_samples_leaf' : [1,2,5,10]} "
   ]
  },
  {
   "cell_type": "code",
   "execution_count": 31,
   "metadata": {
    "ExecuteTime": {
     "end_time": "2020-06-06T10:15:51.089550Z",
     "start_time": "2020-06-06T10:15:51.084552Z"
    }
   },
   "outputs": [],
   "source": [
    " def random_search(model, params):\n",
    "        \n",
    "    pipe = Pipeline([(\"imputer\", SimpleImputer(fill_value = 0)),\n",
    "                     ('scaler', StandardScaler()), (\"rfc\", model)])\n",
    "                     \n",
    "    search = GridSearchCV(pipe, param_grid=params)\n",
    "    \n",
    "    return search"
   ]
  },
  {
   "cell_type": "code",
   "execution_count": 32,
   "metadata": {
    "ExecuteTime": {
     "end_time": "2020-06-06T10:15:51.874543Z",
     "start_time": "2020-06-06T10:15:51.869547Z"
    }
   },
   "outputs": [],
   "source": [
    "model = random_search(RandomForestClassifier(),rfc_params)"
   ]
  },
  {
   "cell_type": "code",
   "execution_count": 33,
   "metadata": {
    "ExecuteTime": {
     "end_time": "2020-06-06T10:33:07.329281Z",
     "start_time": "2020-06-06T10:15:52.711506Z"
    },
    "scrolled": false
   },
   "outputs": [
    {
     "data": {
      "text/plain": [
       "GridSearchCV(estimator=Pipeline(steps=[('imputer', SimpleImputer(fill_value=0)),\n",
       "                                       ('scaler', StandardScaler()),\n",
       "                                       ('rfc', RandomForestClassifier())]),\n",
       "             param_grid={'rfc__min_samples_leaf': [1, 2, 5, 10],\n",
       "                         'rfc__min_samples_split': [2, 5, 10],\n",
       "                         'rfc__n_estimators': [20, 50, 100, 200]})"
      ]
     },
     "execution_count": 33,
     "metadata": {},
     "output_type": "execute_result"
    }
   ],
   "source": [
    "model.fit(X_train,y_train)"
   ]
  },
  {
   "cell_type": "code",
   "execution_count": 37,
   "metadata": {
    "ExecuteTime": {
     "end_time": "2020-06-06T10:35:28.228191Z",
     "start_time": "2020-06-06T10:35:28.215202Z"
    }
   },
   "outputs": [
    {
     "data": {
      "text/plain": [
       "Pipeline(steps=[('imputer', SimpleImputer(fill_value=0)),\n",
       "                ('scaler', StandardScaler()),\n",
       "                ('rfc',\n",
       "                 RandomForestClassifier(min_samples_leaf=2, n_estimators=200))])"
      ]
     },
     "execution_count": 37,
     "metadata": {},
     "output_type": "execute_result"
    }
   ],
   "source": [
    "model.best_estimator_"
   ]
  },
  {
   "cell_type": "code",
   "execution_count": 41,
   "metadata": {
    "ExecuteTime": {
     "end_time": "2020-06-06T10:37:55.452456Z",
     "start_time": "2020-06-06T10:37:54.783835Z"
    }
   },
   "outputs": [
    {
     "name": "stdout",
     "output_type": "stream",
     "text": [
      "********************\n",
      "Scores of Pipeline(steps=[('imputer', SimpleImputer(fill_value=0)),\n",
      "                ('scaler', StandardScaler()),\n",
      "                ('rfc',\n",
      "                 RandomForestClassifier(min_samples_leaf=2, n_estimators=200))]):\n",
      "********************\n",
      "Train time: 0.0s\n",
      "Accuracy score: 0.9732429539778809\n",
      "\n",
      "\n",
      "Recall score: [0.99277108 0.98258706 0.98113208 0.96810934 0.96793587 1.\n",
      " 0.94117647 0.93333333 0.86046512 0.75       0.92307692 0.84615385]\n",
      "\n",
      "\n",
      "Precision score: [0.97399527 0.9875     0.99453552 0.96153846 0.96987952 0.99782135\n",
      " 0.94117647 1.         0.90243902 0.81818182 0.90566038 0.825     ]\n",
      "\n",
      "\n",
      "F1 score: [0.98329356 0.98503741 0.98778833 0.96481271 0.96890672 0.99890949\n",
      " 0.94117647 0.96551724 0.88095238 0.7826087  0.91428571 0.83544304]\n",
      "\n",
      "\n"
     ]
    }
   ],
   "source": [
    "best = model.best_estimator_\n",
    "\n",
    "start_train = time.time()\n",
    "train_time = round(time.time()-start_train,1)\n",
    "\n",
    "accuracy = accuracy_score(y_test,best.predict(X_test))\n",
    "recall = recall_score(y_test,best.predict(X_test), average=None)\n",
    "precision = precision_score(y_test,best.predict(X_test), average=None)\n",
    "f1 = f1_score(y_test,best.predict(X_test), average=None)\n",
    "\n",
    "print('*'*20)\n",
    "print(f'Scores of {best}:')\n",
    "print('*'*20)\n",
    "print(f'Train time: {train_time}s')\n",
    "print(f'Accuracy score: {accuracy}')\n",
    "print('\\n')\n",
    "print(f'Recall score: {recall}')\n",
    "print('\\n')\n",
    "print(f'Precision score: {precision}')\n",
    "print('\\n')\n",
    "print(f'F1 score: {f1}')\n",
    "print('\\n')\n",
    "    "
   ]
  },
  {
   "cell_type": "code",
   "execution_count": 43,
   "metadata": {
    "ExecuteTime": {
     "end_time": "2020-06-06T10:38:38.901990Z",
     "start_time": "2020-06-06T10:38:15.016632Z"
    }
   },
   "outputs": [],
   "source": [
    "scores = cross_val_score(best, X_train, y_train, cv=3)"
   ]
  },
  {
   "cell_type": "code",
   "execution_count": 44,
   "metadata": {
    "ExecuteTime": {
     "end_time": "2020-06-06T10:38:39.011898Z",
     "start_time": "2020-06-06T10:38:39.005900Z"
    }
   },
   "outputs": [
    {
     "name": "stdout",
     "output_type": "stream",
     "text": [
      "Accuracy of the model: 97.84% ±0.26%\n"
     ]
    }
   ],
   "source": [
    "print('Accuracy of the model: {}% ±{}%'.format(round(np.mean(scores)*100,2), round(np.std(scores)*100,2)))"
   ]
  },
  {
   "cell_type": "code",
   "execution_count": 46,
   "metadata": {
    "ExecuteTime": {
     "end_time": "2020-06-06T10:38:48.110333Z",
     "start_time": "2020-06-06T10:38:47.237832Z"
    }
   },
   "outputs": [
    {
     "data": {
      "text/plain": [
       "<matplotlib.axes._subplots.AxesSubplot at 0x2cee3cf9108>"
      ]
     },
     "execution_count": 46,
     "metadata": {},
     "output_type": "execute_result"
    },
    {
     "data": {
      "image/png": "[encoded data removed]",
      "text/plain": [
       "<Figure size 1152x720 with 2 Axes>"
      ]
     },
     "metadata": {
      "needs_background": "light"
     },
     "output_type": "display_data"
    }
   ],
   "source": [
    "plt.figure(figsize=(16,10))\n",
    "sns.heatmap(confusion_matrix(y_test,model.predict(X_test)), annot=True, cmap=\"viridis\",\n",
    "            xticklabels=[\"WALKING\",\n",
    "                       \"WALKING_UPSTAIRS\",\n",
    "                       \"WALKING_DOWNSTAIRS\",\n",
    "                       \"SITTING\",\n",
    "                       \"STANDING\",\n",
    "                       \"LAYING\",\n",
    "                       \"STAND_TO_SIT\",\n",
    "                       \"SIT_TO_STAND\",\n",
    "                       \"SIT_TO_LIE\",\n",
    "                       \"LIE_TO_SIT\",\n",
    "                       \"STAND_TO_LIE\",\n",
    "                       \"LIE_TO_STAND\"],\n",
    "            yticklabels=[\"WALKING\",\n",
    "                       \"WALKING_UPSTAIRS\",\n",
    "                       \"WALKING_DOWNSTAIRS\",\n",
    "                       \"SITTING\",\n",
    "                       \"STANDING\",\n",
    "                       \"LAYING\",\n",
    "                       \"STAND_TO_SIT\",\n",
    "                       \"SIT_TO_STAND\",\n",
    "                       \"SIT_TO_LIE\",\n",
    "                       \"LIE_TO_SIT\",\n",
    "                       \"STAND_TO_LIE\",\n",
    "                       \"LIE_TO_STAND\"])"
   ]
  },
  {
   "cell_type": "markdown",
   "metadata": {},
   "source": [
    "###  Saving the final model"
   ]
  },
  {
   "cell_type": "code",
   "execution_count": 47,
   "metadata": {
    "ExecuteTime": {
     "end_time": "2020-06-06T10:38:55.066127Z",
     "start_time": "2020-06-06T10:38:55.061130Z"
    }
   },
   "outputs": [],
   "source": [
    "import joblib"
   ]
  },
  {
   "cell_type": "code",
   "execution_count": 48,
   "metadata": {
    "ExecuteTime": {
     "end_time": "2020-06-06T10:39:55.480578Z",
     "start_time": "2020-06-06T10:39:55.474581Z"
    }
   },
   "outputs": [],
   "source": [
    "def save_model(model):\n",
    "    '''Save the model to disk'''\n",
    "    \n",
    "    filename = '../models/har_model_v14.sav'\n",
    "    joblib.dump(model, filename)\n",
    "    readme = open('../models/ml_model_v14.txt', 'w')\n",
    "    readme.write('Ml model with rfc, with overlap 97.84% ±0.26% accuracy.')\n",
    "    readme.close()"
   ]
  },
  {
   "cell_type": "code",
   "execution_count": 49,
   "metadata": {
    "ExecuteTime": {
     "end_time": "2020-06-06T10:39:56.224516Z",
     "start_time": "2020-06-06T10:39:56.012637Z"
    }
   },
   "outputs": [],
   "source": [
    "save_model(model)"
   ]
  }
 ],
 "metadata": {
  "kernelspec": {
   "display_name": "Python 3",
   "language": "python",
   "name": "python3"
  },
  "language_info": {
   "codemirror_mode": {
    "name": "ipython",
    "version": 3
   },
   "file_extension": ".py",
   "mimetype": "text/x-python",
   "name": "python",
   "nbconvert_exporter": "python",
   "pygments_lexer": "ipython3",
   "version": "3.7.5"
  },
  "notify_time": "10",
  "toc": {
   "base_numbering": 1,
   "nav_menu": {},
   "number_sections": true,
   "sideBar": true,
   "skip_h1_title": false,
   "title_cell": "Table of Contents",
   "title_sidebar": "Contents",
   "toc_cell": false,
   "toc_position": {},
   "toc_section_display": true,
   "toc_window_display": true
  },
  "varInspector": {
   "cols": {
    "lenName": 16,
    "lenType": 16,
    "lenVar": 40
   },
   "kernels_config": {
    "python": {
     "delete_cmd_postfix": "",
     "delete_cmd_prefix": "del ",
     "library": "var_list.py",
     "varRefreshCmd": "print(var_dic_list())"
    },
    "r": {
     "delete_cmd_postfix": ") ",
     "delete_cmd_prefix": "rm(",
     "library": "var_list.r",
     "varRefreshCmd": "cat(var_dic_list()) "
    }
   },
   "types_to_exclude": [
    "module",
    "function",
    "builtin_function_or_method",
    "instance",
    "_Feature"
   ],
   "window_display": false
  }
 },
 "nbformat": 4,
 "nbformat_minor": 4
}
