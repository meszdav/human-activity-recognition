{
 "cells": [
  {
   "cell_type": "markdown",
   "metadata": {},
   "source": [
    "## Import dependencies "
   ]
  },
  {
   "cell_type": "code",
   "execution_count": 946,
   "metadata": {
    "ExecuteTime": {
     "end_time": "2020-05-31T18:15:59.265440Z",
     "start_time": "2020-05-31T18:15:59.252449Z"
    }
   },
   "outputs": [],
   "source": [
    "%run ../initEnviroment.py\n",
    "from plot_data import PlotActivity\n",
    "from matplotlib.lines import Line2D\n",
    "from scipy.stats import norm, kurtosis\n",
    "import os\n",
    "from scipy.signal import butter, lfilter, freqz\n",
    "from scipy import signal\n",
    "from sklearn.pipeline import Pipeline\n",
    "from sklearn.impute import SimpleImputer\n",
    "from sklearn.preprocessing import StandardScaler, MinMaxScaler\n",
    "from collections import Counter\n",
    "import joblib"
   ]
  },
  {
   "cell_type": "markdown",
   "metadata": {},
   "source": [
    "##  Read Data"
   ]
  },
  {
   "cell_type": "code",
   "execution_count": 947,
   "metadata": {
    "ExecuteTime": {
     "end_time": "2020-05-31T18:16:00.972465Z",
     "start_time": "2020-05-31T18:16:00.957474Z"
    }
   },
   "outputs": [],
   "source": [
    "def read_test_data(experiment):\n",
    "    \n",
    "    if experiment < 10:\n",
    "        experiment = '0' + str(experiment)\n",
    "    else:\n",
    "        experiment = str(experiment)\n",
    "\n",
    "    for j in os.listdir('../data/RawData/'):\n",
    "\n",
    "        if \"acc_exp\" + experiment in j:\n",
    "            \n",
    "            acc_path = \"../data/RawData/\" + j\n",
    "\n",
    "        elif \"gyro_exp\" + experiment in j:\n",
    "            \n",
    "            gyro_path = \"../data/RawData/\" + j\n",
    "            \n",
    "    acc_df = pd.read_csv(acc_path, sep = \" \", names=['acc_x','acc_y','acc_z'])\n",
    "    gyro_df = pd.read_csv(gyro_path, sep = \" \", names=['gyro_x','gyro_y','gyro_z'])\n",
    "\n",
    "    exp_df = pd.concat([acc_df,gyro_df],1)\n",
    "    exp_df[\"experiment\"] = int(experiment) #keep track of the experiment\n",
    "\n",
    "        \n",
    "    return exp_df"
   ]
  },
  {
   "cell_type": "code",
   "execution_count": 948,
   "metadata": {
    "ExecuteTime": {
     "end_time": "2020-05-31T18:16:01.011441Z",
     "start_time": "2020-05-31T18:16:00.981457Z"
    }
   },
   "outputs": [],
   "source": [
    "def read_real_data():\n",
    "    \n",
    "    acc_df = pd.read_csv(\"../data/RealData/Accelerometer.csv\", sep = \",\", \n",
    "                         names=['time','acc_x','acc_y','acc_z'],header=None)\n",
    "    acc_df.drop('time',axis = 1, inplace = True)\n",
    "    acc_df.drop(0,inplace=True)\n",
    "    \n",
    "    \n",
    "    gyro_df = pd.read_csv(\"../data/RealData/Gyroscope.csv\", sep = \",\", \n",
    "                          names=['time','gyro_x','gyro_y','gyro_z'], header = None) \n",
    "    gyro_df.drop('time',axis = 1, inplace = True)\n",
    "    gyro_df.drop(0,inplace=True)\n",
    "    \n",
    "    df = pd.concat([acc_df,gyro_df],1)\n",
    "    df.dropna(inplace=True)\n",
    "    df.reset_index(drop=True, inplace=True)\n",
    "    df = df.astype(\"float\")\n",
    "    \n",
    "    return df"
   ]
  },
  {
   "cell_type": "code",
   "execution_count": 949,
   "metadata": {
    "ExecuteTime": {
     "end_time": "2020-05-31T18:16:03.478028Z",
     "start_time": "2020-05-31T18:16:03.362094Z"
    }
   },
   "outputs": [],
   "source": [
    "df = read_data(2)"
   ]
  },
  {
   "cell_type": "code",
   "execution_count": 950,
   "metadata": {
    "ExecuteTime": {
     "end_time": "2020-05-31T18:16:04.668354Z",
     "start_time": "2020-05-31T18:16:04.661353Z"
    }
   },
   "outputs": [],
   "source": [
    "#df =  read_real_data()"
   ]
  },
  {
   "cell_type": "markdown",
   "metadata": {},
   "source": [
    "## Filter dataa"
   ]
  },
  {
   "cell_type": "code",
   "execution_count": 951,
   "metadata": {
    "ExecuteTime": {
     "end_time": "2020-05-31T18:16:05.709752Z",
     "start_time": "2020-05-31T18:16:05.679769Z"
    }
   },
   "outputs": [],
   "source": [
    "def butter_lowpass(cutoff, fs, order=5):\n",
    "    nyq = 0.5 * fs\n",
    "    normal_cutoff = cutoff / nyq\n",
    "    b, a = butter(order, normal_cutoff, btype='low', analog=False)\n",
    "    return b, a\n",
    "\n",
    "def butter_lowpass_filter(data, cutoff, fs, order=5):\n",
    "    b, a = butter_lowpass(cutoff, fs, order=order)\n",
    "    y = lfilter(b, a, data)\n",
    "    return y\n",
    "\n",
    "def filter_acc(df, cutoff=10, fs=50, order=2):\n",
    "    \n",
    "    signals = [\"acc_x\",\"acc_y\",\"acc_z\"]\n",
    "    \n",
    "    new_df = pd.DataFrame(columns=signals)\n",
    "\n",
    "    list_signals = []\n",
    "\n",
    "    for j in signals:\n",
    "\n",
    "        filtered_signal = butter_lowpass_filter(df[j], cutoff=cutoff, fs=fs, order=order)\n",
    "\n",
    "        list_signals.append(filtered_signal)\n",
    "\n",
    "    new_df = pd.concat([new_df, pd.DataFrame(np.array(list_signals).T,columns=signals)])\n",
    "\n",
    "    return new_df\n",
    "\n",
    "\n",
    "def filter_gyro(df, cutoff=10, fs=50, order=2):\n",
    "    \n",
    "    signals = [\"gyro_x\",\"gyro_y\",\"gyro_z\"]\n",
    "    \n",
    "    new_df = pd.DataFrame(columns=signals)\n",
    "    \n",
    "    list_signals = []\n",
    "\n",
    "    for j in signals:\n",
    "\n",
    "        filtered_signal = butter_lowpass_filter(df[j], cutoff=cutoff, fs=fs, order=order)\n",
    "\n",
    "        list_signals.append(filtered_signal)\n",
    "\n",
    "    new_df = pd.concat([new_df, pd.DataFrame(np.array(list_signals).T,columns=signals)])\n",
    "        \n",
    "    return new_df"
   ]
  },
  {
   "cell_type": "code",
   "execution_count": 952,
   "metadata": {
    "ExecuteTime": {
     "end_time": "2020-05-31T18:16:06.445329Z",
     "start_time": "2020-05-31T18:16:06.434337Z"
    }
   },
   "outputs": [],
   "source": [
    "def remake_df(df):\n",
    "    \n",
    "    filtered_df_acc = filter_acc(df,cutoff = 12)\n",
    "    filtered_df_gyro = filter_gyro(df,cutoff= 2)\n",
    "\n",
    "\n",
    "    df = pd.concat([filtered_df_acc.reset_index(drop=True), filtered_df_gyro.reset_index(drop=True)], axis=1)\n",
    "    df.reset_index(inplace = True)\n",
    "    \n",
    "    df.rename(columns={'index': 'sample'},inplace=True)\n",
    "    \n",
    "    return df"
   ]
  },
  {
   "cell_type": "code",
   "execution_count": 953,
   "metadata": {
    "ExecuteTime": {
     "end_time": "2020-05-31T18:16:07.328145Z",
     "start_time": "2020-05-31T18:16:07.288171Z"
    }
   },
   "outputs": [],
   "source": [
    "df = remake_df(df)"
   ]
  },
  {
   "cell_type": "markdown",
   "metadata": {},
   "source": [
    "## Create clock df"
   ]
  },
  {
   "cell_type": "code",
   "execution_count": 954,
   "metadata": {
    "ExecuteTime": {
     "end_time": "2020-05-31T18:16:10.326872Z",
     "start_time": "2020-05-31T18:16:10.322873Z"
    }
   },
   "outputs": [],
   "source": [
    "def create_block_df(df,window_size):\n",
    "    \n",
    "    df['flag'] = np.where(df.index % window_size == 0,1,0)\n",
    "    df[\"block\"] = df['flag'].cumsum()\n",
    "    \n",
    "    return df"
   ]
  },
  {
   "cell_type": "code",
   "execution_count": 955,
   "metadata": {
    "ExecuteTime": {
     "end_time": "2020-05-31T18:16:13.099677Z",
     "start_time": "2020-05-31T18:16:13.090685Z"
    }
   },
   "outputs": [],
   "source": [
    "df = create_block_df(df, 256)"
   ]
  },
  {
   "cell_type": "markdown",
   "metadata": {},
   "source": [
    "## Aggregate data for the features"
   ]
  },
  {
   "cell_type": "code",
   "execution_count": 956,
   "metadata": {
    "ExecuteTime": {
     "end_time": "2020-05-31T18:16:14.288974Z",
     "start_time": "2020-05-31T18:16:14.281976Z"
    }
   },
   "outputs": [],
   "source": [
    "def kurtosis_time(x):\n",
    "\n",
    "    return kurtosis(x, fisher=True)\n",
    "\n",
    "def rms_100(x):\n",
    "\n",
    "    return np.sqrt(np.mean(x**2)) \n",
    "\n",
    "def crest(x):\n",
    "    \n",
    "    return max(abs(x))/np.sqrt(np.mean(x**2))"
   ]
  },
  {
   "cell_type": "code",
   "execution_count": 957,
   "metadata": {
    "ExecuteTime": {
     "end_time": "2020-05-31T18:16:15.266413Z",
     "start_time": "2020-05-31T18:16:15.258420Z"
    }
   },
   "outputs": [],
   "source": [
    "def create_aggregated(block_df):\n",
    "    \n",
    "    signals = [\"acc_x\", \"acc_y\", \"acc_z\", \"gyro_x\", \"gyro_y\", \"gyro_z\"]\n",
    "    \n",
    "    samples = {\"sample\": [\"first\",'last']}\n",
    "    functions = {x: [\"sum\", \"mean\", \"mad\",\n",
    "                    \"median\", \"min\", \"max\", \n",
    "                    \"std\", \"var\", \"sem\", \n",
    "                    \"skew\", \"quantile\", \n",
    "                    kurtosis_time, rms_100, \n",
    "                    crest] for x in signals}\n",
    "    \n",
    "\n",
    "    samples.update(functions)\n",
    "    \n",
    "    agg_df = block_df.groupby(\"block\").agg(samples)\n",
    "    \n",
    "    return agg_df"
   ]
  },
  {
   "cell_type": "code",
   "execution_count": 958,
   "metadata": {
    "ExecuteTime": {
     "end_time": "2020-05-31T18:16:17.663055Z",
     "start_time": "2020-05-31T18:16:15.992997Z"
    }
   },
   "outputs": [],
   "source": [
    "agg_df = create_aggregated(df)"
   ]
  },
  {
   "cell_type": "code",
   "execution_count": 959,
   "metadata": {
    "ExecuteTime": {
     "end_time": "2020-05-31T18:16:18.354648Z",
     "start_time": "2020-05-31T18:16:18.340654Z"
    }
   },
   "outputs": [],
   "source": [
    "def do_fft(df):\n",
    "    \n",
    "    \"Creat a new df with the frequency spectrum of each blocks\"\n",
    "    \n",
    "    signals = [\"acc_x\",\"acc_y\",\"acc_z\",\"gyro_x\",\"gyro_y\",\"gyro_z\"]\n",
    "    #df.columns = ['index', 'id', 'experiment', 'activity'] + signals + [\"block\"]\n",
    "    \n",
    "    new_df = pd.DataFrame()\n",
    "    \n",
    "    for block in df.block.unique():\n",
    "        \n",
    "        fft_df = df[df[\"block\"] == block]\n",
    "        \n",
    "        list_signals = []\n",
    "        \n",
    "        for j in signals:\n",
    "            \n",
    "            freq, amp = signal.welch(fft_df[j], 50, nperseg=64)\n",
    "            \n",
    "            list_signals.append(amp)\n",
    "            \n",
    "        list_signals.append(np.full(len(freq), block))\n",
    "        \n",
    "        new_df = pd.concat([new_df, pd.DataFrame(np.array(list_signals).T,columns=[x+\"_FFT\" for x in signals]+[\"block\"])])\n",
    "        new_df.dropna(axis=1,inplace=True)\n",
    "        \n",
    "        \n",
    "    #new_df[\"freq\"] = np.tile(x,len(df.block.unique()))\n",
    "    new_df[\"block\"] = new_df[\"block\"].astype('int32')\n",
    "        \n",
    "    return new_df"
   ]
  },
  {
   "cell_type": "code",
   "execution_count": 960,
   "metadata": {
    "ExecuteTime": {
     "end_time": "2020-05-31T18:16:19.781829Z",
     "start_time": "2020-05-31T18:16:19.040254Z"
    }
   },
   "outputs": [],
   "source": [
    "fft_df = do_fft(df)"
   ]
  },
  {
   "cell_type": "code",
   "execution_count": 961,
   "metadata": {
    "ExecuteTime": {
     "end_time": "2020-05-31T18:16:20.393479Z",
     "start_time": "2020-05-31T18:16:20.372492Z"
    }
   },
   "outputs": [],
   "source": [
    "def peak_sum_all(x):\n",
    "    \n",
    "    peaks, _ = signal.find_peaks(x, height=0,)\n",
    "    \n",
    "    return sum(peaks)\n",
    "\n",
    "def peak_mean_12(x):\n",
    "    \n",
    "    peaks, hight = signal.find_peaks(x, height=0,)\n",
    "    hight[\"peak_heights\"][::-1].sort()\n",
    "    \n",
    "    if len( hight[\"peak_heights\"])>=12:\n",
    "    \n",
    "        return np.mean(hight[\"peak_heights\"][:12])\n",
    "\n",
    "def peak_mean_8(x):\n",
    "    \n",
    "    peaks, hight = signal.find_peaks(x, height=0,)\n",
    "    hight[\"peak_heights\"][::-1].sort()\n",
    "    \n",
    "    if len( hight[\"peak_heights\"])>=8:\n",
    "    \n",
    "        return np.mean(hight[\"peak_heights\"][:8])\n",
    "\n",
    "def peak_mean_6(x):\n",
    "    \n",
    "    peaks, hight = signal.find_peaks(x, height=0,)\n",
    "    hight[\"peak_heights\"][::-1].sort()\n",
    "    \n",
    "    if len( hight[\"peak_heights\"])>=6:\n",
    "    \n",
    "        return np.mean(hight[\"peak_heights\"][:6])\n",
    "\n",
    "def peak_mean_2(x):\n",
    "    \n",
    "    peaks, hight = signal.find_peaks(x, height=0,)\n",
    "    hight[\"peak_heights\"][::-1].sort()\n",
    "    \n",
    "    if len( hight[\"peak_heights\"])>=2:\n",
    "    \n",
    "        return np.mean(hight[\"peak_heights\"][:2])\n"
   ]
  },
  {
   "cell_type": "code",
   "execution_count": 962,
   "metadata": {
    "ExecuteTime": {
     "end_time": "2020-05-31T18:16:21.117064Z",
     "start_time": "2020-05-31T18:16:21.099077Z"
    }
   },
   "outputs": [],
   "source": [
    "def kurtosis_freq(x):\n",
    "\n",
    "    return kurtosis(x, fisher=True)\n",
    "\n",
    "def rms_10(x):\n",
    "    \n",
    "    y = x[:int(len(x)*0.1)]\n",
    "    \n",
    "    return np.sqrt(np.mean(y*2))\n",
    "def rms_20(x):\n",
    "    \n",
    "    y = x[:int(len(x)*0.20)]\n",
    "    \n",
    "    return np.sqrt(np.mean(y**2))\n",
    "\n",
    "def rms_50(x):\n",
    "    \n",
    "    y = x[:int(len(x)*0.50)]\n",
    "    \n",
    "    return np.sqrt(np.mean(y**2))\n",
    "\n",
    "def rms_80(x):\n",
    "    \n",
    "    y = x[:int(len(x)*0.80)]\n",
    "    \n",
    "    return np.sqrt(np.mean(y**2))\n",
    "\n",
    "def rms_100(x):\n",
    "\n",
    "    return np.sqrt(np.mean(x**2)) \n",
    "\n",
    "def quad_sum(x):\n",
    "    \n",
    "    return np.sum(x**2)"
   ]
  },
  {
   "cell_type": "code",
   "execution_count": 963,
   "metadata": {
    "ExecuteTime": {
     "end_time": "2020-05-31T18:16:22.325518Z",
     "start_time": "2020-05-31T18:16:22.316527Z"
    }
   },
   "outputs": [],
   "source": [
    "def create_aggregated_freq(fft_df):\n",
    "    \n",
    "    signals = ['acc_x_FFT', 'acc_y_FFT', 'acc_z_FFT', 'gyro_x_FFT', 'gyro_y_FFT','gyro_z_FFT']\n",
    "\n",
    "    fft_agg_df = fft_df.groupby(\"block\").agg({x: [\"sum\", \"mean\", \"mad\",\n",
    "                                                  \"median\", \"min\", \"max\", \n",
    "                                                  \"std\", \"var\", \"sem\", \n",
    "                                                  \"skew\", \"quantile\",\n",
    "                                                  peak_sum_all, kurtosis_freq, peak_mean_2,\n",
    "                                                  peak_mean_6, peak_mean_8, peak_mean_12,\n",
    "                                                  rms_10, rms_20, rms_50,\n",
    "                                                  rms_80, rms_100, quad_sum] for x in signals })\n",
    "    return fft_agg_df"
   ]
  },
  {
   "cell_type": "code",
   "execution_count": 964,
   "metadata": {
    "ExecuteTime": {
     "end_time": "2020-05-31T18:16:26.114228Z",
     "start_time": "2020-05-31T18:16:23.277854Z"
    }
   },
   "outputs": [],
   "source": [
    "fft_agg_df = create_aggregated_freq(fft_df)"
   ]
  },
  {
   "cell_type": "markdown",
   "metadata": {},
   "source": [
    "## Create data for classification"
   ]
  },
  {
   "cell_type": "code",
   "execution_count": 965,
   "metadata": {
    "ExecuteTime": {
     "end_time": "2020-05-31T18:16:26.782844Z",
     "start_time": "2020-05-31T18:16:26.772852Z"
    }
   },
   "outputs": [],
   "source": [
    "def create_clf_data(agg_df,fft_agg_df):\n",
    "    \n",
    "    features = agg_df.merge(fft_agg_df,on=\"block\")\n",
    "    clf_data = features.drop([('sample','first'),('sample','last')],axis=1)\n",
    "    \n",
    "    return clf_data"
   ]
  },
  {
   "cell_type": "code",
   "execution_count": 966,
   "metadata": {
    "ExecuteTime": {
     "end_time": "2020-05-31T18:16:27.547405Z",
     "start_time": "2020-05-31T18:16:27.511426Z"
    }
   },
   "outputs": [],
   "source": [
    "clf_data = create_clf_data(agg_df,fft_agg_df)"
   ]
  },
  {
   "cell_type": "code",
   "execution_count": 967,
   "metadata": {
    "ExecuteTime": {
     "end_time": "2020-05-31T18:16:28.281985Z",
     "start_time": "2020-05-31T18:16:28.268994Z"
    }
   },
   "outputs": [],
   "source": [
    "def preprocess_data(df):\n",
    "  \n",
    "    \n",
    "    features_to_drop = [('acc_x_FFT', 'peak_mean_6'),\n",
    "                         ('acc_x_FFT', 'peak_mean_8'),\n",
    "                         ('acc_x_FFT', 'peak_mean_12'),\n",
    "                         ('acc_y_FFT', 'peak_mean_6'),\n",
    "                         ('acc_y_FFT', 'peak_mean_8'),\n",
    "                         ('acc_y_FFT', 'peak_mean_12'),\n",
    "                         ('acc_z_FFT', 'peak_mean_6'),\n",
    "                         ('acc_z_FFT', 'peak_mean_8'),\n",
    "                         ('acc_z_FFT', 'peak_mean_12'),\n",
    "                         ('gyro_x_FFT', 'peak_mean_2'),\n",
    "                         ('gyro_x_FFT', 'peak_mean_6'),\n",
    "                         ('gyro_x_FFT', 'peak_mean_8'),\n",
    "                         ('gyro_x_FFT', 'peak_mean_12'),\n",
    "                         ('gyro_y_FFT', 'peak_mean_2'),\n",
    "                         ('gyro_y_FFT', 'peak_mean_6'),\n",
    "                         ('gyro_y_FFT', 'peak_mean_8'),\n",
    "                         ('gyro_y_FFT', 'peak_mean_12'),\n",
    "                         ('gyro_z_FFT', 'peak_mean_2'),\n",
    "                         ('gyro_z_FFT', 'peak_mean_6'),\n",
    "                         ('gyro_z_FFT', 'peak_mean_8'),\n",
    "                         ('gyro_z_FFT', 'peak_mean_12')]\n",
    "    \n",
    "    df.drop(features_to_drop,axis=1, inplace = True)\n",
    "    \n",
    "    pipe = Pipeline([(\"imputer\", SimpleImputer(fill_value = 0)),\n",
    "                         ('scaler', StandardScaler())])\n",
    "    \n",
    "    clf_data = pd.DataFrame(pipe.fit_transform(df),columns=df.columns) \n",
    "   \n",
    "    return clf_data\n",
    "    "
   ]
  },
  {
   "cell_type": "code",
   "execution_count": 968,
   "metadata": {
    "ExecuteTime": {
     "end_time": "2020-05-31T18:16:29.248887Z",
     "start_time": "2020-05-31T18:16:29.223884Z"
    }
   },
   "outputs": [],
   "source": [
    "clf_data = preprocess_data(clf_data)"
   ]
  },
  {
   "cell_type": "code",
   "execution_count": 969,
   "metadata": {
    "ExecuteTime": {
     "end_time": "2020-05-31T18:16:30.018428Z",
     "start_time": "2020-05-31T18:16:30.011435Z"
    }
   },
   "outputs": [],
   "source": [
    "def load_model(filename):\n",
    "    \n",
    "    # load the model from disk\n",
    "    model = joblib.load(filename)\n",
    "    return model"
   ]
  },
  {
   "cell_type": "code",
   "execution_count": 970,
   "metadata": {
    "ExecuteTime": {
     "end_time": "2020-05-31T18:16:30.791985Z",
     "start_time": "2020-05-31T18:16:30.702038Z"
    }
   },
   "outputs": [],
   "source": [
    "model = load_model(\"../models/har_model_v02.sav\")"
   ]
  },
  {
   "cell_type": "code",
   "execution_count": 971,
   "metadata": {
    "ExecuteTime": {
     "end_time": "2020-05-31T18:16:31.477592Z",
     "start_time": "2020-05-31T18:16:31.469598Z"
    }
   },
   "outputs": [],
   "source": [
    "def classify(df,model):\n",
    "    \n",
    "    labels = model.predict(df)\n",
    "    \n",
    "    return labels"
   ]
  },
  {
   "cell_type": "code",
   "execution_count": 972,
   "metadata": {
    "ExecuteTime": {
     "end_time": "2020-05-31T18:16:32.232160Z",
     "start_time": "2020-05-31T18:16:32.189187Z"
    }
   },
   "outputs": [],
   "source": [
    "labels = classify(clf_data,model)"
   ]
  },
  {
   "cell_type": "code",
   "execution_count": 973,
   "metadata": {
    "ExecuteTime": {
     "end_time": "2020-05-31T18:16:32.837815Z",
     "start_time": "2020-05-31T18:16:32.827822Z"
    }
   },
   "outputs": [
    {
     "data": {
      "text/plain": [
       "array([0., 6., 6., 6., 6., 0., 0., 0., 0., 6., 6., 6., 6., 0., 0., 0., 0.,\n",
       "       0., 0., 0., 0., 0., 6., 6., 6., 6., 6., 6., 6., 6., 1., 1., 0., 5.,\n",
       "       1., 1., 1., 5., 0., 1., 1., 0., 6., 6., 2., 1., 1., 1., 0., 5., 5.,\n",
       "       1., 0., 3., 3., 0., 1., 0., 3., 3., 3., 0., 1., 2., 0., 0., 3., 3.,\n",
       "       0., 1., 2., 0., 6., 6., 0., 0.])"
      ]
     },
     "execution_count": 973,
     "metadata": {},
     "output_type": "execute_result"
    }
   ],
   "source": [
    "labels"
   ]
  },
  {
   "cell_type": "code",
   "execution_count": 975,
   "metadata": {
    "ExecuteTime": {
     "end_time": "2020-05-31T18:16:38.486309Z",
     "start_time": "2020-05-31T18:16:38.477316Z"
    }
   },
   "outputs": [],
   "source": [
    "def label_original(df, labels, model):\n",
    "    \n",
    "    labels = pd.DataFrame(labels,index=[x for x in range(1,len(labels)+1)], columns=[\"labels\"])\n",
    "    labeled_df = df.merge(labels, how='outer', left_on=\"block\", right_on=labels.index)\n",
    "    \n",
    "    return labeled_df"
   ]
  },
  {
   "cell_type": "code",
   "execution_count": 976,
   "metadata": {
    "ExecuteTime": {
     "end_time": "2020-05-31T18:16:39.197902Z",
     "start_time": "2020-05-31T18:16:39.182910Z"
    },
    "scrolled": true
   },
   "outputs": [],
   "source": [
    "labeled_df = label_original(df,labels,model)"
   ]
  },
  {
   "cell_type": "code",
   "execution_count": 979,
   "metadata": {
    "ExecuteTime": {
     "end_time": "2020-05-31T18:16:45.059414Z",
     "start_time": "2020-05-31T18:16:45.055418Z"
    }
   },
   "outputs": [],
   "source": [
    "def most_common_label(x):\n",
    "    c = Counter(x)\n",
    "    return c.most_common(1)[0][0]"
   ]
  },
  {
   "cell_type": "code",
   "execution_count": 980,
   "metadata": {
    "ExecuteTime": {
     "end_time": "2020-05-31T18:16:45.747018Z",
     "start_time": "2020-05-31T18:16:45.734024Z"
    }
   },
   "outputs": [],
   "source": [
    "def label_agg_df(agg_df,labels):\n",
    "    \n",
    "    labels = pd.DataFrame(labels,index=[x for x in range(1,len(labels)+1)], columns=[\"labels\"])\n",
    "    labeled_agg_df = agg_df[\"sample\"].merge(labels, how='outer', left_on=\"block\", right_on=labels.index)\n",
    "    labeled_agg_df[\"smooth_block\"] = labeled_agg_df[\"labels\"].rolling(5,center=True).apply(most_common_label)\n",
    "    \n",
    "    return labeled_agg_df"
   ]
  },
  {
   "cell_type": "code",
   "execution_count": 981,
   "metadata": {
    "ExecuteTime": {
     "end_time": "2020-05-31T18:16:46.393649Z",
     "start_time": "2020-05-31T18:16:46.356668Z"
    }
   },
   "outputs": [],
   "source": [
    "labeled_agg_df = label_agg_df(agg_df,labels)"
   ]
  },
  {
   "cell_type": "code",
   "execution_count": 988,
   "metadata": {
    "ExecuteTime": {
     "end_time": "2020-05-31T18:20:48.494782Z",
     "start_time": "2020-05-31T18:20:48.472792Z"
    }
   },
   "outputs": [],
   "source": [
    "def plot_activity(labeled_df, labeled_agg_df):\n",
    "    \n",
    "    plt.figure()\n",
    "    ax=plt.subplot(1, 1, 1)\n",
    "    ax.plot(np.linspace(0,len(labeled_df[\"acc_x\"]),len(labeled_df[\"acc_x\"])),\n",
    "                        labeled_df[\"acc_x\"], c=\"#003366\")\n",
    "    colors = {0: \"black\", 1:'blue',2:\"orange\",3:'green', 4:'red', 5:'purple', 6:'brown',\n",
    "              7:'pink',8: 'gray', 9:'olive', 10:'cyan', 11:'limegreen',12:'yellow'}\n",
    "    \n",
    "    activity ={0:'No_Activity',\n",
    "               1: 'WALKING',\n",
    "                2: 'WALKING_UPSTAIRS',\n",
    "                3: 'WALKING_DOWNSTAIRS',\n",
    "                4: 'SITTING',\n",
    "                5: 'STANDING',\n",
    "                6: 'LAYING',\n",
    "                7: 'STAND_TO_SIT',\n",
    "                8: 'SIT_TO_STAND',\n",
    "                9: 'SIT_TO_LIE',\n",
    "                10: 'LIE_TO_SIT',\n",
    "                11: 'STAND_TO_LIE',\n",
    "                12: 'LIE_TO_STAND'}\n",
    "\n",
    "    for index,row in labeled_agg_df.iterrows():\n",
    "\n",
    "        start = row['first']\n",
    "        end = row[\"last\"]\n",
    "        c = colors[row['labels']]\n",
    "\n",
    "        rect = plt.Rectangle((start,labeled_df[\"acc_x\"].min()), \n",
    "                             (end-start),\n",
    "                             labeled_df[\"acc_x\"].max()-labeled_df[\"acc_x\"].min(),\n",
    "                             color = c, alpha = 0.4)\n",
    "        ax.add_patch(rect)\n",
    "\n",
    "    custom_lines = []\n",
    "\n",
    "    for c in colors:\n",
    "\n",
    "        custom_lines.append(Line2D([0], [0], color=colors[c], lw=4, alpha= 0.7))\n",
    "\n",
    "    ax.legend(custom_lines, [activity[x] for x in colors],\n",
    "             loc='upper center', bbox_to_anchor=(0.5, -0.05),\n",
    "              fancybox=True, shadow=True, ncol=5)\n",
    "    \n",
    "    ax.set_xlabel(\"time $[s]$\")\n",
    "    ax.set_ylabel(\"Amplitude\")\n",
    "    ax.grid()"
   ]
  },
  {
   "cell_type": "code",
   "execution_count": 989,
   "metadata": {
    "ExecuteTime": {
     "end_time": "2020-05-31T18:20:49.959942Z",
     "start_time": "2020-05-31T18:20:49.246349Z"
    },
    "scrolled": false
   },
   "outputs": [
    {
     "data": {
      "image/png": "[encoded data removed]",
      "text/plain": [
       "<Figure size 1152x864 with 1 Axes>"
      ]
     },
     "metadata": {
      "needs_background": "light"
     },
     "output_type": "display_data"
    }
   ],
   "source": [
    "plot_activity(labeled_df,labeled_agg_df)"
   ]
  },
  {
   "cell_type": "code",
   "execution_count": 788,
   "metadata": {
    "ExecuteTime": {
     "end_time": "2020-05-31T17:12:07.632800Z",
     "start_time": "2020-05-31T17:12:07.583811Z"
    }
   },
   "outputs": [
    {
     "data": {
      "text/html": [
       "<div>\n",
       "<style scoped>\n",
       "    .dataframe tbody tr th:only-of-type {\n",
       "        vertical-align: middle;\n",
       "    }\n",
       "\n",
       "    .dataframe tbody tr th {\n",
       "        vertical-align: top;\n",
       "    }\n",
       "\n",
       "    .dataframe thead th {\n",
       "        text-align: right;\n",
       "    }\n",
       "</style>\n",
       "<table border=\"1\" class=\"dataframe\">\n",
       "  <thead>\n",
       "    <tr style=\"text-align: right;\">\n",
       "      <th></th>\n",
       "      <th>sample</th>\n",
       "      <th>acc_x</th>\n",
       "      <th>acc_y</th>\n",
       "      <th>acc_z</th>\n",
       "      <th>gyro_x</th>\n",
       "      <th>gyro_y</th>\n",
       "      <th>gyro_z</th>\n",
       "      <th>flag</th>\n",
       "      <th>block</th>\n",
       "      <th>labels</th>\n",
       "    </tr>\n",
       "  </thead>\n",
       "  <tbody>\n",
       "    <tr>\n",
       "      <th>300</th>\n",
       "      <td>300</td>\n",
       "      <td>1.021445</td>\n",
       "      <td>-0.119074</td>\n",
       "      <td>0.095829</td>\n",
       "      <td>0.002024</td>\n",
       "      <td>-0.006570</td>\n",
       "      <td>0.006652</td>\n",
       "      <td>0</td>\n",
       "      <td>2</td>\n",
       "      <td>4.0</td>\n",
       "    </tr>\n",
       "    <tr>\n",
       "      <th>301</th>\n",
       "      <td>301</td>\n",
       "      <td>1.018232</td>\n",
       "      <td>-0.121641</td>\n",
       "      <td>0.096284</td>\n",
       "      <td>0.000574</td>\n",
       "      <td>-0.007095</td>\n",
       "      <td>0.007772</td>\n",
       "      <td>0</td>\n",
       "      <td>2</td>\n",
       "      <td>4.0</td>\n",
       "    </tr>\n",
       "    <tr>\n",
       "      <th>302</th>\n",
       "      <td>302</td>\n",
       "      <td>1.017102</td>\n",
       "      <td>-0.126538</td>\n",
       "      <td>0.103499</td>\n",
       "      <td>-0.000820</td>\n",
       "      <td>-0.007464</td>\n",
       "      <td>0.008664</td>\n",
       "      <td>0</td>\n",
       "      <td>2</td>\n",
       "      <td>4.0</td>\n",
       "    </tr>\n",
       "    <tr>\n",
       "      <th>303</th>\n",
       "      <td>303</td>\n",
       "      <td>1.020244</td>\n",
       "      <td>-0.128364</td>\n",
       "      <td>0.106241</td>\n",
       "      <td>-0.001941</td>\n",
       "      <td>-0.007503</td>\n",
       "      <td>0.008884</td>\n",
       "      <td>0</td>\n",
       "      <td>2</td>\n",
       "      <td>4.0</td>\n",
       "    </tr>\n",
       "    <tr>\n",
       "      <th>304</th>\n",
       "      <td>304</td>\n",
       "      <td>1.021052</td>\n",
       "      <td>-0.127653</td>\n",
       "      <td>0.101382</td>\n",
       "      <td>-0.002595</td>\n",
       "      <td>-0.007301</td>\n",
       "      <td>0.008453</td>\n",
       "      <td>0</td>\n",
       "      <td>2</td>\n",
       "      <td>4.0</td>\n",
       "    </tr>\n",
       "    <tr>\n",
       "      <th>...</th>\n",
       "      <td>...</td>\n",
       "      <td>...</td>\n",
       "      <td>...</td>\n",
       "      <td>...</td>\n",
       "      <td>...</td>\n",
       "      <td>...</td>\n",
       "      <td>...</td>\n",
       "      <td>...</td>\n",
       "      <td>...</td>\n",
       "      <td>...</td>\n",
       "    </tr>\n",
       "    <tr>\n",
       "      <th>1227</th>\n",
       "      <td>1227</td>\n",
       "      <td>1.021523</td>\n",
       "      <td>-0.136456</td>\n",
       "      <td>0.075328</td>\n",
       "      <td>0.008048</td>\n",
       "      <td>-0.000345</td>\n",
       "      <td>0.004001</td>\n",
       "      <td>0</td>\n",
       "      <td>5</td>\n",
       "      <td>4.0</td>\n",
       "    </tr>\n",
       "    <tr>\n",
       "      <th>1228</th>\n",
       "      <td>1228</td>\n",
       "      <td>1.020690</td>\n",
       "      <td>-0.136338</td>\n",
       "      <td>0.073970</td>\n",
       "      <td>0.006485</td>\n",
       "      <td>0.000327</td>\n",
       "      <td>0.004541</td>\n",
       "      <td>0</td>\n",
       "      <td>5</td>\n",
       "      <td>4.0</td>\n",
       "    </tr>\n",
       "    <tr>\n",
       "      <th>1229</th>\n",
       "      <td>1229</td>\n",
       "      <td>1.022230</td>\n",
       "      <td>-0.136831</td>\n",
       "      <td>0.076394</td>\n",
       "      <td>0.004267</td>\n",
       "      <td>0.001889</td>\n",
       "      <td>0.005305</td>\n",
       "      <td>0</td>\n",
       "      <td>5</td>\n",
       "      <td>4.0</td>\n",
       "    </tr>\n",
       "    <tr>\n",
       "      <th>1230</th>\n",
       "      <td>1230</td>\n",
       "      <td>1.026303</td>\n",
       "      <td>-0.139559</td>\n",
       "      <td>0.077951</td>\n",
       "      <td>0.001465</td>\n",
       "      <td>0.005226</td>\n",
       "      <td>0.006541</td>\n",
       "      <td>0</td>\n",
       "      <td>5</td>\n",
       "      <td>4.0</td>\n",
       "    </tr>\n",
       "    <tr>\n",
       "      <th>1231</th>\n",
       "      <td>1231</td>\n",
       "      <td>1.026337</td>\n",
       "      <td>-0.143109</td>\n",
       "      <td>0.073069</td>\n",
       "      <td>-0.001765</td>\n",
       "      <td>0.010333</td>\n",
       "      <td>0.008085</td>\n",
       "      <td>0</td>\n",
       "      <td>5</td>\n",
       "      <td>4.0</td>\n",
       "    </tr>\n",
       "  </tbody>\n",
       "</table>\n",
       "<p>932 rows × 10 columns</p>\n",
       "</div>"
      ],
      "text/plain": [
       "      sample     acc_x     acc_y     acc_z    gyro_x    gyro_y    gyro_z  \\\n",
       "300      300  1.021445 -0.119074  0.095829  0.002024 -0.006570  0.006652   \n",
       "301      301  1.018232 -0.121641  0.096284  0.000574 -0.007095  0.007772   \n",
       "302      302  1.017102 -0.126538  0.103499 -0.000820 -0.007464  0.008664   \n",
       "303      303  1.020244 -0.128364  0.106241 -0.001941 -0.007503  0.008884   \n",
       "304      304  1.021052 -0.127653  0.101382 -0.002595 -0.007301  0.008453   \n",
       "...      ...       ...       ...       ...       ...       ...       ...   \n",
       "1227    1227  1.021523 -0.136456  0.075328  0.008048 -0.000345  0.004001   \n",
       "1228    1228  1.020690 -0.136338  0.073970  0.006485  0.000327  0.004541   \n",
       "1229    1229  1.022230 -0.136831  0.076394  0.004267  0.001889  0.005305   \n",
       "1230    1230  1.026303 -0.139559  0.077951  0.001465  0.005226  0.006541   \n",
       "1231    1231  1.026337 -0.143109  0.073069 -0.001765  0.010333  0.008085   \n",
       "\n",
       "      flag  block  labels  \n",
       "300      0      2     4.0  \n",
       "301      0      2     4.0  \n",
       "302      0      2     4.0  \n",
       "303      0      2     4.0  \n",
       "304      0      2     4.0  \n",
       "...    ...    ...     ...  \n",
       "1227     0      5     4.0  \n",
       "1228     0      5     4.0  \n",
       "1229     0      5     4.0  \n",
       "1230     0      5     4.0  \n",
       "1231     0      5     4.0  \n",
       "\n",
       "[932 rows x 10 columns]"
      ]
     },
     "execution_count": 788,
     "metadata": {},
     "output_type": "execute_result"
    }
   ],
   "source": [
    "labeled_df.iloc[300:1232]"
   ]
  },
  {
   "cell_type": "code",
   "execution_count": null,
   "metadata": {},
   "outputs": [],
   "source": []
  }
 ],
 "metadata": {
  "kernelspec": {
   "display_name": "Python 3",
   "language": "python",
   "name": "python3"
  },
  "language_info": {
   "codemirror_mode": {
    "name": "ipython",
    "version": 3
   },
   "file_extension": ".py",
   "mimetype": "text/x-python",
   "name": "python",
   "nbconvert_exporter": "python",
   "pygments_lexer": "ipython3",
   "version": "3.7.5"
  },
  "toc": {
   "base_numbering": 1,
   "nav_menu": {},
   "number_sections": true,
   "sideBar": true,
   "skip_h1_title": false,
   "title_cell": "Table of Contents",
   "title_sidebar": "Contents",
   "toc_cell": false,
   "toc_position": {},
   "toc_section_display": true,
   "toc_window_display": true
  },
  "varInspector": {
   "cols": {
    "lenName": 16,
    "lenType": 16,
    "lenVar": 40
   },
   "kernels_config": {
    "python": {
     "delete_cmd_postfix": "",
     "delete_cmd_prefix": "del ",
     "library": "var_list.py",
     "varRefreshCmd": "print(var_dic_list())"
    },
    "r": {
     "delete_cmd_postfix": ") ",
     "delete_cmd_prefix": "rm(",
     "library": "var_list.r",
     "varRefreshCmd": "cat(var_dic_list()) "
    }
   },
   "types_to_exclude": [
    "module",
    "function",
    "builtin_function_or_method",
    "instance",
    "_Feature"
   ],
   "window_display": false
  }
 },
 "nbformat": 4,
 "nbformat_minor": 4
}
