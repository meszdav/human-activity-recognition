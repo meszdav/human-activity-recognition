{
 "cells": [
  {
   "cell_type": "markdown",
   "metadata": {},
   "source": [
    "## Import dependencies "
   ]
  },
  {
   "cell_type": "code",
   "execution_count": 194,
   "metadata": {
    "ExecuteTime": {
     "end_time": "2020-06-01T08:53:40.401105Z",
     "start_time": "2020-06-01T08:53:40.383131Z"
    }
   },
   "outputs": [],
   "source": [
    "%run ../initEnviroment.py\n",
    "from plot_data import PlotActivity\n",
    "from matplotlib.lines import Line2D\n",
    "from scipy.stats import norm, kurtosis\n",
    "import os\n",
    "from scipy.signal import butter, lfilter, freqz\n",
    "from scipy import signal\n",
    "from sklearn.pipeline import Pipeline\n",
    "from sklearn.impute import SimpleImputer\n",
    "from sklearn.preprocessing import StandardScaler, MinMaxScaler\n",
    "from collections import Counter\n",
    "import joblib"
   ]
  },
  {
   "cell_type": "markdown",
   "metadata": {},
   "source": [
    "##  Read Data"
   ]
  },
  {
   "cell_type": "code",
   "execution_count": 195,
   "metadata": {
    "ExecuteTime": {
     "end_time": "2020-06-01T08:53:41.244828Z",
     "start_time": "2020-06-01T08:53:41.227842Z"
    }
   },
   "outputs": [],
   "source": [
    "def read_test_data(experiment):\n",
    "    \n",
    "    if experiment < 10:\n",
    "        experiment = '0' + str(experiment)\n",
    "    else:\n",
    "        experiment = str(experiment)\n",
    "\n",
    "    for j in os.listdir('../data/RawData/'):\n",
    "\n",
    "        if \"acc_exp\" + experiment in j:\n",
    "            \n",
    "            acc_path = \"../data/RawData/\" + j\n",
    "\n",
    "        elif \"gyro_exp\" + experiment in j:\n",
    "            \n",
    "            gyro_path = \"../data/RawData/\" + j\n",
    "            \n",
    "    acc_df = pd.read_csv(acc_path, sep = \" \", names=['acc_x','acc_y','acc_z'])\n",
    "    gyro_df = pd.read_csv(gyro_path, sep = \" \", names=['gyro_x','gyro_y','gyro_z'])\n",
    "\n",
    "    exp_df = pd.concat([acc_df,gyro_df],1)\n",
    "    exp_df[\"experiment\"] = int(experiment) #keep track of the experiment\n",
    "\n",
    "        \n",
    "    return exp_df"
   ]
  },
  {
   "cell_type": "code",
   "execution_count": 196,
   "metadata": {
    "ExecuteTime": {
     "end_time": "2020-06-01T08:53:42.534746Z",
     "start_time": "2020-06-01T08:53:42.518758Z"
    }
   },
   "outputs": [],
   "source": [
    "def read_real_data():\n",
    "    \n",
    "    acc_df = pd.read_csv(\"../data/RealData/Accelerometer.csv\", sep = \",\", \n",
    "                         names=['time','acc_x','acc_y','acc_z'],header=None)\n",
    "    acc_df.drop('time',axis = 1, inplace = True)\n",
    "    acc_df.drop(0,inplace=True)\n",
    "    \n",
    "    \n",
    "    gyro_df = pd.read_csv(\"../data/RealData/Gyroscope.csv\", sep = \",\", \n",
    "                          names=['time','gyro_x','gyro_y','gyro_z'], header = None) \n",
    "    gyro_df.drop('time',axis = 1, inplace = True)\n",
    "    gyro_df.drop(0,inplace=True)\n",
    "    \n",
    "    df = pd.concat([acc_df,gyro_df],1)\n",
    "    df.dropna(inplace=True)\n",
    "    df.reset_index(drop=True, inplace=True)\n",
    "    df = df.astype(\"float\")\n",
    "    \n",
    "    return df"
   ]
  },
  {
   "cell_type": "code",
   "execution_count": 231,
   "metadata": {
    "ExecuteTime": {
     "end_time": "2020-06-01T09:08:03.995147Z",
     "start_time": "2020-06-01T09:08:03.911193Z"
    }
   },
   "outputs": [],
   "source": [
    "df = read_test_data(5)"
   ]
  },
  {
   "cell_type": "code",
   "execution_count": 232,
   "metadata": {
    "ExecuteTime": {
     "end_time": "2020-06-01T09:08:05.827678Z",
     "start_time": "2020-06-01T09:08:05.823679Z"
    }
   },
   "outputs": [],
   "source": [
    "#df =  read_real_data()"
   ]
  },
  {
   "cell_type": "markdown",
   "metadata": {},
   "source": [
    "## Filter data"
   ]
  },
  {
   "cell_type": "code",
   "execution_count": 233,
   "metadata": {
    "ExecuteTime": {
     "end_time": "2020-06-01T09:08:06.863736Z",
     "start_time": "2020-06-01T09:08:06.838751Z"
    }
   },
   "outputs": [],
   "source": [
    "def butter_lowpass(cutoff, fs, order=5):\n",
    "    nyq = 0.5 * fs\n",
    "    normal_cutoff = cutoff / nyq\n",
    "    b, a = butter(order, normal_cutoff, btype='low', analog=False)\n",
    "    return b, a\n",
    "\n",
    "def butter_lowpass_filter(data, cutoff, fs, order=5):\n",
    "    b, a = butter_lowpass(cutoff, fs, order=order)\n",
    "    y = lfilter(b, a, data)\n",
    "    return y\n",
    "\n",
    "def filter_acc(df, cutoff=10, fs=50, order=2):\n",
    "    \n",
    "    signals = [\"acc_x\",\"acc_y\",\"acc_z\"]\n",
    "    \n",
    "    new_df = pd.DataFrame(columns=signals)\n",
    "\n",
    "    list_signals = []\n",
    "\n",
    "    for j in signals:\n",
    "\n",
    "        filtered_signal = butter_lowpass_filter(df[j], cutoff=cutoff, fs=fs, order=order)\n",
    "\n",
    "        list_signals.append(filtered_signal)\n",
    "\n",
    "    new_df = pd.concat([new_df, pd.DataFrame(np.array(list_signals).T,columns=signals)])\n",
    "\n",
    "    return new_df\n",
    "\n",
    "\n",
    "def filter_gyro(df, cutoff=10, fs=50, order=2):\n",
    "    \n",
    "    signals = [\"gyro_x\",\"gyro_y\",\"gyro_z\"]\n",
    "    \n",
    "    new_df = pd.DataFrame(columns=signals)\n",
    "    \n",
    "    list_signals = []\n",
    "\n",
    "    for j in signals:\n",
    "\n",
    "        filtered_signal = butter_lowpass_filter(df[j], cutoff=cutoff, fs=fs, order=order)\n",
    "\n",
    "        list_signals.append(filtered_signal)\n",
    "\n",
    "    new_df = pd.concat([new_df, pd.DataFrame(np.array(list_signals).T,columns=signals)])\n",
    "        \n",
    "    return new_df"
   ]
  },
  {
   "cell_type": "code",
   "execution_count": 234,
   "metadata": {
    "ExecuteTime": {
     "end_time": "2020-06-01T09:08:07.202541Z",
     "start_time": "2020-06-01T09:08:07.191547Z"
    }
   },
   "outputs": [],
   "source": [
    "def remake_df(df):\n",
    "    \n",
    "    filtered_df_acc = filter_acc(df,cutoff = 12)\n",
    "    filtered_df_gyro = filter_gyro(df,cutoff= 2)\n",
    "\n",
    "\n",
    "    df = pd.concat([filtered_df_acc.reset_index(drop=True), filtered_df_gyro.reset_index(drop=True)], axis=1)\n",
    "    df.reset_index(inplace = True)\n",
    "    \n",
    "    df.rename(columns={'index': 'sample'},inplace=True)\n",
    "    \n",
    "    return df"
   ]
  },
  {
   "cell_type": "code",
   "execution_count": 235,
   "metadata": {
    "ExecuteTime": {
     "end_time": "2020-06-01T09:08:07.607433Z",
     "start_time": "2020-06-01T09:08:07.560459Z"
    }
   },
   "outputs": [],
   "source": [
    "df = remake_df(df)"
   ]
  },
  {
   "cell_type": "markdown",
   "metadata": {},
   "source": [
    "## Create clock df"
   ]
  },
  {
   "cell_type": "code",
   "execution_count": 236,
   "metadata": {
    "ExecuteTime": {
     "end_time": "2020-06-01T09:08:08.017201Z",
     "start_time": "2020-06-01T09:08:08.009204Z"
    }
   },
   "outputs": [],
   "source": [
    "def create_block_df(df,window_size):\n",
    "    \n",
    "    df['flag'] = np.where(df.index % window_size == 0,1,0)\n",
    "    df[\"block\"] = df['flag'].cumsum()\n",
    "    \n",
    "    return df"
   ]
  },
  {
   "cell_type": "code",
   "execution_count": 237,
   "metadata": {
    "ExecuteTime": {
     "end_time": "2020-06-01T09:08:08.142125Z",
     "start_time": "2020-06-01T09:08:08.131132Z"
    }
   },
   "outputs": [],
   "source": [
    "df = create_block_df(df, 256)"
   ]
  },
  {
   "cell_type": "markdown",
   "metadata": {},
   "source": [
    "## Aggregate data for the features"
   ]
  },
  {
   "cell_type": "code",
   "execution_count": 238,
   "metadata": {
    "ExecuteTime": {
     "end_time": "2020-06-01T09:08:08.593868Z",
     "start_time": "2020-06-01T09:08:08.584876Z"
    }
   },
   "outputs": [],
   "source": [
    "def kurtosis_time(x):\n",
    "\n",
    "    return kurtosis(x, fisher=True)\n",
    "\n",
    "def rms_100(x):\n",
    "\n",
    "    return np.sqrt(np.mean(x**2)) \n",
    "\n",
    "def crest(x):\n",
    "    \n",
    "    return max(abs(x))/np.sqrt(np.mean(x**2))"
   ]
  },
  {
   "cell_type": "code",
   "execution_count": 239,
   "metadata": {
    "ExecuteTime": {
     "end_time": "2020-06-01T09:08:08.657832Z",
     "start_time": "2020-06-01T09:08:08.646838Z"
    }
   },
   "outputs": [],
   "source": [
    "def create_aggregated(block_df):\n",
    "    \n",
    "    signals = [\"acc_x\", \"acc_y\", \"acc_z\", \"gyro_x\", \"gyro_y\", \"gyro_z\"]\n",
    "    \n",
    "    samples = {\"sample\": [\"first\",'last']}\n",
    "    functions = {x: [\"sum\", \"mean\", \"mad\",\n",
    "                    \"median\", \"min\", \"max\", \n",
    "                    \"std\", \"var\", \"sem\", \n",
    "                    \"skew\", \"quantile\", \n",
    "                    kurtosis_time, rms_100, \n",
    "                    crest] for x in signals}\n",
    "    \n",
    "\n",
    "    samples.update(functions)\n",
    "    \n",
    "    agg_df = block_df.groupby(\"block\").agg(samples)\n",
    "    \n",
    "    return agg_df"
   ]
  },
  {
   "cell_type": "code",
   "execution_count": 240,
   "metadata": {
    "ExecuteTime": {
     "end_time": "2020-06-01T09:08:11.273336Z",
     "start_time": "2020-06-01T09:08:09.188530Z"
    }
   },
   "outputs": [],
   "source": [
    "agg_df = create_aggregated(df)"
   ]
  },
  {
   "cell_type": "code",
   "execution_count": 241,
   "metadata": {
    "ExecuteTime": {
     "end_time": "2020-06-01T09:08:11.477216Z",
     "start_time": "2020-06-01T09:08:11.461229Z"
    }
   },
   "outputs": [],
   "source": [
    "def do_fft(df):\n",
    "    \n",
    "    \"Creat a new df with the frequency spectrum of each blocks\"\n",
    "    \n",
    "    signals = [\"acc_x\",\"acc_y\",\"acc_z\",\"gyro_x\",\"gyro_y\",\"gyro_z\"]\n",
    "    #df.columns = ['index', 'id', 'experiment', 'activity'] + signals + [\"block\"]\n",
    "    \n",
    "    new_df = pd.DataFrame()\n",
    "    \n",
    "    for block in df.block.unique():\n",
    "        \n",
    "        fft_df = df[df[\"block\"] == block]\n",
    "        \n",
    "        list_signals = []\n",
    "        \n",
    "        for j in signals:\n",
    "            \n",
    "            freq, amp = signal.welch(fft_df[j], 50, nperseg=64)\n",
    "            \n",
    "            list_signals.append(amp)\n",
    "            \n",
    "        list_signals.append(np.full(len(freq), block))\n",
    "        \n",
    "        new_df = pd.concat([new_df, pd.DataFrame(np.array(list_signals).T,columns=[x+\"_FFT\" for x in signals]+[\"block\"])])\n",
    "        new_df.dropna(axis=1,inplace=True)\n",
    "        \n",
    "        \n",
    "    #new_df[\"freq\"] = np.tile(x,len(df.block.unique()))\n",
    "    new_df[\"block\"] = new_df[\"block\"].astype('int32')\n",
    "        \n",
    "    return new_df"
   ]
  },
  {
   "cell_type": "code",
   "execution_count": 242,
   "metadata": {
    "ExecuteTime": {
     "end_time": "2020-06-01T09:08:11.721077Z",
     "start_time": "2020-06-01T09:08:11.690096Z"
    }
   },
   "outputs": [
    {
     "data": {
      "text/html": [
       "<div>\n",
       "<style scoped>\n",
       "    .dataframe tbody tr th:only-of-type {\n",
       "        vertical-align: middle;\n",
       "    }\n",
       "\n",
       "    .dataframe tbody tr th {\n",
       "        vertical-align: top;\n",
       "    }\n",
       "\n",
       "    .dataframe thead th {\n",
       "        text-align: right;\n",
       "    }\n",
       "</style>\n",
       "<table border=\"1\" class=\"dataframe\">\n",
       "  <thead>\n",
       "    <tr style=\"text-align: right;\">\n",
       "      <th></th>\n",
       "      <th>acc_x_FFT</th>\n",
       "      <th>acc_y_FFT</th>\n",
       "      <th>acc_z_FFT</th>\n",
       "      <th>gyro_x_FFT</th>\n",
       "      <th>gyro_y_FFT</th>\n",
       "      <th>gyro_z_FFT</th>\n",
       "      <th>block</th>\n",
       "    </tr>\n",
       "  </thead>\n",
       "  <tbody>\n",
       "    <tr>\n",
       "      <th>0</th>\n",
       "      <td>5.469944e-04</td>\n",
       "      <td>9.532833e-04</td>\n",
       "      <td>2.178362e-03</td>\n",
       "      <td>6.350088e-02</td>\n",
       "      <td>3.929459e-02</td>\n",
       "      <td>4.532768e-02</td>\n",
       "      <td>1</td>\n",
       "    </tr>\n",
       "    <tr>\n",
       "      <th>1</th>\n",
       "      <td>3.952520e-03</td>\n",
       "      <td>9.186401e-03</td>\n",
       "      <td>1.314925e-02</td>\n",
       "      <td>1.640038e-01</td>\n",
       "      <td>1.406422e-01</td>\n",
       "      <td>2.313563e-01</td>\n",
       "      <td>1</td>\n",
       "    </tr>\n",
       "    <tr>\n",
       "      <th>2</th>\n",
       "      <td>1.633208e-03</td>\n",
       "      <td>3.468516e-03</td>\n",
       "      <td>2.070188e-03</td>\n",
       "      <td>6.646020e-02</td>\n",
       "      <td>8.553505e-02</td>\n",
       "      <td>6.311394e-02</td>\n",
       "      <td>1</td>\n",
       "    </tr>\n",
       "    <tr>\n",
       "      <th>3</th>\n",
       "      <td>1.059146e-03</td>\n",
       "      <td>9.977981e-04</td>\n",
       "      <td>1.409753e-03</td>\n",
       "      <td>1.922545e-02</td>\n",
       "      <td>2.901624e-02</td>\n",
       "      <td>5.258756e-03</td>\n",
       "      <td>1</td>\n",
       "    </tr>\n",
       "    <tr>\n",
       "      <th>4</th>\n",
       "      <td>1.542495e-03</td>\n",
       "      <td>5.931739e-04</td>\n",
       "      <td>1.163674e-03</td>\n",
       "      <td>6.921522e-03</td>\n",
       "      <td>1.049861e-02</td>\n",
       "      <td>5.973664e-03</td>\n",
       "      <td>1</td>\n",
       "    </tr>\n",
       "    <tr>\n",
       "      <th>...</th>\n",
       "      <td>...</td>\n",
       "      <td>...</td>\n",
       "      <td>...</td>\n",
       "      <td>...</td>\n",
       "      <td>...</td>\n",
       "      <td>...</td>\n",
       "      <td>...</td>\n",
       "    </tr>\n",
       "    <tr>\n",
       "      <th>28</th>\n",
       "      <td>7.983344e-09</td>\n",
       "      <td>2.521543e-09</td>\n",
       "      <td>8.414088e-09</td>\n",
       "      <td>3.508057e-11</td>\n",
       "      <td>1.128932e-10</td>\n",
       "      <td>7.217885e-12</td>\n",
       "      <td>76</td>\n",
       "    </tr>\n",
       "    <tr>\n",
       "      <th>29</th>\n",
       "      <td>3.135824e-09</td>\n",
       "      <td>1.654540e-09</td>\n",
       "      <td>1.309068e-08</td>\n",
       "      <td>4.259073e-15</td>\n",
       "      <td>8.743932e-12</td>\n",
       "      <td>3.699660e-11</td>\n",
       "      <td>76</td>\n",
       "    </tr>\n",
       "    <tr>\n",
       "      <th>30</th>\n",
       "      <td>2.050775e-09</td>\n",
       "      <td>1.021256e-09</td>\n",
       "      <td>2.451071e-09</td>\n",
       "      <td>7.964618e-12</td>\n",
       "      <td>8.017027e-13</td>\n",
       "      <td>8.807781e-13</td>\n",
       "      <td>76</td>\n",
       "    </tr>\n",
       "    <tr>\n",
       "      <th>31</th>\n",
       "      <td>1.403044e-10</td>\n",
       "      <td>3.386424e-11</td>\n",
       "      <td>9.335590e-11</td>\n",
       "      <td>3.868794e-13</td>\n",
       "      <td>2.098005e-12</td>\n",
       "      <td>2.725794e-13</td>\n",
       "      <td>76</td>\n",
       "    </tr>\n",
       "    <tr>\n",
       "      <th>32</th>\n",
       "      <td>1.465713e-12</td>\n",
       "      <td>2.029370e-13</td>\n",
       "      <td>5.684262e-11</td>\n",
       "      <td>2.145059e-14</td>\n",
       "      <td>4.046073e-13</td>\n",
       "      <td>6.070956e-15</td>\n",
       "      <td>76</td>\n",
       "    </tr>\n",
       "  </tbody>\n",
       "</table>\n",
       "<p>2508 rows × 7 columns</p>\n",
       "</div>"
      ],
      "text/plain": [
       "       acc_x_FFT     acc_y_FFT     acc_z_FFT    gyro_x_FFT    gyro_y_FFT  \\\n",
       "0   5.469944e-04  9.532833e-04  2.178362e-03  6.350088e-02  3.929459e-02   \n",
       "1   3.952520e-03  9.186401e-03  1.314925e-02  1.640038e-01  1.406422e-01   \n",
       "2   1.633208e-03  3.468516e-03  2.070188e-03  6.646020e-02  8.553505e-02   \n",
       "3   1.059146e-03  9.977981e-04  1.409753e-03  1.922545e-02  2.901624e-02   \n",
       "4   1.542495e-03  5.931739e-04  1.163674e-03  6.921522e-03  1.049861e-02   \n",
       "..           ...           ...           ...           ...           ...   \n",
       "28  7.983344e-09  2.521543e-09  8.414088e-09  3.508057e-11  1.128932e-10   \n",
       "29  3.135824e-09  1.654540e-09  1.309068e-08  4.259073e-15  8.743932e-12   \n",
       "30  2.050775e-09  1.021256e-09  2.451071e-09  7.964618e-12  8.017027e-13   \n",
       "31  1.403044e-10  3.386424e-11  9.335590e-11  3.868794e-13  2.098005e-12   \n",
       "32  1.465713e-12  2.029370e-13  5.684262e-11  2.145059e-14  4.046073e-13   \n",
       "\n",
       "      gyro_z_FFT  block  \n",
       "0   4.532768e-02      1  \n",
       "1   2.313563e-01      1  \n",
       "2   6.311394e-02      1  \n",
       "3   5.258756e-03      1  \n",
       "4   5.973664e-03      1  \n",
       "..           ...    ...  \n",
       "28  7.217885e-12     76  \n",
       "29  3.699660e-11     76  \n",
       "30  8.807781e-13     76  \n",
       "31  2.725794e-13     76  \n",
       "32  6.070956e-15     76  \n",
       "\n",
       "[2508 rows x 7 columns]"
      ]
     },
     "execution_count": 242,
     "metadata": {},
     "output_type": "execute_result"
    }
   ],
   "source": [
    "fft_df"
   ]
  },
  {
   "cell_type": "code",
   "execution_count": 243,
   "metadata": {
    "ExecuteTime": {
     "end_time": "2020-06-01T09:08:12.712511Z",
     "start_time": "2020-06-01T09:08:11.915965Z"
    }
   },
   "outputs": [
    {
     "name": "stderr",
     "output_type": "stream",
     "text": [
      "c:\\users\\mesza\\.virtualenvs\\human-activity-recognition-7vqxol0e\\lib\\site-packages\\scipy\\signal\\spectral.py:1966: UserWarning:\n",
      "\n",
      "nperseg = 64 is greater than input length  = 2, using nperseg = 2\n",
      "\n"
     ]
    }
   ],
   "source": [
    "fft_df = do_fft(df)"
   ]
  },
  {
   "cell_type": "code",
   "execution_count": 244,
   "metadata": {
    "ExecuteTime": {
     "end_time": "2020-06-01T09:08:12.928402Z",
     "start_time": "2020-06-01T09:08:12.905400Z"
    }
   },
   "outputs": [],
   "source": [
    "def peak_sum_all(x):\n",
    "    \n",
    "    peaks, _ = signal.find_peaks(x, height=0,)\n",
    "    \n",
    "    return sum(peaks)\n",
    "\n",
    "def peak_mean_12(x):\n",
    "    \n",
    "    peaks, hight = signal.find_peaks(x, height=0,)\n",
    "    hight[\"peak_heights\"][::-1].sort()\n",
    "    \n",
    "    if len( hight[\"peak_heights\"])>=12:\n",
    "    \n",
    "        return np.mean(hight[\"peak_heights\"][:12])\n",
    "\n",
    "def peak_mean_8(x):\n",
    "    \n",
    "    peaks, hight = signal.find_peaks(x, height=0,)\n",
    "    hight[\"peak_heights\"][::-1].sort()\n",
    "    \n",
    "    if len( hight[\"peak_heights\"])>=8:\n",
    "    \n",
    "        return np.mean(hight[\"peak_heights\"][:8])\n",
    "\n",
    "def peak_mean_6(x):\n",
    "    \n",
    "    peaks, hight = signal.find_peaks(x, height=0,)\n",
    "    hight[\"peak_heights\"][::-1].sort()\n",
    "    \n",
    "    if len( hight[\"peak_heights\"])>=6:\n",
    "    \n",
    "        return np.mean(hight[\"peak_heights\"][:6])\n",
    "\n",
    "def peak_mean_2(x):\n",
    "    \n",
    "    peaks, hight = signal.find_peaks(x, height=0,)\n",
    "    hight[\"peak_heights\"][::-1].sort()\n",
    "    \n",
    "    if len( hight[\"peak_heights\"])>=2:\n",
    "    \n",
    "        return np.mean(hight[\"peak_heights\"][:2])\n"
   ]
  },
  {
   "cell_type": "code",
   "execution_count": 245,
   "metadata": {
    "ExecuteTime": {
     "end_time": "2020-06-01T09:08:13.141264Z",
     "start_time": "2020-06-01T09:08:13.121278Z"
    }
   },
   "outputs": [],
   "source": [
    "def kurtosis_freq(x):\n",
    "\n",
    "    return kurtosis(x, fisher=True)\n",
    "\n",
    "def rms_10(x):\n",
    "    \n",
    "    y = x[:int(len(x)*0.1)]\n",
    "    \n",
    "    return np.sqrt(np.mean(y*2))\n",
    "def rms_20(x):\n",
    "    \n",
    "    y = x[:int(len(x)*0.20)]\n",
    "    \n",
    "    return np.sqrt(np.mean(y**2))\n",
    "\n",
    "def rms_50(x):\n",
    "    \n",
    "    y = x[:int(len(x)*0.50)]\n",
    "    \n",
    "    return np.sqrt(np.mean(y**2))\n",
    "\n",
    "def rms_80(x):\n",
    "    \n",
    "    y = x[:int(len(x)*0.80)]\n",
    "    \n",
    "    return np.sqrt(np.mean(y**2))\n",
    "\n",
    "def rms_100(x):\n",
    "\n",
    "    return np.sqrt(np.mean(x**2)) \n",
    "\n",
    "def quad_sum(x):\n",
    "    \n",
    "    return np.sum(x**2)"
   ]
  },
  {
   "cell_type": "code",
   "execution_count": 246,
   "metadata": {
    "ExecuteTime": {
     "end_time": "2020-06-01T09:08:13.332154Z",
     "start_time": "2020-06-01T09:08:13.319162Z"
    }
   },
   "outputs": [],
   "source": [
    "def create_aggregated_freq(fft_df):\n",
    "    \n",
    "    signals = ['acc_x_FFT', 'acc_y_FFT', 'acc_z_FFT', 'gyro_x_FFT', 'gyro_y_FFT','gyro_z_FFT']\n",
    "\n",
    "    fft_agg_df = fft_df.groupby(\"block\").agg({x: [\"sum\", \"mean\", \"mad\",\n",
    "                                                  \"median\", \"min\", \"max\", \n",
    "                                                  \"std\", \"var\", \"sem\", \n",
    "                                                  \"skew\", \"quantile\",\n",
    "                                                  peak_sum_all, kurtosis_freq, peak_mean_2,\n",
    "                                                  peak_mean_6, peak_mean_8, peak_mean_12,\n",
    "                                                  rms_10, rms_20, rms_50,\n",
    "                                                  rms_80, rms_100, quad_sum] for x in signals })\n",
    "    return fft_agg_df"
   ]
  },
  {
   "cell_type": "code",
   "execution_count": null,
   "metadata": {
    "ExecuteTime": {
     "start_time": "2020-06-01T09:08:11.529Z"
    }
   },
   "outputs": [],
   "source": [
    "fft_agg_df = create_aggregated_freq(fft_df)"
   ]
  },
  {
   "cell_type": "markdown",
   "metadata": {},
   "source": [
    "## Create data for classification"
   ]
  },
  {
   "cell_type": "code",
   "execution_count": null,
   "metadata": {
    "ExecuteTime": {
     "start_time": "2020-06-01T09:08:12.294Z"
    }
   },
   "outputs": [],
   "source": [
    "def create_clf_data(agg_df,fft_agg_df):\n",
    "    \n",
    "    features = agg_df.merge(fft_agg_df,on=\"block\")\n",
    "    clf_data = features.drop([('sample','first'),('sample','last')],axis=1)\n",
    "    \n",
    "    return clf_data"
   ]
  },
  {
   "cell_type": "code",
   "execution_count": null,
   "metadata": {
    "ExecuteTime": {
     "start_time": "2020-06-01T09:08:13.630Z"
    }
   },
   "outputs": [],
   "source": [
    "clf_data = create_clf_data(agg_df,fft_agg_df)"
   ]
  },
  {
   "cell_type": "code",
   "execution_count": null,
   "metadata": {
    "ExecuteTime": {
     "start_time": "2020-06-01T09:08:13.923Z"
    }
   },
   "outputs": [],
   "source": [
    "def preprocess_data(df):\n",
    "  \n",
    "    \n",
    "    features_to_drop = [('acc_x_FFT', 'peak_mean_6'),\n",
    " ('acc_x_FFT', 'peak_mean_8'),\n",
    " ('acc_x_FFT', 'peak_mean_12'),\n",
    " ('acc_y_FFT', 'peak_mean_6'),\n",
    " ('acc_y_FFT', 'peak_mean_8'),\n",
    " ('acc_y_FFT', 'peak_mean_12'),\n",
    " ('acc_z_FFT', 'peak_mean_6'),\n",
    " ('acc_z_FFT', 'peak_mean_8'),\n",
    " ('acc_z_FFT', 'peak_mean_12'),\n",
    " ('gyro_x_FFT', 'peak_mean_6'),\n",
    " ('gyro_x_FFT', 'peak_mean_8'),\n",
    " ('gyro_x_FFT', 'peak_mean_12'),\n",
    " ('gyro_y_FFT', 'peak_mean_6'),\n",
    " ('gyro_y_FFT', 'peak_mean_8'),\n",
    " ('gyro_y_FFT', 'peak_mean_12'),\n",
    " ('gyro_z_FFT', 'peak_mean_6'),\n",
    " ('gyro_z_FFT', 'peak_mean_8'),\n",
    " ('gyro_z_FFT', 'peak_mean_12')]\n",
    "    \n",
    "    df.drop(features_to_drop,axis=1, inplace = True)\n",
    "    \n",
    "    pipe = Pipeline([(\"imputer\", SimpleImputer(fill_value = 0)),\n",
    "                         ('scaler', StandardScaler())])\n",
    "    \n",
    "    clf_data = pd.DataFrame(pipe.fit_transform(df),columns=df.columns) \n",
    "   \n",
    "    return clf_data\n",
    "    "
   ]
  },
  {
   "cell_type": "code",
   "execution_count": null,
   "metadata": {
    "ExecuteTime": {
     "start_time": "2020-06-01T09:08:14.782Z"
    }
   },
   "outputs": [],
   "source": [
    "clf_data = preprocess_data(clf_data)"
   ]
  },
  {
   "cell_type": "code",
   "execution_count": 219,
   "metadata": {
    "ExecuteTime": {
     "end_time": "2020-06-01T08:54:45.948534Z",
     "start_time": "2020-06-01T08:54:45.942538Z"
    }
   },
   "outputs": [],
   "source": [
    "def load_model(filename):\n",
    "    \n",
    "    # load the model from disk\n",
    "    model = joblib.load(filename)\n",
    "    return model"
   ]
  },
  {
   "cell_type": "code",
   "execution_count": 220,
   "metadata": {
    "ExecuteTime": {
     "end_time": "2020-06-01T08:54:46.796706Z",
     "start_time": "2020-06-01T08:54:46.674778Z"
    }
   },
   "outputs": [],
   "source": [
    "model = load_model(\"../models/har_model_v05.sav\")"
   ]
  },
  {
   "cell_type": "code",
   "execution_count": 221,
   "metadata": {
    "ExecuteTime": {
     "end_time": "2020-06-01T08:54:47.373918Z",
     "start_time": "2020-06-01T08:54:47.367928Z"
    }
   },
   "outputs": [],
   "source": [
    "def classify(df,model):\n",
    "    \n",
    "    labels = model.predict(df)\n",
    "    \n",
    "    return labels"
   ]
  },
  {
   "cell_type": "code",
   "execution_count": 222,
   "metadata": {
    "ExecuteTime": {
     "end_time": "2020-06-01T08:54:48.203442Z",
     "start_time": "2020-06-01T08:54:48.164480Z"
    }
   },
   "outputs": [],
   "source": [
    "labels = classify(clf_data,model)"
   ]
  },
  {
   "cell_type": "code",
   "execution_count": 223,
   "metadata": {
    "ExecuteTime": {
     "end_time": "2020-06-01T08:54:50.259010Z",
     "start_time": "2020-06-01T08:54:50.249019Z"
    }
   },
   "outputs": [],
   "source": [
    "def label_original(df, labels, model):\n",
    "    \n",
    "    labels = pd.DataFrame(labels,index=[x for x in range(1,len(labels)+1)], columns=[\"labels\"])\n",
    "    labeled_df = df.merge(labels, how='outer', left_on=\"block\", right_on=labels.index)\n",
    "    \n",
    "    return labeled_df"
   ]
  },
  {
   "cell_type": "code",
   "execution_count": 224,
   "metadata": {
    "ExecuteTime": {
     "end_time": "2020-06-01T08:54:50.808781Z",
     "start_time": "2020-06-01T08:54:50.793789Z"
    },
    "scrolled": true
   },
   "outputs": [],
   "source": [
    "labeled_df = label_original(df,labels,model)"
   ]
  },
  {
   "cell_type": "code",
   "execution_count": 225,
   "metadata": {
    "ExecuteTime": {
     "end_time": "2020-06-01T08:54:51.358850Z",
     "start_time": "2020-06-01T08:54:51.351857Z"
    }
   },
   "outputs": [],
   "source": [
    "def most_common_label(x):\n",
    "    c = Counter(x)\n",
    "    return c.most_common(1)[0][0]"
   ]
  },
  {
   "cell_type": "code",
   "execution_count": 226,
   "metadata": {
    "ExecuteTime": {
     "end_time": "2020-06-01T08:54:51.770644Z",
     "start_time": "2020-06-01T08:54:51.762647Z"
    }
   },
   "outputs": [],
   "source": [
    "def label_agg_df(agg_df,labels):\n",
    "    \n",
    "    labels = pd.DataFrame(labels,index=[x for x in range(1,len(labels)+1)], columns=[\"labels\"])\n",
    "    labeled_agg_df = agg_df[\"sample\"].merge(labels, how='outer', left_on=\"block\", right_on=labels.index)\n",
    "    labeled_agg_df[\"smooth_block\"] = labeled_agg_df[\"labels\"].rolling(5,center=True).apply(most_common_label)\n",
    "    \n",
    "    return labeled_agg_df"
   ]
  },
  {
   "cell_type": "code",
   "execution_count": 227,
   "metadata": {
    "ExecuteTime": {
     "end_time": "2020-06-01T08:54:52.197399Z",
     "start_time": "2020-06-01T08:54:52.160434Z"
    }
   },
   "outputs": [],
   "source": [
    "labeled_agg_df = label_agg_df(agg_df,labels)"
   ]
  },
  {
   "cell_type": "code",
   "execution_count": 228,
   "metadata": {
    "ExecuteTime": {
     "end_time": "2020-06-01T08:54:52.748081Z",
     "start_time": "2020-06-01T08:54:52.698110Z"
    }
   },
   "outputs": [],
   "source": [
    "def plot_activity(labeled_df, labeled_agg_df, experiment = True, experiment_n = 2):\n",
    "    \n",
    "    plt.figure()\n",
    "    ax=plt.subplot(2, 1, 1)\n",
    "    ax.plot(np.linspace(0,len(labeled_df[\"acc_x\"]),len(labeled_df[\"acc_x\"])),\n",
    "                        labeled_df[\"acc_x\"], c=\"#003366\")\n",
    "    colors = {0: \"white\", 1:'blue',2:\"orange\",3:'green', 4:'red', 5:'purple', 6:'brown',\n",
    "              7:'pink',8: 'gray', 9:'olive', 10:'cyan', 11:'limegreen',12:'yellow'}\n",
    "    \n",
    "    activity ={0:'No_Activity',\n",
    "               1: 'WALKING',\n",
    "                2: 'WALKING_UPSTAIRS',\n",
    "                3: 'WALKING_DOWNSTAIRS',\n",
    "                4: 'SITTING',\n",
    "                5: 'STANDING',\n",
    "                6: 'LAYING',\n",
    "                7: 'STAND_TO_SIT',\n",
    "                8: 'SIT_TO_STAND',\n",
    "                9: 'SIT_TO_LIE',\n",
    "                10: 'LIE_TO_SIT',\n",
    "                11: 'STAND_TO_LIE',\n",
    "                12: 'LIE_TO_STAND'}\n",
    "\n",
    "    for index,row in labeled_agg_df.iterrows():\n",
    "\n",
    "        start = row['first']\n",
    "        end = row[\"last\"]\n",
    "        c = colors[row['labels']]\n",
    "\n",
    "        rect = plt.Rectangle((start,labeled_df[\"acc_x\"].min()), \n",
    "                             (end-start),\n",
    "                             labeled_df[\"acc_x\"].max()-labeled_df[\"acc_x\"].min(),\n",
    "                             color = c, alpha = 0.4)\n",
    "        ax.add_patch(rect)\n",
    "\n",
    "    custom_lines = []\n",
    "\n",
    "    for c in colors:\n",
    "\n",
    "        custom_lines.append(Line2D([0], [0], color=colors[c], lw=4, alpha= 0.7))\n",
    "\n",
    "    ax.legend(custom_lines, [activity[x] for x in colors],\n",
    "             loc='upper center', bbox_to_anchor=(0.5, -0.05),\n",
    "              fancybox=True, shadow=True, ncol=5)\n",
    "    \n",
    "    ax.set_xlabel(\"time $[s]$\")\n",
    "    ax.set_ylabel(\"Amplitude\")\n",
    "    ax.set_title(\"Classified Data\")\n",
    "    ax.grid()\n",
    "    \n",
    "    if experiment:\n",
    "        \n",
    "        labeled_agg_df = pd.read_csv('../data/RawData/labels.txt', sep=\" \", header=None)\n",
    "        labeled_agg_df.columns = ['experiment','person','labels','first','last']\n",
    "        labeled_agg_df= labeled_agg_df[labeled_agg_df[\"experiment\"] == 2]\n",
    "        \n",
    "        \n",
    "        plt.figure()\n",
    "        ax=plt.subplot(2, 1, 2)\n",
    "        ax.plot(np.linspace(0,len(labeled_df[\"acc_x\"]),len(labeled_df[\"acc_x\"])),\n",
    "                            labeled_df[\"acc_x\"], c=\"#003366\")\n",
    "        colors = {0: \"white\", 1:'blue',2:\"orange\",3:'green', 4:'red', 5:'purple', 6:'brown',\n",
    "                  7:'pink',8: 'gray', 9:'olive', 10:'cyan', 11:'limegreen',12:'yellow'}\n",
    "\n",
    "        activity ={0:'No_Activity',\n",
    "                   1: 'WALKING',\n",
    "                    2: 'WALKING_UPSTAIRS',\n",
    "                    3: 'WALKING_DOWNSTAIRS',\n",
    "                    4: 'SITTING',\n",
    "                    5: 'STANDING',\n",
    "                    6: 'LAYING',\n",
    "                    7: 'STAND_TO_SIT',\n",
    "                    8: 'SIT_TO_STAND',\n",
    "                    9: 'SIT_TO_LIE',\n",
    "                    10: 'LIE_TO_SIT',\n",
    "                    11: 'STAND_TO_LIE',\n",
    "                    12: 'LIE_TO_STAND'}\n",
    "\n",
    "        for index,row in labeled_agg_df.iterrows():\n",
    "\n",
    "            start = row['first']\n",
    "            end = row[\"last\"]\n",
    "            c = colors[row['labels']]\n",
    "\n",
    "            rect = plt.Rectangle((start,labeled_df[\"acc_x\"].min()), \n",
    "                                 (end-start),\n",
    "                                 labeled_df[\"acc_x\"].max()-labeled_df[\"acc_x\"].min(),\n",
    "                                 color = c, alpha = 0.4)\n",
    "            ax.add_patch(rect)\n",
    "\n",
    "        custom_lines = []\n",
    "\n",
    "        for c in colors:\n",
    "\n",
    "            custom_lines.append(Line2D([0], [0], color=colors[c], lw=4, alpha= 0.7))\n",
    "\n",
    "        ax.legend(custom_lines, [activity[x] for x in colors],\n",
    "                 loc='upper center', bbox_to_anchor=(0.5, -0.05),\n",
    "                  fancybox=True, shadow=True, ncol=5)\n",
    "\n",
    "        ax.set_xlabel(\"time $[s]$\")\n",
    "        ax.set_ylabel(\"Amplitude\")\n",
    "        ax.set_title(\"Original Data\")\n",
    "        ax.grid()\n"
   ]
  },
  {
   "cell_type": "code",
   "execution_count": 229,
   "metadata": {
    "ExecuteTime": {
     "end_time": "2020-06-01T08:54:54.644011Z",
     "start_time": "2020-06-01T08:54:53.125867Z"
    },
    "scrolled": false
   },
   "outputs": [
    {
     "data": {
      "image/png": "[encoded data removed]",
      "text/plain": [
       "<Figure size 1152x864 with 1 Axes>"
      ]
     },
     "metadata": {
      "needs_background": "light"
     },
     "output_type": "display_data"
    },
    {
     "data": {
      "image/png": "[encoded data removed]",
      "text/plain": [
       "<Figure size 1152x864 with 1 Axes>"
      ]
     },
     "metadata": {
      "needs_background": "light"
     },
     "output_type": "display_data"
    }
   ],
   "source": [
    "plot_activity(labeled_df,labeled_agg_df, experiment_n = 2)"
   ]
  },
  {
   "cell_type": "code",
   "execution_count": 230,
   "metadata": {
    "ExecuteTime": {
     "end_time": "2020-06-01T08:54:55.244709Z",
     "start_time": "2020-06-01T08:54:55.237712Z"
    }
   },
   "outputs": [
    {
     "data": {
      "text/plain": [
       "array([0, 0, 0, 0, 6, 0, 0, 0, 0, 0, 0, 0, 0, 0, 0, 0, 0, 0, 0, 0, 0, 0,\n",
       "       6, 6, 6, 6, 6, 0, 5, 6, 0, 0, 0, 6, 4, 4, 0, 5, 0, 2, 0, 4, 6, 0,\n",
       "       4, 0, 0, 1, 0, 5, 0, 0, 0, 2, 2, 0, 0, 0, 0, 2, 2, 0, 0, 2, 0, 0,\n",
       "       2, 2, 0, 4, 0, 0, 6, 0, 0, 0], dtype=int64)"
      ]
     },
     "execution_count": 230,
     "metadata": {},
     "output_type": "execute_result"
    }
   ],
   "source": [
    "labels"
   ]
  },
  {
   "cell_type": "code",
   "execution_count": null,
   "metadata": {},
   "outputs": [],
   "source": []
  }
 ],
 "metadata": {
  "kernelspec": {
   "display_name": "Python 3",
   "language": "python",
   "name": "python3"
  },
  "language_info": {
   "codemirror_mode": {
    "name": "ipython",
    "version": 3
   },
   "file_extension": ".py",
   "mimetype": "text/x-python",
   "name": "python",
   "nbconvert_exporter": "python",
   "pygments_lexer": "ipython3",
   "version": "3.7.5"
  },
  "toc": {
   "base_numbering": 1,
   "nav_menu": {},
   "number_sections": true,
   "sideBar": true,
   "skip_h1_title": false,
   "title_cell": "Table of Contents",
   "title_sidebar": "Contents",
   "toc_cell": false,
   "toc_position": {},
   "toc_section_display": true,
   "toc_window_display": true
  },
  "varInspector": {
   "cols": {
    "lenName": 16,
    "lenType": 16,
    "lenVar": 40
   },
   "kernels_config": {
    "python": {
     "delete_cmd_postfix": "",
     "delete_cmd_prefix": "del ",
     "library": "var_list.py",
     "varRefreshCmd": "print(var_dic_list())"
    },
    "r": {
     "delete_cmd_postfix": ") ",
     "delete_cmd_prefix": "rm(",
     "library": "var_list.r",
     "varRefreshCmd": "cat(var_dic_list()) "
    }
   },
   "types_to_exclude": [
    "module",
    "function",
    "builtin_function_or_method",
    "instance",
    "_Feature"
   ],
   "window_display": false
  }
 },
 "nbformat": 4,
 "nbformat_minor": 4
}
