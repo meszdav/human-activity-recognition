{
 "cells": [
  {
   "cell_type": "markdown",
   "metadata": {},
   "source": [
    "## Import dependencies "
   ]
  },
  {
   "cell_type": "code",
   "execution_count": 653,
   "metadata": {
    "ExecuteTime": {
     "end_time": "2020-05-31T16:44:26.392700Z",
     "start_time": "2020-05-31T16:44:26.374708Z"
    }
   },
   "outputs": [],
   "source": [
    "%run ../initEnviroment.py\n",
    "from plot_data import PlotActivity\n",
    "from matplotlib.lines import Line2D\n",
    "from scipy.stats import norm, kurtosis\n",
    "import os\n",
    "from scipy.signal import butter, lfilter, freqz\n",
    "from scipy import signal\n",
    "from sklearn.pipeline import Pipeline\n",
    "from sklearn.impute import SimpleImputer\n",
    "from sklearn.preprocessing import StandardScaler, MinMaxScaler\n",
    "from collections import Counter\n",
    "import joblib"
   ]
  },
  {
   "cell_type": "markdown",
   "metadata": {},
   "source": [
    "##  Read Data"
   ]
  },
  {
   "cell_type": "code",
   "execution_count": 654,
   "metadata": {
    "ExecuteTime": {
     "end_time": "2020-05-31T16:44:27.848483Z",
     "start_time": "2020-05-31T16:44:27.835494Z"
    }
   },
   "outputs": [],
   "source": [
    "def read_test_data(experiment):\n",
    "    \n",
    "    if experiment < 10:\n",
    "        experiment = '0' + str(experiment)\n",
    "    else:\n",
    "        experiment = str(experiment)\n",
    "\n",
    "    for j in os.listdir('../data/RawData/'):\n",
    "\n",
    "        if \"acc_exp\" + experiment in j:\n",
    "            \n",
    "            acc_path = \"../data/RawData/\" + j\n",
    "\n",
    "        elif \"gyro_exp\" + experiment in j:\n",
    "            \n",
    "            gyro_path = \"../data/RawData/\" + j\n",
    "            \n",
    "    acc_df = pd.read_csv(acc_path, sep = \" \", names=['acc_x','acc_y','acc_z'])\n",
    "    gyro_df = pd.read_csv(gyro_path, sep = \" \", names=['gyro_x','gyro_y','gyro_z'])\n",
    "\n",
    "    exp_df = pd.concat([acc_df,gyro_df],1)\n",
    "    exp_df[\"experiment\"] = int(experiment) #keep track of the experiment\n",
    "\n",
    "        \n",
    "    return exp_df"
   ]
  },
  {
   "cell_type": "code",
   "execution_count": 655,
   "metadata": {
    "ExecuteTime": {
     "end_time": "2020-05-31T16:44:28.702995Z",
     "start_time": "2020-05-31T16:44:28.690004Z"
    }
   },
   "outputs": [],
   "source": [
    "def read_real_data():\n",
    "    \n",
    "    acc_df = pd.read_csv(\"../data/RealData/Accelerometer.csv\", sep = \",\", \n",
    "                         names=['time','acc_x','acc_y','acc_z'],header=None)\n",
    "    acc_df.drop('time',axis = 1, inplace = True)\n",
    "    acc_df.drop(0,inplace=True)\n",
    "    \n",
    "    \n",
    "    gyro_df = pd.read_csv(\"../data/RealData/Gyroscope.csv\", sep = \",\", \n",
    "                          names=['time','gyro_x','gyro_y','gyro_z'], header = None) \n",
    "    gyro_df.drop('time',axis = 1, inplace = True)\n",
    "    gyro_df.drop(0,inplace=True)\n",
    "    \n",
    "    df = pd.concat([acc_df,gyro_df],1)\n",
    "    df.dropna(inplace=True)\n",
    "    df.reset_index(drop=True, inplace=True)\n",
    "    df = df.astype(\"float\")\n",
    "    \n",
    "    return df"
   ]
  },
  {
   "cell_type": "code",
   "execution_count": 801,
   "metadata": {
    "ExecuteTime": {
     "end_time": "2020-05-31T17:15:48.289200Z",
     "start_time": "2020-05-31T17:15:48.179262Z"
    }
   },
   "outputs": [],
   "source": [
    "df = read_data(2)"
   ]
  },
  {
   "cell_type": "code",
   "execution_count": 802,
   "metadata": {
    "ExecuteTime": {
     "end_time": "2020-05-31T17:15:49.028774Z",
     "start_time": "2020-05-31T17:15:49.019779Z"
    }
   },
   "outputs": [],
   "source": [
    "#df =  read_real_data()"
   ]
  },
  {
   "cell_type": "markdown",
   "metadata": {},
   "source": [
    "## Filter dataa"
   ]
  },
  {
   "cell_type": "code",
   "execution_count": 803,
   "metadata": {
    "ExecuteTime": {
     "end_time": "2020-05-31T17:15:49.795338Z",
     "start_time": "2020-05-31T17:15:49.772350Z"
    }
   },
   "outputs": [],
   "source": [
    "def butter_lowpass(cutoff, fs, order=5):\n",
    "    nyq = 0.5 * fs\n",
    "    normal_cutoff = cutoff / nyq\n",
    "    b, a = butter(order, normal_cutoff, btype='low', analog=False)\n",
    "    return b, a\n",
    "\n",
    "def butter_lowpass_filter(data, cutoff, fs, order=5):\n",
    "    b, a = butter_lowpass(cutoff, fs, order=order)\n",
    "    y = lfilter(b, a, data)\n",
    "    return y\n",
    "\n",
    "def filter_acc(df, cutoff=10, fs=50, order=2):\n",
    "    \n",
    "    signals = [\"acc_x\",\"acc_y\",\"acc_z\"]\n",
    "    \n",
    "    new_df = pd.DataFrame(columns=signals)\n",
    "\n",
    "    list_signals = []\n",
    "\n",
    "    for j in signals:\n",
    "\n",
    "        filtered_signal = butter_lowpass_filter(df[j], cutoff=cutoff, fs=fs, order=order)\n",
    "\n",
    "        list_signals.append(filtered_signal)\n",
    "\n",
    "    new_df = pd.concat([new_df, pd.DataFrame(np.array(list_signals).T,columns=signals)])\n",
    "\n",
    "    return new_df\n",
    "\n",
    "\n",
    "def filter_gyro(df, cutoff=10, fs=50, order=2):\n",
    "    \n",
    "    signals = [\"gyro_x\",\"gyro_y\",\"gyro_z\"]\n",
    "    \n",
    "    new_df = pd.DataFrame(columns=signals)\n",
    "    \n",
    "    list_signals = []\n",
    "\n",
    "    for j in signals:\n",
    "\n",
    "        filtered_signal = butter_lowpass_filter(df[j], cutoff=cutoff, fs=fs, order=order)\n",
    "\n",
    "        list_signals.append(filtered_signal)\n",
    "\n",
    "    new_df = pd.concat([new_df, pd.DataFrame(np.array(list_signals).T,columns=signals)])\n",
    "        \n",
    "    return new_df"
   ]
  },
  {
   "cell_type": "code",
   "execution_count": 804,
   "metadata": {
    "ExecuteTime": {
     "end_time": "2020-05-31T17:15:50.610869Z",
     "start_time": "2020-05-31T17:15:50.597876Z"
    }
   },
   "outputs": [],
   "source": [
    "def remake_df(df):\n",
    "    \n",
    "    filtered_df_acc = filter_acc(df,cutoff = 12)\n",
    "    filtered_df_gyro = filter_gyro(df,cutoff= 2)\n",
    "\n",
    "\n",
    "    df = pd.concat([filtered_df_acc.reset_index(drop=True), filtered_df_gyro.reset_index(drop=True)], axis=1)\n",
    "    df.reset_index(inplace = True)\n",
    "    \n",
    "    df.rename(columns={'index': 'sample'},inplace=True)\n",
    "    \n",
    "    return df"
   ]
  },
  {
   "cell_type": "code",
   "execution_count": 805,
   "metadata": {
    "ExecuteTime": {
     "end_time": "2020-05-31T17:15:51.364509Z",
     "start_time": "2020-05-31T17:15:51.309471Z"
    }
   },
   "outputs": [],
   "source": [
    "df = remake_df(df)"
   ]
  },
  {
   "cell_type": "code",
   "execution_count": 806,
   "metadata": {
    "ExecuteTime": {
     "end_time": "2020-05-31T17:15:52.105017Z",
     "start_time": "2020-05-31T17:15:52.068039Z"
    }
   },
   "outputs": [
    {
     "data": {
      "text/html": [
       "<div>\n",
       "<style scoped>\n",
       "    .dataframe tbody tr th:only-of-type {\n",
       "        vertical-align: middle;\n",
       "    }\n",
       "\n",
       "    .dataframe tbody tr th {\n",
       "        vertical-align: top;\n",
       "    }\n",
       "\n",
       "    .dataframe thead th {\n",
       "        text-align: right;\n",
       "    }\n",
       "</style>\n",
       "<table border=\"1\" class=\"dataframe\">\n",
       "  <thead>\n",
       "    <tr style=\"text-align: right;\">\n",
       "      <th></th>\n",
       "      <th>sample</th>\n",
       "      <th>acc_x</th>\n",
       "      <th>acc_y</th>\n",
       "      <th>acc_z</th>\n",
       "      <th>gyro_x</th>\n",
       "      <th>gyro_y</th>\n",
       "      <th>gyro_z</th>\n",
       "    </tr>\n",
       "  </thead>\n",
       "  <tbody>\n",
       "    <tr>\n",
       "      <th>0</th>\n",
       "      <td>0</td>\n",
       "      <td>0.121719</td>\n",
       "      <td>0.010302</td>\n",
       "      <td>0.244202</td>\n",
       "      <td>-0.000494</td>\n",
       "      <td>0.000596</td>\n",
       "      <td>-0.000204</td>\n",
       "    </tr>\n",
       "    <tr>\n",
       "      <th>1</th>\n",
       "      <td>1</td>\n",
       "      <td>0.373356</td>\n",
       "      <td>0.032810</td>\n",
       "      <td>0.748295</td>\n",
       "      <td>-0.002433</td>\n",
       "      <td>0.002838</td>\n",
       "      <td>-0.000907</td>\n",
       "    </tr>\n",
       "    <tr>\n",
       "      <th>2</th>\n",
       "      <td>2</td>\n",
       "      <td>0.494128</td>\n",
       "      <td>0.045663</td>\n",
       "      <td>0.981754</td>\n",
       "      <td>-0.005629</td>\n",
       "      <td>0.006274</td>\n",
       "      <td>-0.002099</td>\n",
       "    </tr>\n",
       "    <tr>\n",
       "      <th>3</th>\n",
       "      <td>3</td>\n",
       "      <td>0.466472</td>\n",
       "      <td>0.042344</td>\n",
       "      <td>0.910825</td>\n",
       "      <td>-0.008042</td>\n",
       "      <td>0.009228</td>\n",
       "      <td>-0.003633</td>\n",
       "    </tr>\n",
       "    <tr>\n",
       "      <th>4</th>\n",
       "      <td>4</td>\n",
       "      <td>0.447033</td>\n",
       "      <td>0.036067</td>\n",
       "      <td>0.871048</td>\n",
       "      <td>-0.007647</td>\n",
       "      <td>0.011283</td>\n",
       "      <td>-0.005347</td>\n",
       "    </tr>\n",
       "    <tr>\n",
       "      <th>...</th>\n",
       "      <td>...</td>\n",
       "      <td>...</td>\n",
       "      <td>...</td>\n",
       "      <td>...</td>\n",
       "      <td>...</td>\n",
       "      <td>...</td>\n",
       "      <td>...</td>\n",
       "    </tr>\n",
       "    <tr>\n",
       "      <th>19281</th>\n",
       "      <td>19281</td>\n",
       "      <td>-0.050501</td>\n",
       "      <td>0.365405</td>\n",
       "      <td>0.774209</td>\n",
       "      <td>0.038394</td>\n",
       "      <td>0.010327</td>\n",
       "      <td>0.284831</td>\n",
       "    </tr>\n",
       "    <tr>\n",
       "      <th>19282</th>\n",
       "      <td>19282</td>\n",
       "      <td>0.010018</td>\n",
       "      <td>0.377599</td>\n",
       "      <td>0.816622</td>\n",
       "      <td>0.043320</td>\n",
       "      <td>-0.051560</td>\n",
       "      <td>0.241058</td>\n",
       "    </tr>\n",
       "    <tr>\n",
       "      <th>19283</th>\n",
       "      <td>19283</td>\n",
       "      <td>0.044936</td>\n",
       "      <td>0.379518</td>\n",
       "      <td>0.895723</td>\n",
       "      <td>0.035167</td>\n",
       "      <td>-0.112921</td>\n",
       "      <td>0.183358</td>\n",
       "    </tr>\n",
       "    <tr>\n",
       "      <th>19284</th>\n",
       "      <td>19284</td>\n",
       "      <td>0.034395</td>\n",
       "      <td>0.363437</td>\n",
       "      <td>0.935820</td>\n",
       "      <td>0.019486</td>\n",
       "      <td>-0.160116</td>\n",
       "      <td>0.114156</td>\n",
       "    </tr>\n",
       "    <tr>\n",
       "      <th>19285</th>\n",
       "      <td>19285</td>\n",
       "      <td>0.003174</td>\n",
       "      <td>0.341699</td>\n",
       "      <td>0.914059</td>\n",
       "      <td>0.003422</td>\n",
       "      <td>-0.188128</td>\n",
       "      <td>0.044791</td>\n",
       "    </tr>\n",
       "  </tbody>\n",
       "</table>\n",
       "<p>19286 rows × 7 columns</p>\n",
       "</div>"
      ],
      "text/plain": [
       "       sample     acc_x     acc_y     acc_z    gyro_x    gyro_y    gyro_z\n",
       "0           0  0.121719  0.010302  0.244202 -0.000494  0.000596 -0.000204\n",
       "1           1  0.373356  0.032810  0.748295 -0.002433  0.002838 -0.000907\n",
       "2           2  0.494128  0.045663  0.981754 -0.005629  0.006274 -0.002099\n",
       "3           3  0.466472  0.042344  0.910825 -0.008042  0.009228 -0.003633\n",
       "4           4  0.447033  0.036067  0.871048 -0.007647  0.011283 -0.005347\n",
       "...       ...       ...       ...       ...       ...       ...       ...\n",
       "19281   19281 -0.050501  0.365405  0.774209  0.038394  0.010327  0.284831\n",
       "19282   19282  0.010018  0.377599  0.816622  0.043320 -0.051560  0.241058\n",
       "19283   19283  0.044936  0.379518  0.895723  0.035167 -0.112921  0.183358\n",
       "19284   19284  0.034395  0.363437  0.935820  0.019486 -0.160116  0.114156\n",
       "19285   19285  0.003174  0.341699  0.914059  0.003422 -0.188128  0.044791\n",
       "\n",
       "[19286 rows x 7 columns]"
      ]
     },
     "execution_count": 806,
     "metadata": {},
     "output_type": "execute_result"
    }
   ],
   "source": [
    "df"
   ]
  },
  {
   "cell_type": "markdown",
   "metadata": {},
   "source": [
    "## Create clock df"
   ]
  },
  {
   "cell_type": "code",
   "execution_count": 807,
   "metadata": {
    "ExecuteTime": {
     "end_time": "2020-05-31T17:15:53.194553Z",
     "start_time": "2020-05-31T17:15:53.185560Z"
    }
   },
   "outputs": [],
   "source": [
    "def create_block_df(df,window_size):\n",
    "    \n",
    "    df['flag'] = np.where(df.index % window_size == 0,1,0)\n",
    "    df[\"block\"] = df['flag'].cumsum()\n",
    "    \n",
    "    return df"
   ]
  },
  {
   "cell_type": "code",
   "execution_count": 808,
   "metadata": {
    "ExecuteTime": {
     "end_time": "2020-05-31T17:15:54.153005Z",
     "start_time": "2020-05-31T17:15:54.141011Z"
    }
   },
   "outputs": [],
   "source": [
    "df = create_block_df(df, 256)"
   ]
  },
  {
   "cell_type": "markdown",
   "metadata": {},
   "source": [
    "## Aggregate data for the features"
   ]
  },
  {
   "cell_type": "code",
   "execution_count": 809,
   "metadata": {
    "ExecuteTime": {
     "end_time": "2020-05-31T17:15:55.146884Z",
     "start_time": "2020-05-31T17:15:55.137890Z"
    }
   },
   "outputs": [],
   "source": [
    "def kurtosis_time(x):\n",
    "\n",
    "    return kurtosis(x, fisher=True)\n",
    "\n",
    "def rms_100(x):\n",
    "\n",
    "    return np.sqrt(np.mean(x**2)) \n",
    "\n",
    "def crest(x):\n",
    "    \n",
    "    return max(abs(x))/np.sqrt(np.mean(x**2))"
   ]
  },
  {
   "cell_type": "code",
   "execution_count": 810,
   "metadata": {
    "ExecuteTime": {
     "end_time": "2020-05-31T17:15:58.287290Z",
     "start_time": "2020-05-31T17:15:58.277293Z"
    }
   },
   "outputs": [],
   "source": [
    "def create_aggregated(block_df):\n",
    "    \n",
    "    signals = [\"acc_x\", \"acc_y\", \"acc_z\", \"gyro_x\", \"gyro_y\", \"gyro_z\"]\n",
    "    \n",
    "    samples = {\"sample\": [\"first\",'last']}\n",
    "    functions = {x: [\"sum\", \"mean\", \"mad\",\n",
    "                    \"median\", \"min\", \"max\", \n",
    "                    \"std\", \"var\", \"sem\", \n",
    "                    \"skew\", \"quantile\", \n",
    "                    kurtosis_time, rms_100, \n",
    "                    crest] for x in signals}\n",
    "    \n",
    "\n",
    "    samples.update(functions)\n",
    "    \n",
    "    agg_df = block_df.groupby(\"block\").agg(samples)\n",
    "    \n",
    "    return agg_df"
   ]
  },
  {
   "cell_type": "code",
   "execution_count": 811,
   "metadata": {
    "ExecuteTime": {
     "end_time": "2020-05-31T17:16:01.107688Z",
     "start_time": "2020-05-31T17:15:59.127806Z"
    }
   },
   "outputs": [],
   "source": [
    "agg_df = create_aggregated(df)"
   ]
  },
  {
   "cell_type": "code",
   "execution_count": 812,
   "metadata": {
    "ExecuteTime": {
     "end_time": "2020-05-31T17:16:01.807272Z",
     "start_time": "2020-05-31T17:16:01.790284Z"
    }
   },
   "outputs": [],
   "source": [
    "def do_fft(df):\n",
    "    \n",
    "    \"Creat a new df with the frequency spectrum of each blocks\"\n",
    "    \n",
    "    signals = [\"acc_x\",\"acc_y\",\"acc_z\",\"gyro_x\",\"gyro_y\",\"gyro_z\"]\n",
    "    #df.columns = ['index', 'id', 'experiment', 'activity'] + signals + [\"block\"]\n",
    "    \n",
    "    new_df = pd.DataFrame()\n",
    "    \n",
    "    for block in df.block.unique():\n",
    "        \n",
    "        fft_df = df[df[\"block\"] == block]\n",
    "        \n",
    "        list_signals = []\n",
    "        \n",
    "        for j in signals:\n",
    "            \n",
    "            freq, amp = signal.welch(fft_df[j], 50, nperseg=64)\n",
    "            \n",
    "            list_signals.append(amp)\n",
    "            \n",
    "        list_signals.append(np.full(len(freq), block))\n",
    "        \n",
    "        new_df = pd.concat([new_df, pd.DataFrame(np.array(list_signals).T,columns=[x+\"_FFT\" for x in signals]+[\"block\"])])\n",
    "        new_df.dropna(axis=1,inplace=True)\n",
    "        \n",
    "        \n",
    "    #new_df[\"freq\"] = np.tile(x,len(df.block.unique()))\n",
    "    new_df[\"block\"] = new_df[\"block\"].astype('int32')\n",
    "        \n",
    "    return new_df"
   ]
  },
  {
   "cell_type": "code",
   "execution_count": 813,
   "metadata": {
    "ExecuteTime": {
     "end_time": "2020-05-31T17:16:03.242466Z",
     "start_time": "2020-05-31T17:16:02.475888Z"
    }
   },
   "outputs": [],
   "source": [
    "fft_df = do_fft(df)"
   ]
  },
  {
   "cell_type": "code",
   "execution_count": 814,
   "metadata": {
    "ExecuteTime": {
     "end_time": "2020-05-31T17:16:03.889081Z",
     "start_time": "2020-05-31T17:16:03.861097Z"
    }
   },
   "outputs": [],
   "source": [
    "def peak_sum_all(x):\n",
    "    \n",
    "    peaks, _ = signal.find_peaks(x, height=0,)\n",
    "    \n",
    "    return sum(peaks)\n",
    "\n",
    "def peak_mean_12(x):\n",
    "    \n",
    "    peaks, hight = signal.find_peaks(x, height=0,)\n",
    "    hight[\"peak_heights\"][::-1].sort()\n",
    "    \n",
    "    if len( hight[\"peak_heights\"])>=12:\n",
    "    \n",
    "        return np.mean(hight[\"peak_heights\"][:12])\n",
    "\n",
    "def peak_mean_8(x):\n",
    "    \n",
    "    peaks, hight = signal.find_peaks(x, height=0,)\n",
    "    hight[\"peak_heights\"][::-1].sort()\n",
    "    \n",
    "    if len( hight[\"peak_heights\"])>=8:\n",
    "    \n",
    "        return np.mean(hight[\"peak_heights\"][:8])\n",
    "\n",
    "def peak_mean_6(x):\n",
    "    \n",
    "    peaks, hight = signal.find_peaks(x, height=0,)\n",
    "    hight[\"peak_heights\"][::-1].sort()\n",
    "    \n",
    "    if len( hight[\"peak_heights\"])>=6:\n",
    "    \n",
    "        return np.mean(hight[\"peak_heights\"][:6])\n",
    "\n",
    "def peak_mean_2(x):\n",
    "    \n",
    "    peaks, hight = signal.find_peaks(x, height=0,)\n",
    "    hight[\"peak_heights\"][::-1].sort()\n",
    "    \n",
    "    if len( hight[\"peak_heights\"])>=2:\n",
    "    \n",
    "        return np.mean(hight[\"peak_heights\"][:2])\n"
   ]
  },
  {
   "cell_type": "code",
   "execution_count": 815,
   "metadata": {
    "ExecuteTime": {
     "end_time": "2020-05-31T17:16:04.607671Z",
     "start_time": "2020-05-31T17:16:04.588682Z"
    }
   },
   "outputs": [],
   "source": [
    "def kurtosis_freq(x):\n",
    "\n",
    "    return kurtosis(x, fisher=True)\n",
    "\n",
    "def rms_10(x):\n",
    "    \n",
    "    y = x[:int(len(x)*0.1)]\n",
    "    \n",
    "    return np.sqrt(np.mean(y*2))\n",
    "def rms_20(x):\n",
    "    \n",
    "    y = x[:int(len(x)*0.20)]\n",
    "    \n",
    "    return np.sqrt(np.mean(y**2))\n",
    "\n",
    "def rms_50(x):\n",
    "    \n",
    "    y = x[:int(len(x)*0.50)]\n",
    "    \n",
    "    return np.sqrt(np.mean(y**2))\n",
    "\n",
    "def rms_80(x):\n",
    "    \n",
    "    y = x[:int(len(x)*0.80)]\n",
    "    \n",
    "    return np.sqrt(np.mean(y**2))\n",
    "\n",
    "def rms_100(x):\n",
    "\n",
    "    return np.sqrt(np.mean(x**2)) \n",
    "\n",
    "def quad_sum(x):\n",
    "    \n",
    "    return np.sum(x**2)"
   ]
  },
  {
   "cell_type": "code",
   "execution_count": 816,
   "metadata": {
    "ExecuteTime": {
     "end_time": "2020-05-31T17:16:05.362236Z",
     "start_time": "2020-05-31T17:16:05.350245Z"
    }
   },
   "outputs": [],
   "source": [
    "def create_aggregated_freq(fft_df):\n",
    "    \n",
    "    signals = ['acc_x_FFT', 'acc_y_FFT', 'acc_z_FFT', 'gyro_x_FFT', 'gyro_y_FFT','gyro_z_FFT']\n",
    "\n",
    "    fft_agg_df = fft_df.groupby(\"block\").agg({x: [\"sum\", \"mean\", \"mad\",\n",
    "                                                  \"median\", \"min\", \"max\", \n",
    "                                                  \"std\", \"var\", \"sem\", \n",
    "                                                  \"skew\", \"quantile\",\n",
    "                                                  peak_sum_all, kurtosis_freq, peak_mean_2,\n",
    "                                                  peak_mean_6, peak_mean_8, peak_mean_12,\n",
    "                                                  rms_10, rms_20, rms_50,\n",
    "                                                  rms_80, rms_100, quad_sum] for x in signals })\n",
    "    return fft_agg_df"
   ]
  },
  {
   "cell_type": "code",
   "execution_count": 817,
   "metadata": {
    "ExecuteTime": {
     "end_time": "2020-05-31T17:16:09.623796Z",
     "start_time": "2020-05-31T17:16:06.018868Z"
    }
   },
   "outputs": [],
   "source": [
    "fft_agg_df = create_aggregated_freq(fft_df)"
   ]
  },
  {
   "cell_type": "markdown",
   "metadata": {},
   "source": [
    "## Create data for classification"
   ]
  },
  {
   "cell_type": "code",
   "execution_count": 832,
   "metadata": {
    "ExecuteTime": {
     "end_time": "2020-05-31T17:16:38.561590Z",
     "start_time": "2020-05-31T17:16:38.554601Z"
    }
   },
   "outputs": [],
   "source": [
    "def create_clf_data(agg_df,fft_agg_df):\n",
    "    \n",
    "    features = agg_df.merge(fft_agg_df,on=\"block\")\n",
    "    clf_data = features.drop([('sample','first'),('sample','last')],axis=1)\n",
    "    \n",
    "    return clf_data"
   ]
  },
  {
   "cell_type": "code",
   "execution_count": 833,
   "metadata": {
    "ExecuteTime": {
     "end_time": "2020-05-31T17:16:39.407108Z",
     "start_time": "2020-05-31T17:16:39.365133Z"
    }
   },
   "outputs": [],
   "source": [
    "clf_data = create_clf_data(agg_df,fft_agg_df)"
   ]
  },
  {
   "cell_type": "code",
   "execution_count": 834,
   "metadata": {
    "ExecuteTime": {
     "end_time": "2020-05-31T17:16:40.089719Z",
     "start_time": "2020-05-31T17:16:40.074728Z"
    }
   },
   "outputs": [],
   "source": [
    "def preprocess_data(df):\n",
    "  \n",
    "    \n",
    "    features_to_drop = [('acc_x_FFT', 'peak_mean_6'),\n",
    "                         ('acc_x_FFT', 'peak_mean_8'),\n",
    "                         ('acc_x_FFT', 'peak_mean_12'),\n",
    "                         ('acc_y_FFT', 'peak_mean_6'),\n",
    "                         ('acc_y_FFT', 'peak_mean_8'),\n",
    "                         ('acc_y_FFT', 'peak_mean_12'),\n",
    "                         ('acc_z_FFT', 'peak_mean_6'),\n",
    "                         ('acc_z_FFT', 'peak_mean_8'),\n",
    "                         ('acc_z_FFT', 'peak_mean_12'),\n",
    "                         ('gyro_x_FFT', 'peak_mean_2'),\n",
    "                         ('gyro_x_FFT', 'peak_mean_6'),\n",
    "                         ('gyro_x_FFT', 'peak_mean_8'),\n",
    "                         ('gyro_x_FFT', 'peak_mean_12'),\n",
    "                         ('gyro_y_FFT', 'peak_mean_2'),\n",
    "                         ('gyro_y_FFT', 'peak_mean_6'),\n",
    "                         ('gyro_y_FFT', 'peak_mean_8'),\n",
    "                         ('gyro_y_FFT', 'peak_mean_12'),\n",
    "                         ('gyro_z_FFT', 'peak_mean_2'),\n",
    "                         ('gyro_z_FFT', 'peak_mean_6'),\n",
    "                         ('gyro_z_FFT', 'peak_mean_8'),\n",
    "                         ('gyro_z_FFT', 'peak_mean_12')]\n",
    "    \n",
    "    df.drop(features_to_drop,axis=1, inplace = True)\n",
    "    \n",
    "    pipe = Pipeline([(\"imputer\", SimpleImputer(fill_value = 0)),\n",
    "                         ('scaler', StandardScaler())])\n",
    "    \n",
    "    clf_data = pd.DataFrame(pipe.fit_transform(df),columns=df.columns) \n",
    "   \n",
    "    return clf_data\n",
    "    "
   ]
  },
  {
   "cell_type": "code",
   "execution_count": 835,
   "metadata": {
    "ExecuteTime": {
     "end_time": "2020-05-31T17:16:40.785322Z",
     "start_time": "2020-05-31T17:16:40.754338Z"
    }
   },
   "outputs": [],
   "source": [
    "clf_data = preprocess_data(clf_data)"
   ]
  },
  {
   "cell_type": "code",
   "execution_count": 836,
   "metadata": {
    "ExecuteTime": {
     "end_time": "2020-05-31T17:16:42.484946Z",
     "start_time": "2020-05-31T17:16:42.479949Z"
    }
   },
   "outputs": [],
   "source": [
    "def load_model(filename):\n",
    "    \n",
    "    # load the model from disk\n",
    "    model = joblib.load(filename)\n",
    "    return model"
   ]
  },
  {
   "cell_type": "code",
   "execution_count": 837,
   "metadata": {
    "ExecuteTime": {
     "end_time": "2020-05-31T17:16:44.145606Z",
     "start_time": "2020-05-31T17:16:44.026662Z"
    }
   },
   "outputs": [],
   "source": [
    "model = load_model(\"../models/har_model_v01.sav\")"
   ]
  },
  {
   "cell_type": "code",
   "execution_count": 838,
   "metadata": {
    "ExecuteTime": {
     "end_time": "2020-05-31T17:16:47.243851Z",
     "start_time": "2020-05-31T17:16:47.238862Z"
    }
   },
   "outputs": [],
   "source": [
    "def classify(df,model):\n",
    "    \n",
    "    labels = model.predict(df)\n",
    "    \n",
    "    return labels"
   ]
  },
  {
   "cell_type": "code",
   "execution_count": 839,
   "metadata": {
    "ExecuteTime": {
     "end_time": "2020-05-31T17:16:48.601747Z",
     "start_time": "2020-05-31T17:16:48.556775Z"
    }
   },
   "outputs": [],
   "source": [
    "labels = classify(clf_data,model)"
   ]
  },
  {
   "cell_type": "code",
   "execution_count": 840,
   "metadata": {
    "ExecuteTime": {
     "end_time": "2020-05-31T17:16:49.382303Z",
     "start_time": "2020-05-31T17:16:49.369308Z"
    }
   },
   "outputs": [
    {
     "data": {
      "text/plain": [
       "array([ 6.,  6.,  4.,  4.,  6.,  6.,  6.,  6.,  6.,  4.,  4.,  4.,  6.,\n",
       "        6.,  6.,  6.,  6.,  6.,  4.,  6.,  6.,  6.,  6.,  6.,  6.,  6.,\n",
       "        6.,  4.,  4.,  6.,  2.,  2.,  6.,  6.,  2.,  2.,  2.,  6.,  6.,\n",
       "        2.,  2.,  2.,  6.,  5.,  2.,  2.,  2.,  2.,  6.,  6.,  6.,  2.,\n",
       "        3.,  2.,  3.,  2.,  2.,  6.,  3.,  2.,  2.,  3.,  2.,  2.,  2.,\n",
       "        5.,  1.,  2.,  3.,  2.,  2.,  2.,  6.,  6., 11.,  6.])"
      ]
     },
     "execution_count": 840,
     "metadata": {},
     "output_type": "execute_result"
    }
   ],
   "source": [
    "labels"
   ]
  },
  {
   "cell_type": "code",
   "execution_count": 382,
   "metadata": {
    "ExecuteTime": {
     "end_time": "2020-05-31T14:43:08.533295Z",
     "start_time": "2020-05-31T14:43:08.519303Z"
    }
   },
   "outputs": [],
   "source": [
    "test = df.merge(labels, how='outer', left_on=\"block\", right_on=labels.index)"
   ]
  },
  {
   "cell_type": "code",
   "execution_count": 383,
   "metadata": {
    "ExecuteTime": {
     "end_time": "2020-05-31T14:43:09.857539Z",
     "start_time": "2020-05-31T14:43:09.848542Z"
    }
   },
   "outputs": [
    {
     "data": {
      "text/plain": [
       "array([12,  3,  2,  8,  9,  5,  6, 11,  4,  7,  1, 10])"
      ]
     },
     "execution_count": 383,
     "metadata": {},
     "output_type": "execute_result"
    }
   ],
   "source": [
    "test['labels'].unique()"
   ]
  },
  {
   "cell_type": "code",
   "execution_count": 713,
   "metadata": {
    "ExecuteTime": {
     "end_time": "2020-05-31T16:49:56.891984Z",
     "start_time": "2020-05-31T16:49:56.869997Z"
    }
   },
   "outputs": [
    {
     "data": {
      "text/html": [
       "<div>\n",
       "<style scoped>\n",
       "    .dataframe tbody tr th:only-of-type {\n",
       "        vertical-align: middle;\n",
       "    }\n",
       "\n",
       "    .dataframe tbody tr th {\n",
       "        vertical-align: top;\n",
       "    }\n",
       "\n",
       "    .dataframe thead th {\n",
       "        text-align: right;\n",
       "    }\n",
       "</style>\n",
       "<table border=\"1\" class=\"dataframe\">\n",
       "  <thead>\n",
       "    <tr style=\"text-align: right;\">\n",
       "      <th></th>\n",
       "      <th>labels</th>\n",
       "    </tr>\n",
       "  </thead>\n",
       "  <tbody>\n",
       "    <tr>\n",
       "      <th>1</th>\n",
       "      <td>6.0</td>\n",
       "    </tr>\n",
       "    <tr>\n",
       "      <th>2</th>\n",
       "      <td>4.0</td>\n",
       "    </tr>\n",
       "    <tr>\n",
       "      <th>3</th>\n",
       "      <td>6.0</td>\n",
       "    </tr>\n",
       "    <tr>\n",
       "      <th>4</th>\n",
       "      <td>4.0</td>\n",
       "    </tr>\n",
       "    <tr>\n",
       "      <th>5</th>\n",
       "      <td>4.0</td>\n",
       "    </tr>\n",
       "    <tr>\n",
       "      <th>...</th>\n",
       "      <td>...</td>\n",
       "    </tr>\n",
       "    <tr>\n",
       "      <th>77</th>\n",
       "      <td>6.0</td>\n",
       "    </tr>\n",
       "    <tr>\n",
       "      <th>78</th>\n",
       "      <td>4.0</td>\n",
       "    </tr>\n",
       "    <tr>\n",
       "      <th>79</th>\n",
       "      <td>4.0</td>\n",
       "    </tr>\n",
       "    <tr>\n",
       "      <th>80</th>\n",
       "      <td>6.0</td>\n",
       "    </tr>\n",
       "    <tr>\n",
       "      <th>81</th>\n",
       "      <td>6.0</td>\n",
       "    </tr>\n",
       "  </tbody>\n",
       "</table>\n",
       "<p>81 rows × 1 columns</p>\n",
       "</div>"
      ],
      "text/plain": [
       "    labels\n",
       "1      6.0\n",
       "2      4.0\n",
       "3      6.0\n",
       "4      4.0\n",
       "5      4.0\n",
       "..     ...\n",
       "77     6.0\n",
       "78     4.0\n",
       "79     4.0\n",
       "80     6.0\n",
       "81     6.0\n",
       "\n",
       "[81 rows x 1 columns]"
      ]
     },
     "execution_count": 713,
     "metadata": {},
     "output_type": "execute_result"
    }
   ],
   "source": [
    "pd.DataFrame(labels,index=[x for x in range(1,len(labels)+1)], columns=[\"labels\"])"
   ]
  },
  {
   "cell_type": "code",
   "execution_count": 841,
   "metadata": {
    "ExecuteTime": {
     "end_time": "2020-05-31T17:16:58.896185Z",
     "start_time": "2020-05-31T17:16:58.888191Z"
    }
   },
   "outputs": [],
   "source": [
    "def label_original(df, labels, model):\n",
    "    \n",
    "    labels = pd.DataFrame(labels,index=[x for x in range(1,len(labels)+1)], columns=[\"labels\"])\n",
    "    labeled_df = df.merge(labels, how='outer', left_on=\"block\", right_on=labels.index)\n",
    "    \n",
    "    return labeled_df"
   ]
  },
  {
   "cell_type": "code",
   "execution_count": 842,
   "metadata": {
    "ExecuteTime": {
     "end_time": "2020-05-31T17:16:59.685738Z",
     "start_time": "2020-05-31T17:16:59.667746Z"
    },
    "scrolled": true
   },
   "outputs": [],
   "source": [
    "labeled_df = label_original(df,labels,model)"
   ]
  },
  {
   "cell_type": "code",
   "execution_count": 843,
   "metadata": {
    "ExecuteTime": {
     "end_time": "2020-05-31T17:17:00.952510Z",
     "start_time": "2020-05-31T17:17:00.903538Z"
    }
   },
   "outputs": [
    {
     "data": {
      "text/html": [
       "<div>\n",
       "<style scoped>\n",
       "    .dataframe tbody tr th:only-of-type {\n",
       "        vertical-align: middle;\n",
       "    }\n",
       "\n",
       "    .dataframe tbody tr th {\n",
       "        vertical-align: top;\n",
       "    }\n",
       "\n",
       "    .dataframe thead th {\n",
       "        text-align: right;\n",
       "    }\n",
       "</style>\n",
       "<table border=\"1\" class=\"dataframe\">\n",
       "  <thead>\n",
       "    <tr style=\"text-align: right;\">\n",
       "      <th></th>\n",
       "      <th>sample</th>\n",
       "      <th>acc_x</th>\n",
       "      <th>acc_y</th>\n",
       "      <th>acc_z</th>\n",
       "      <th>gyro_x</th>\n",
       "      <th>gyro_y</th>\n",
       "      <th>gyro_z</th>\n",
       "      <th>flag</th>\n",
       "      <th>block</th>\n",
       "      <th>labels</th>\n",
       "    </tr>\n",
       "  </thead>\n",
       "  <tbody>\n",
       "    <tr>\n",
       "      <th>0</th>\n",
       "      <td>0</td>\n",
       "      <td>0.121719</td>\n",
       "      <td>0.010302</td>\n",
       "      <td>0.244202</td>\n",
       "      <td>-0.000494</td>\n",
       "      <td>0.000596</td>\n",
       "      <td>-0.000204</td>\n",
       "      <td>1</td>\n",
       "      <td>1</td>\n",
       "      <td>6.0</td>\n",
       "    </tr>\n",
       "    <tr>\n",
       "      <th>1</th>\n",
       "      <td>1</td>\n",
       "      <td>0.373356</td>\n",
       "      <td>0.032810</td>\n",
       "      <td>0.748295</td>\n",
       "      <td>-0.002433</td>\n",
       "      <td>0.002838</td>\n",
       "      <td>-0.000907</td>\n",
       "      <td>0</td>\n",
       "      <td>1</td>\n",
       "      <td>6.0</td>\n",
       "    </tr>\n",
       "    <tr>\n",
       "      <th>2</th>\n",
       "      <td>2</td>\n",
       "      <td>0.494128</td>\n",
       "      <td>0.045663</td>\n",
       "      <td>0.981754</td>\n",
       "      <td>-0.005629</td>\n",
       "      <td>0.006274</td>\n",
       "      <td>-0.002099</td>\n",
       "      <td>0</td>\n",
       "      <td>1</td>\n",
       "      <td>6.0</td>\n",
       "    </tr>\n",
       "    <tr>\n",
       "      <th>3</th>\n",
       "      <td>3</td>\n",
       "      <td>0.466472</td>\n",
       "      <td>0.042344</td>\n",
       "      <td>0.910825</td>\n",
       "      <td>-0.008042</td>\n",
       "      <td>0.009228</td>\n",
       "      <td>-0.003633</td>\n",
       "      <td>0</td>\n",
       "      <td>1</td>\n",
       "      <td>6.0</td>\n",
       "    </tr>\n",
       "    <tr>\n",
       "      <th>4</th>\n",
       "      <td>4</td>\n",
       "      <td>0.447033</td>\n",
       "      <td>0.036067</td>\n",
       "      <td>0.871048</td>\n",
       "      <td>-0.007647</td>\n",
       "      <td>0.011283</td>\n",
       "      <td>-0.005347</td>\n",
       "      <td>0</td>\n",
       "      <td>1</td>\n",
       "      <td>6.0</td>\n",
       "    </tr>\n",
       "    <tr>\n",
       "      <th>...</th>\n",
       "      <td>...</td>\n",
       "      <td>...</td>\n",
       "      <td>...</td>\n",
       "      <td>...</td>\n",
       "      <td>...</td>\n",
       "      <td>...</td>\n",
       "      <td>...</td>\n",
       "      <td>...</td>\n",
       "      <td>...</td>\n",
       "      <td>...</td>\n",
       "    </tr>\n",
       "    <tr>\n",
       "      <th>19281</th>\n",
       "      <td>19281</td>\n",
       "      <td>-0.050501</td>\n",
       "      <td>0.365405</td>\n",
       "      <td>0.774209</td>\n",
       "      <td>0.038394</td>\n",
       "      <td>0.010327</td>\n",
       "      <td>0.284831</td>\n",
       "      <td>0</td>\n",
       "      <td>76</td>\n",
       "      <td>6.0</td>\n",
       "    </tr>\n",
       "    <tr>\n",
       "      <th>19282</th>\n",
       "      <td>19282</td>\n",
       "      <td>0.010018</td>\n",
       "      <td>0.377599</td>\n",
       "      <td>0.816622</td>\n",
       "      <td>0.043320</td>\n",
       "      <td>-0.051560</td>\n",
       "      <td>0.241058</td>\n",
       "      <td>0</td>\n",
       "      <td>76</td>\n",
       "      <td>6.0</td>\n",
       "    </tr>\n",
       "    <tr>\n",
       "      <th>19283</th>\n",
       "      <td>19283</td>\n",
       "      <td>0.044936</td>\n",
       "      <td>0.379518</td>\n",
       "      <td>0.895723</td>\n",
       "      <td>0.035167</td>\n",
       "      <td>-0.112921</td>\n",
       "      <td>0.183358</td>\n",
       "      <td>0</td>\n",
       "      <td>76</td>\n",
       "      <td>6.0</td>\n",
       "    </tr>\n",
       "    <tr>\n",
       "      <th>19284</th>\n",
       "      <td>19284</td>\n",
       "      <td>0.034395</td>\n",
       "      <td>0.363437</td>\n",
       "      <td>0.935820</td>\n",
       "      <td>0.019486</td>\n",
       "      <td>-0.160116</td>\n",
       "      <td>0.114156</td>\n",
       "      <td>0</td>\n",
       "      <td>76</td>\n",
       "      <td>6.0</td>\n",
       "    </tr>\n",
       "    <tr>\n",
       "      <th>19285</th>\n",
       "      <td>19285</td>\n",
       "      <td>0.003174</td>\n",
       "      <td>0.341699</td>\n",
       "      <td>0.914059</td>\n",
       "      <td>0.003422</td>\n",
       "      <td>-0.188128</td>\n",
       "      <td>0.044791</td>\n",
       "      <td>0</td>\n",
       "      <td>76</td>\n",
       "      <td>6.0</td>\n",
       "    </tr>\n",
       "  </tbody>\n",
       "</table>\n",
       "<p>19286 rows × 10 columns</p>\n",
       "</div>"
      ],
      "text/plain": [
       "       sample     acc_x     acc_y     acc_z    gyro_x    gyro_y    gyro_z  \\\n",
       "0           0  0.121719  0.010302  0.244202 -0.000494  0.000596 -0.000204   \n",
       "1           1  0.373356  0.032810  0.748295 -0.002433  0.002838 -0.000907   \n",
       "2           2  0.494128  0.045663  0.981754 -0.005629  0.006274 -0.002099   \n",
       "3           3  0.466472  0.042344  0.910825 -0.008042  0.009228 -0.003633   \n",
       "4           4  0.447033  0.036067  0.871048 -0.007647  0.011283 -0.005347   \n",
       "...       ...       ...       ...       ...       ...       ...       ...   \n",
       "19281   19281 -0.050501  0.365405  0.774209  0.038394  0.010327  0.284831   \n",
       "19282   19282  0.010018  0.377599  0.816622  0.043320 -0.051560  0.241058   \n",
       "19283   19283  0.044936  0.379518  0.895723  0.035167 -0.112921  0.183358   \n",
       "19284   19284  0.034395  0.363437  0.935820  0.019486 -0.160116  0.114156   \n",
       "19285   19285  0.003174  0.341699  0.914059  0.003422 -0.188128  0.044791   \n",
       "\n",
       "       flag  block  labels  \n",
       "0         1      1     6.0  \n",
       "1         0      1     6.0  \n",
       "2         0      1     6.0  \n",
       "3         0      1     6.0  \n",
       "4         0      1     6.0  \n",
       "...     ...    ...     ...  \n",
       "19281     0     76     6.0  \n",
       "19282     0     76     6.0  \n",
       "19283     0     76     6.0  \n",
       "19284     0     76     6.0  \n",
       "19285     0     76     6.0  \n",
       "\n",
       "[19286 rows x 10 columns]"
      ]
     },
     "execution_count": 843,
     "metadata": {},
     "output_type": "execute_result"
    }
   ],
   "source": [
    "labeled_df"
   ]
  },
  {
   "cell_type": "code",
   "execution_count": 577,
   "metadata": {
    "ExecuteTime": {
     "end_time": "2020-05-31T15:43:50.242803Z",
     "start_time": "2020-05-31T15:43:50.236803Z"
    }
   },
   "outputs": [],
   "source": [
    "c = Counter(labels[\"labels\"])"
   ]
  },
  {
   "cell_type": "code",
   "execution_count": 592,
   "metadata": {
    "ExecuteTime": {
     "end_time": "2020-05-31T15:51:11.303333Z",
     "start_time": "2020-05-31T15:51:11.297336Z"
    }
   },
   "outputs": [
    {
     "data": {
      "text/plain": [
       "5"
      ]
     },
     "execution_count": 592,
     "metadata": {},
     "output_type": "execute_result"
    }
   ],
   "source": [
    "c.most_common()[0][0]"
   ]
  },
  {
   "cell_type": "code",
   "execution_count": 753,
   "metadata": {
    "ExecuteTime": {
     "end_time": "2020-05-31T16:59:29.950407Z",
     "start_time": "2020-05-31T16:59:29.942411Z"
    }
   },
   "outputs": [
    {
     "data": {
      "text/plain": [
       "array([6., 4., 6., 4., 4., 6., 6., 6., 6., 6., 6., 4., 6., 6., 6., 6., 6.,\n",
       "       6., 6., 6., 6., 6., 6., 6., 6., 6., 6., 6., 4., 2., 2., 2., 6., 2.,\n",
       "       2., 2., 6., 6., 2., 2., 2., 6., 2., 2., 2., 1., 5., 2., 6., 6., 6.,\n",
       "       3., 3., 3., 6., 2., 2., 6., 2., 2., 3., 2., 2., 2., 2., 2., 1., 1.,\n",
       "       2., 2., 6., 4., 6., 2., 6., 4., 6., 4., 4., 6., 6.])"
      ]
     },
     "execution_count": 753,
     "metadata": {},
     "output_type": "execute_result"
    }
   ],
   "source": [
    "labels"
   ]
  },
  {
   "cell_type": "code",
   "execution_count": 844,
   "metadata": {
    "ExecuteTime": {
     "end_time": "2020-05-31T17:17:04.518093Z",
     "start_time": "2020-05-31T17:17:04.512093Z"
    }
   },
   "outputs": [],
   "source": [
    "def most_common_label(x):\n",
    "    c = Counter(x)\n",
    "    return c.most_common(1)[0][0]"
   ]
  },
  {
   "cell_type": "code",
   "execution_count": 848,
   "metadata": {
    "ExecuteTime": {
     "end_time": "2020-05-31T17:17:24.378534Z",
     "start_time": "2020-05-31T17:17:24.367540Z"
    }
   },
   "outputs": [],
   "source": [
    "def label_agg_df(agg_df,labels):\n",
    "    \n",
    "    labels = pd.DataFrame(labels,index=[x for x in range(1,len(labels)+1)], columns=[\"labels\"])\n",
    "    labeled_agg_df = agg_df[\"sample\"].merge(labels, how='outer', left_on=\"block\", right_on=labels.index)\n",
    "    labeled_agg_df[\"smooth_block\"] = labeled_agg_df[\"labels\"].rolling(5,center=True).apply(most_common_label)\n",
    "    \n",
    "    return labeled_agg_df"
   ]
  },
  {
   "cell_type": "code",
   "execution_count": 846,
   "metadata": {
    "ExecuteTime": {
     "end_time": "2020-05-31T17:17:07.068246Z",
     "start_time": "2020-05-31T17:17:07.030275Z"
    }
   },
   "outputs": [],
   "source": [
    "labeled_agg_df = label_agg_df(agg_df,labels)"
   ]
  },
  {
   "cell_type": "code",
   "execution_count": 625,
   "metadata": {
    "ExecuteTime": {
     "end_time": "2020-05-31T15:56:01.431261Z",
     "start_time": "2020-05-31T15:56:01.379295Z"
    }
   },
   "outputs": [
    {
     "data": {
      "text/html": [
       "<div>\n",
       "<style scoped>\n",
       "    .dataframe tbody tr th:only-of-type {\n",
       "        vertical-align: middle;\n",
       "    }\n",
       "\n",
       "    .dataframe tbody tr th {\n",
       "        vertical-align: top;\n",
       "    }\n",
       "\n",
       "    .dataframe thead th {\n",
       "        text-align: right;\n",
       "    }\n",
       "</style>\n",
       "<table border=\"1\" class=\"dataframe\">\n",
       "  <thead>\n",
       "    <tr style=\"text-align: right;\">\n",
       "      <th></th>\n",
       "      <th>block</th>\n",
       "      <th>first</th>\n",
       "      <th>last</th>\n",
       "      <th>labels</th>\n",
       "      <th>smooth</th>\n",
       "    </tr>\n",
       "  </thead>\n",
       "  <tbody>\n",
       "    <tr>\n",
       "      <th>0</th>\n",
       "      <td>1</td>\n",
       "      <td>0.0</td>\n",
       "      <td>255.0</td>\n",
       "      <td>12</td>\n",
       "      <td>NaN</td>\n",
       "    </tr>\n",
       "    <tr>\n",
       "      <th>1</th>\n",
       "      <td>2</td>\n",
       "      <td>256.0</td>\n",
       "      <td>511.0</td>\n",
       "      <td>3</td>\n",
       "      <td>NaN</td>\n",
       "    </tr>\n",
       "    <tr>\n",
       "      <th>2</th>\n",
       "      <td>3</td>\n",
       "      <td>512.0</td>\n",
       "      <td>767.0</td>\n",
       "      <td>2</td>\n",
       "      <td>3.0</td>\n",
       "    </tr>\n",
       "    <tr>\n",
       "      <th>3</th>\n",
       "      <td>4</td>\n",
       "      <td>768.0</td>\n",
       "      <td>856.0</td>\n",
       "      <td>3</td>\n",
       "      <td>3.0</td>\n",
       "    </tr>\n",
       "    <tr>\n",
       "      <th>4</th>\n",
       "      <td>5</td>\n",
       "      <td>NaN</td>\n",
       "      <td>NaN</td>\n",
       "      <td>8</td>\n",
       "      <td>2.0</td>\n",
       "    </tr>\n",
       "    <tr>\n",
       "      <th>5</th>\n",
       "      <td>6</td>\n",
       "      <td>NaN</td>\n",
       "      <td>NaN</td>\n",
       "      <td>2</td>\n",
       "      <td>8.0</td>\n",
       "    </tr>\n",
       "    <tr>\n",
       "      <th>6</th>\n",
       "      <td>7</td>\n",
       "      <td>NaN</td>\n",
       "      <td>NaN</td>\n",
       "      <td>2</td>\n",
       "      <td>8.0</td>\n",
       "    </tr>\n",
       "    <tr>\n",
       "      <th>7</th>\n",
       "      <td>8</td>\n",
       "      <td>NaN</td>\n",
       "      <td>NaN</td>\n",
       "      <td>8</td>\n",
       "      <td>2.0</td>\n",
       "    </tr>\n",
       "    <tr>\n",
       "      <th>8</th>\n",
       "      <td>9</td>\n",
       "      <td>NaN</td>\n",
       "      <td>NaN</td>\n",
       "      <td>9</td>\n",
       "      <td>8.0</td>\n",
       "    </tr>\n",
       "    <tr>\n",
       "      <th>9</th>\n",
       "      <td>10</td>\n",
       "      <td>NaN</td>\n",
       "      <td>NaN</td>\n",
       "      <td>8</td>\n",
       "      <td>8.0</td>\n",
       "    </tr>\n",
       "    <tr>\n",
       "      <th>10</th>\n",
       "      <td>11</td>\n",
       "      <td>NaN</td>\n",
       "      <td>NaN</td>\n",
       "      <td>5</td>\n",
       "      <td>9.0</td>\n",
       "    </tr>\n",
       "    <tr>\n",
       "      <th>11</th>\n",
       "      <td>12</td>\n",
       "      <td>NaN</td>\n",
       "      <td>NaN</td>\n",
       "      <td>6</td>\n",
       "      <td>8.0</td>\n",
       "    </tr>\n",
       "    <tr>\n",
       "      <th>12</th>\n",
       "      <td>13</td>\n",
       "      <td>NaN</td>\n",
       "      <td>NaN</td>\n",
       "      <td>11</td>\n",
       "      <td>5.0</td>\n",
       "    </tr>\n",
       "    <tr>\n",
       "      <th>13</th>\n",
       "      <td>14</td>\n",
       "      <td>NaN</td>\n",
       "      <td>NaN</td>\n",
       "      <td>12</td>\n",
       "      <td>6.0</td>\n",
       "    </tr>\n",
       "    <tr>\n",
       "      <th>14</th>\n",
       "      <td>15</td>\n",
       "      <td>NaN</td>\n",
       "      <td>NaN</td>\n",
       "      <td>4</td>\n",
       "      <td>11.0</td>\n",
       "    </tr>\n",
       "    <tr>\n",
       "      <th>15</th>\n",
       "      <td>16</td>\n",
       "      <td>NaN</td>\n",
       "      <td>NaN</td>\n",
       "      <td>5</td>\n",
       "      <td>12.0</td>\n",
       "    </tr>\n",
       "    <tr>\n",
       "      <th>16</th>\n",
       "      <td>17</td>\n",
       "      <td>NaN</td>\n",
       "      <td>NaN</td>\n",
       "      <td>3</td>\n",
       "      <td>4.0</td>\n",
       "    </tr>\n",
       "    <tr>\n",
       "      <th>17</th>\n",
       "      <td>18</td>\n",
       "      <td>NaN</td>\n",
       "      <td>NaN</td>\n",
       "      <td>6</td>\n",
       "      <td>6.0</td>\n",
       "    </tr>\n",
       "    <tr>\n",
       "      <th>18</th>\n",
       "      <td>19</td>\n",
       "      <td>NaN</td>\n",
       "      <td>NaN</td>\n",
       "      <td>11</td>\n",
       "      <td>6.0</td>\n",
       "    </tr>\n",
       "    <tr>\n",
       "      <th>19</th>\n",
       "      <td>20</td>\n",
       "      <td>NaN</td>\n",
       "      <td>NaN</td>\n",
       "      <td>6</td>\n",
       "      <td>6.0</td>\n",
       "    </tr>\n",
       "  </tbody>\n",
       "</table>\n",
       "</div>"
      ],
      "text/plain": [
       "    block  first   last  labels  smooth\n",
       "0       1    0.0  255.0      12     NaN\n",
       "1       2  256.0  511.0       3     NaN\n",
       "2       3  512.0  767.0       2     3.0\n",
       "3       4  768.0  856.0       3     3.0\n",
       "4       5    NaN    NaN       8     2.0\n",
       "5       6    NaN    NaN       2     8.0\n",
       "6       7    NaN    NaN       2     8.0\n",
       "7       8    NaN    NaN       8     2.0\n",
       "8       9    NaN    NaN       9     8.0\n",
       "9      10    NaN    NaN       8     8.0\n",
       "10     11    NaN    NaN       5     9.0\n",
       "11     12    NaN    NaN       6     8.0\n",
       "12     13    NaN    NaN      11     5.0\n",
       "13     14    NaN    NaN      12     6.0\n",
       "14     15    NaN    NaN       4    11.0\n",
       "15     16    NaN    NaN       5    12.0\n",
       "16     17    NaN    NaN       3     4.0\n",
       "17     18    NaN    NaN       6     6.0\n",
       "18     19    NaN    NaN      11     6.0\n",
       "19     20    NaN    NaN       6     6.0"
      ]
     },
     "execution_count": 625,
     "metadata": {},
     "output_type": "execute_result"
    }
   ],
   "source": [
    "_a[\"smooth\"] = _a[\"labels\"].rolling(5,center=True).apply(most_common_label)\n",
    "_a.iloc[:20]"
   ]
  },
  {
   "cell_type": "code",
   "execution_count": 849,
   "metadata": {
    "ExecuteTime": {
     "end_time": "2020-05-31T17:17:36.029390Z",
     "start_time": "2020-05-31T17:17:35.992410Z"
    }
   },
   "outputs": [],
   "source": [
    "labeled_agg_df = label_agg_df(agg_df,labels)"
   ]
  },
  {
   "cell_type": "code",
   "execution_count": 632,
   "metadata": {
    "ExecuteTime": {
     "end_time": "2020-05-31T15:57:42.412460Z",
     "start_time": "2020-05-31T15:57:42.399468Z"
    }
   },
   "outputs": [],
   "source": [
    "_a = agg_df[\"sample\"].merge(labels, how='outer', left_on=\"block\", right_on=labels.index)"
   ]
  },
  {
   "cell_type": "code",
   "execution_count": 633,
   "metadata": {
    "ExecuteTime": {
     "end_time": "2020-05-31T15:57:43.126051Z",
     "start_time": "2020-05-31T15:57:43.098069Z"
    }
   },
   "outputs": [
    {
     "data": {
      "text/html": [
       "<div>\n",
       "<style scoped>\n",
       "    .dataframe tbody tr th:only-of-type {\n",
       "        vertical-align: middle;\n",
       "    }\n",
       "\n",
       "    .dataframe tbody tr th {\n",
       "        vertical-align: top;\n",
       "    }\n",
       "\n",
       "    .dataframe thead th {\n",
       "        text-align: right;\n",
       "    }\n",
       "</style>\n",
       "<table border=\"1\" class=\"dataframe\">\n",
       "  <thead>\n",
       "    <tr style=\"text-align: right;\">\n",
       "      <th></th>\n",
       "      <th>block</th>\n",
       "      <th>first</th>\n",
       "      <th>last</th>\n",
       "      <th>labels</th>\n",
       "    </tr>\n",
       "  </thead>\n",
       "  <tbody>\n",
       "    <tr>\n",
       "      <th>0</th>\n",
       "      <td>1</td>\n",
       "      <td>0.0</td>\n",
       "      <td>255.0</td>\n",
       "      <td>12</td>\n",
       "    </tr>\n",
       "    <tr>\n",
       "      <th>1</th>\n",
       "      <td>2</td>\n",
       "      <td>256.0</td>\n",
       "      <td>511.0</td>\n",
       "      <td>3</td>\n",
       "    </tr>\n",
       "    <tr>\n",
       "      <th>2</th>\n",
       "      <td>3</td>\n",
       "      <td>512.0</td>\n",
       "      <td>767.0</td>\n",
       "      <td>2</td>\n",
       "    </tr>\n",
       "    <tr>\n",
       "      <th>3</th>\n",
       "      <td>4</td>\n",
       "      <td>768.0</td>\n",
       "      <td>856.0</td>\n",
       "      <td>3</td>\n",
       "    </tr>\n",
       "    <tr>\n",
       "      <th>4</th>\n",
       "      <td>5</td>\n",
       "      <td>NaN</td>\n",
       "      <td>NaN</td>\n",
       "      <td>8</td>\n",
       "    </tr>\n",
       "    <tr>\n",
       "      <th>...</th>\n",
       "      <td>...</td>\n",
       "      <td>...</td>\n",
       "      <td>...</td>\n",
       "      <td>...</td>\n",
       "    </tr>\n",
       "    <tr>\n",
       "      <th>76</th>\n",
       "      <td>77</td>\n",
       "      <td>NaN</td>\n",
       "      <td>NaN</td>\n",
       "      <td>10</td>\n",
       "    </tr>\n",
       "    <tr>\n",
       "      <th>77</th>\n",
       "      <td>78</td>\n",
       "      <td>NaN</td>\n",
       "      <td>NaN</td>\n",
       "      <td>4</td>\n",
       "    </tr>\n",
       "    <tr>\n",
       "      <th>78</th>\n",
       "      <td>79</td>\n",
       "      <td>NaN</td>\n",
       "      <td>NaN</td>\n",
       "      <td>4</td>\n",
       "    </tr>\n",
       "    <tr>\n",
       "      <th>79</th>\n",
       "      <td>80</td>\n",
       "      <td>NaN</td>\n",
       "      <td>NaN</td>\n",
       "      <td>1</td>\n",
       "    </tr>\n",
       "    <tr>\n",
       "      <th>80</th>\n",
       "      <td>81</td>\n",
       "      <td>NaN</td>\n",
       "      <td>NaN</td>\n",
       "      <td>2</td>\n",
       "    </tr>\n",
       "  </tbody>\n",
       "</table>\n",
       "<p>81 rows × 4 columns</p>\n",
       "</div>"
      ],
      "text/plain": [
       "    block  first   last  labels\n",
       "0       1    0.0  255.0      12\n",
       "1       2  256.0  511.0       3\n",
       "2       3  512.0  767.0       2\n",
       "3       4  768.0  856.0       3\n",
       "4       5    NaN    NaN       8\n",
       "..    ...    ...    ...     ...\n",
       "76     77    NaN    NaN      10\n",
       "77     78    NaN    NaN       4\n",
       "78     79    NaN    NaN       4\n",
       "79     80    NaN    NaN       1\n",
       "80     81    NaN    NaN       2\n",
       "\n",
       "[81 rows x 4 columns]"
      ]
     },
     "execution_count": 633,
     "metadata": {},
     "output_type": "execute_result"
    }
   ],
   "source": [
    "_a"
   ]
  },
  {
   "cell_type": "code",
   "execution_count": 858,
   "metadata": {
    "ExecuteTime": {
     "end_time": "2020-05-31T17:19:18.623998Z",
     "start_time": "2020-05-31T17:19:18.601014Z"
    }
   },
   "outputs": [],
   "source": [
    "def plot_activity(labeled_df, labeled_agg_df):\n",
    "    \n",
    "    plt.figure()\n",
    "    ax=plt.subplot(1, 1, 1)\n",
    "    ax.plot(np.linspace(0,len(labeled_df[\"acc_x\"]),len(labeled_df[\"acc_x\"])),\n",
    "                        labeled_df[\"acc_x\"], c=\"#003366\")\n",
    "    colors = {1:'blue',2:\"orange\",3:'green', 4:'red', 5:'purple', 6:'brown',\n",
    "              7:'pink',8: 'gray', 9:'olive', 10:'cyan', 11:'limegreen',12:'yellow'}\n",
    "    \n",
    "    activity ={1: 'WALKING',\n",
    "                2: 'WALKING_UPSTAIRS',\n",
    "                3: 'WALKING_DOWNSTAIRS',\n",
    "                4: 'SITTING',\n",
    "                5: 'STANDING',\n",
    "                6: 'LAYING',\n",
    "                7: 'STAND_TO_SIT',\n",
    "                8: 'SIT_TO_STAND',\n",
    "                9: 'SIT_TO_LIE',\n",
    "                10: 'LIE_TO_SIT',\n",
    "                11: 'STAND_TO_LIE',\n",
    "                12: 'LIE_TO_STAND'}\n",
    "\n",
    "    for index,row in labeled_agg_df.iterrows():\n",
    "\n",
    "        start = row['first']\n",
    "        end = row[\"last\"]\n",
    "        c = colors[row['labels']]\n",
    "\n",
    "        rect = plt.Rectangle((start,labeled_df[\"acc_x\"].min()), \n",
    "                             (end-start),\n",
    "                             labeled_df[\"acc_x\"].max()-labeled_df[\"acc_x\"].min(),\n",
    "                             color = c, alpha = 0.4)\n",
    "        ax.add_patch(rect)\n",
    "\n",
    "    custom_lines = []\n",
    "\n",
    "    for c in colors:\n",
    "\n",
    "        custom_lines.append(Line2D([0], [0], color=colors[c], lw=4, alpha= 0.7))\n",
    "\n",
    "    ax.legend(custom_lines, [activity[x] for x in labeled_agg_df[\"labels\"].unique()],\n",
    "             loc='upper center', bbox_to_anchor=(0.5, -0.05),\n",
    "              fancybox=True, shadow=True, ncol=5)\n",
    "    \n",
    "    ax.set_xlabel(\"time $[s]$\")\n",
    "    ax.set_ylabel(\"Amplitude\")\n",
    "    ax.grid()"
   ]
  },
  {
   "cell_type": "code",
   "execution_count": 859,
   "metadata": {
    "ExecuteTime": {
     "end_time": "2020-05-31T17:19:19.449525Z",
     "start_time": "2020-05-31T17:19:19.437533Z"
    }
   },
   "outputs": [
    {
     "data": {
      "text/plain": [
       "array([ 6.,  6.,  4.,  4.,  6.,  6.,  6.,  6.,  6.,  4.,  4.,  4.,  6.,\n",
       "        6.,  6.,  6.,  6.,  6.,  4.,  6.,  6.,  6.,  6.,  6.,  6.,  6.,\n",
       "        6.,  4.,  4.,  6.,  2.,  2.,  6.,  6.,  2.,  2.,  2.,  6.,  6.,\n",
       "        2.,  2.,  2.,  6.,  5.,  2.,  2.,  2.,  2.,  6.,  6.,  6.,  2.,\n",
       "        3.,  2.,  3.,  2.,  2.,  6.,  3.,  2.,  2.,  3.,  2.,  2.,  2.,\n",
       "        5.,  1.,  2.,  3.,  2.,  2.,  2.,  6.,  6., 11.,  6.])"
      ]
     },
     "execution_count": 859,
     "metadata": {},
     "output_type": "execute_result"
    }
   ],
   "source": [
    "labels"
   ]
  },
  {
   "cell_type": "code",
   "execution_count": 860,
   "metadata": {
    "ExecuteTime": {
     "end_time": "2020-05-31T17:19:21.048616Z",
     "start_time": "2020-05-31T17:19:20.127139Z"
    }
   },
   "outputs": [
    {
     "data": {
      "image/png": "[encoded data removed]",
      "text/plain": [
       "<Figure size 1152x864 with 1 Axes>"
      ]
     },
     "metadata": {
      "needs_background": "light"
     },
     "output_type": "display_data"
    }
   ],
   "source": [
    "plot_activity(labeled_df,labeled_agg_df)"
   ]
  },
  {
   "cell_type": "code",
   "execution_count": 788,
   "metadata": {
    "ExecuteTime": {
     "end_time": "2020-05-31T17:12:07.632800Z",
     "start_time": "2020-05-31T17:12:07.583811Z"
    }
   },
   "outputs": [
    {
     "data": {
      "text/html": [
       "<div>\n",
       "<style scoped>\n",
       "    .dataframe tbody tr th:only-of-type {\n",
       "        vertical-align: middle;\n",
       "    }\n",
       "\n",
       "    .dataframe tbody tr th {\n",
       "        vertical-align: top;\n",
       "    }\n",
       "\n",
       "    .dataframe thead th {\n",
       "        text-align: right;\n",
       "    }\n",
       "</style>\n",
       "<table border=\"1\" class=\"dataframe\">\n",
       "  <thead>\n",
       "    <tr style=\"text-align: right;\">\n",
       "      <th></th>\n",
       "      <th>sample</th>\n",
       "      <th>acc_x</th>\n",
       "      <th>acc_y</th>\n",
       "      <th>acc_z</th>\n",
       "      <th>gyro_x</th>\n",
       "      <th>gyro_y</th>\n",
       "      <th>gyro_z</th>\n",
       "      <th>flag</th>\n",
       "      <th>block</th>\n",
       "      <th>labels</th>\n",
       "    </tr>\n",
       "  </thead>\n",
       "  <tbody>\n",
       "    <tr>\n",
       "      <th>300</th>\n",
       "      <td>300</td>\n",
       "      <td>1.021445</td>\n",
       "      <td>-0.119074</td>\n",
       "      <td>0.095829</td>\n",
       "      <td>0.002024</td>\n",
       "      <td>-0.006570</td>\n",
       "      <td>0.006652</td>\n",
       "      <td>0</td>\n",
       "      <td>2</td>\n",
       "      <td>4.0</td>\n",
       "    </tr>\n",
       "    <tr>\n",
       "      <th>301</th>\n",
       "      <td>301</td>\n",
       "      <td>1.018232</td>\n",
       "      <td>-0.121641</td>\n",
       "      <td>0.096284</td>\n",
       "      <td>0.000574</td>\n",
       "      <td>-0.007095</td>\n",
       "      <td>0.007772</td>\n",
       "      <td>0</td>\n",
       "      <td>2</td>\n",
       "      <td>4.0</td>\n",
       "    </tr>\n",
       "    <tr>\n",
       "      <th>302</th>\n",
       "      <td>302</td>\n",
       "      <td>1.017102</td>\n",
       "      <td>-0.126538</td>\n",
       "      <td>0.103499</td>\n",
       "      <td>-0.000820</td>\n",
       "      <td>-0.007464</td>\n",
       "      <td>0.008664</td>\n",
       "      <td>0</td>\n",
       "      <td>2</td>\n",
       "      <td>4.0</td>\n",
       "    </tr>\n",
       "    <tr>\n",
       "      <th>303</th>\n",
       "      <td>303</td>\n",
       "      <td>1.020244</td>\n",
       "      <td>-0.128364</td>\n",
       "      <td>0.106241</td>\n",
       "      <td>-0.001941</td>\n",
       "      <td>-0.007503</td>\n",
       "      <td>0.008884</td>\n",
       "      <td>0</td>\n",
       "      <td>2</td>\n",
       "      <td>4.0</td>\n",
       "    </tr>\n",
       "    <tr>\n",
       "      <th>304</th>\n",
       "      <td>304</td>\n",
       "      <td>1.021052</td>\n",
       "      <td>-0.127653</td>\n",
       "      <td>0.101382</td>\n",
       "      <td>-0.002595</td>\n",
       "      <td>-0.007301</td>\n",
       "      <td>0.008453</td>\n",
       "      <td>0</td>\n",
       "      <td>2</td>\n",
       "      <td>4.0</td>\n",
       "    </tr>\n",
       "    <tr>\n",
       "      <th>...</th>\n",
       "      <td>...</td>\n",
       "      <td>...</td>\n",
       "      <td>...</td>\n",
       "      <td>...</td>\n",
       "      <td>...</td>\n",
       "      <td>...</td>\n",
       "      <td>...</td>\n",
       "      <td>...</td>\n",
       "      <td>...</td>\n",
       "      <td>...</td>\n",
       "    </tr>\n",
       "    <tr>\n",
       "      <th>1227</th>\n",
       "      <td>1227</td>\n",
       "      <td>1.021523</td>\n",
       "      <td>-0.136456</td>\n",
       "      <td>0.075328</td>\n",
       "      <td>0.008048</td>\n",
       "      <td>-0.000345</td>\n",
       "      <td>0.004001</td>\n",
       "      <td>0</td>\n",
       "      <td>5</td>\n",
       "      <td>4.0</td>\n",
       "    </tr>\n",
       "    <tr>\n",
       "      <th>1228</th>\n",
       "      <td>1228</td>\n",
       "      <td>1.020690</td>\n",
       "      <td>-0.136338</td>\n",
       "      <td>0.073970</td>\n",
       "      <td>0.006485</td>\n",
       "      <td>0.000327</td>\n",
       "      <td>0.004541</td>\n",
       "      <td>0</td>\n",
       "      <td>5</td>\n",
       "      <td>4.0</td>\n",
       "    </tr>\n",
       "    <tr>\n",
       "      <th>1229</th>\n",
       "      <td>1229</td>\n",
       "      <td>1.022230</td>\n",
       "      <td>-0.136831</td>\n",
       "      <td>0.076394</td>\n",
       "      <td>0.004267</td>\n",
       "      <td>0.001889</td>\n",
       "      <td>0.005305</td>\n",
       "      <td>0</td>\n",
       "      <td>5</td>\n",
       "      <td>4.0</td>\n",
       "    </tr>\n",
       "    <tr>\n",
       "      <th>1230</th>\n",
       "      <td>1230</td>\n",
       "      <td>1.026303</td>\n",
       "      <td>-0.139559</td>\n",
       "      <td>0.077951</td>\n",
       "      <td>0.001465</td>\n",
       "      <td>0.005226</td>\n",
       "      <td>0.006541</td>\n",
       "      <td>0</td>\n",
       "      <td>5</td>\n",
       "      <td>4.0</td>\n",
       "    </tr>\n",
       "    <tr>\n",
       "      <th>1231</th>\n",
       "      <td>1231</td>\n",
       "      <td>1.026337</td>\n",
       "      <td>-0.143109</td>\n",
       "      <td>0.073069</td>\n",
       "      <td>-0.001765</td>\n",
       "      <td>0.010333</td>\n",
       "      <td>0.008085</td>\n",
       "      <td>0</td>\n",
       "      <td>5</td>\n",
       "      <td>4.0</td>\n",
       "    </tr>\n",
       "  </tbody>\n",
       "</table>\n",
       "<p>932 rows × 10 columns</p>\n",
       "</div>"
      ],
      "text/plain": [
       "      sample     acc_x     acc_y     acc_z    gyro_x    gyro_y    gyro_z  \\\n",
       "300      300  1.021445 -0.119074  0.095829  0.002024 -0.006570  0.006652   \n",
       "301      301  1.018232 -0.121641  0.096284  0.000574 -0.007095  0.007772   \n",
       "302      302  1.017102 -0.126538  0.103499 -0.000820 -0.007464  0.008664   \n",
       "303      303  1.020244 -0.128364  0.106241 -0.001941 -0.007503  0.008884   \n",
       "304      304  1.021052 -0.127653  0.101382 -0.002595 -0.007301  0.008453   \n",
       "...      ...       ...       ...       ...       ...       ...       ...   \n",
       "1227    1227  1.021523 -0.136456  0.075328  0.008048 -0.000345  0.004001   \n",
       "1228    1228  1.020690 -0.136338  0.073970  0.006485  0.000327  0.004541   \n",
       "1229    1229  1.022230 -0.136831  0.076394  0.004267  0.001889  0.005305   \n",
       "1230    1230  1.026303 -0.139559  0.077951  0.001465  0.005226  0.006541   \n",
       "1231    1231  1.026337 -0.143109  0.073069 -0.001765  0.010333  0.008085   \n",
       "\n",
       "      flag  block  labels  \n",
       "300      0      2     4.0  \n",
       "301      0      2     4.0  \n",
       "302      0      2     4.0  \n",
       "303      0      2     4.0  \n",
       "304      0      2     4.0  \n",
       "...    ...    ...     ...  \n",
       "1227     0      5     4.0  \n",
       "1228     0      5     4.0  \n",
       "1229     0      5     4.0  \n",
       "1230     0      5     4.0  \n",
       "1231     0      5     4.0  \n",
       "\n",
       "[932 rows x 10 columns]"
      ]
     },
     "execution_count": 788,
     "metadata": {},
     "output_type": "execute_result"
    }
   ],
   "source": [
    "labeled_df.iloc[300:1232]"
   ]
  },
  {
   "cell_type": "code",
   "execution_count": null,
   "metadata": {},
   "outputs": [],
   "source": []
  }
 ],
 "metadata": {
  "kernelspec": {
   "display_name": "Python 3",
   "language": "python",
   "name": "python3"
  },
  "language_info": {
   "codemirror_mode": {
    "name": "ipython",
    "version": 3
   },
   "file_extension": ".py",
   "mimetype": "text/x-python",
   "name": "python",
   "nbconvert_exporter": "python",
   "pygments_lexer": "ipython3",
   "version": "3.7.5"
  },
  "toc": {
   "base_numbering": 1,
   "nav_menu": {},
   "number_sections": true,
   "sideBar": true,
   "skip_h1_title": false,
   "title_cell": "Table of Contents",
   "title_sidebar": "Contents",
   "toc_cell": false,
   "toc_position": {},
   "toc_section_display": true,
   "toc_window_display": true
  },
  "varInspector": {
   "cols": {
    "lenName": 16,
    "lenType": 16,
    "lenVar": 40
   },
   "kernels_config": {
    "python": {
     "delete_cmd_postfix": "",
     "delete_cmd_prefix": "del ",
     "library": "var_list.py",
     "varRefreshCmd": "print(var_dic_list())"
    },
    "r": {
     "delete_cmd_postfix": ") ",
     "delete_cmd_prefix": "rm(",
     "library": "var_list.r",
     "varRefreshCmd": "cat(var_dic_list()) "
    }
   },
   "types_to_exclude": [
    "module",
    "function",
    "builtin_function_or_method",
    "instance",
    "_Feature"
   ],
   "window_display": false
  }
 },
 "nbformat": 4,
 "nbformat_minor": 4
}
