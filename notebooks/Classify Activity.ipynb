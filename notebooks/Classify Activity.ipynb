{
 "cells": [
  {
   "cell_type": "markdown",
   "metadata": {},
   "source": [
    "## Import dependencies "
   ]
  },
  {
   "cell_type": "code",
   "execution_count": 265,
   "metadata": {
    "ExecuteTime": {
     "end_time": "2020-06-01T09:52:03.494244Z",
     "start_time": "2020-06-01T09:52:03.478259Z"
    }
   },
   "outputs": [],
   "source": [
    "%run ../initEnviroment.py\n",
    "from plot_data import PlotActivity\n",
    "from matplotlib.lines import Line2D\n",
    "from scipy.stats import norm, kurtosis\n",
    "import os\n",
    "from scipy.signal import butter, lfilter, freqz\n",
    "from scipy import signal\n",
    "from sklearn.pipeline import Pipeline\n",
    "from sklearn.impute import SimpleImputer\n",
    "from sklearn.preprocessing import StandardScaler, MinMaxScaler\n",
    "from collections import Counter\n",
    "import joblib"
   ]
  },
  {
   "cell_type": "markdown",
   "metadata": {},
   "source": [
    "##  Read Data"
   ]
  },
  {
   "cell_type": "code",
   "execution_count": 266,
   "metadata": {
    "ExecuteTime": {
     "end_time": "2020-06-01T09:52:03.511235Z",
     "start_time": "2020-06-01T09:52:03.498243Z"
    }
   },
   "outputs": [],
   "source": [
    "def read_test_data(experiment):\n",
    "    \n",
    "    if experiment < 10:\n",
    "        experiment = '0' + str(experiment)\n",
    "    else:\n",
    "        experiment = str(experiment)\n",
    "\n",
    "    for j in os.listdir('../data/RawData/'):\n",
    "\n",
    "        if \"acc_exp\" + experiment in j:\n",
    "            \n",
    "            acc_path = \"../data/RawData/\" + j\n",
    "\n",
    "        elif \"gyro_exp\" + experiment in j:\n",
    "            \n",
    "            gyro_path = \"../data/RawData/\" + j\n",
    "            \n",
    "    acc_df = pd.read_csv(acc_path, sep = \" \", names=['acc_x','acc_y','acc_z'])\n",
    "    gyro_df = pd.read_csv(gyro_path, sep = \" \", names=['gyro_x','gyro_y','gyro_z'])\n",
    "\n",
    "    exp_df = pd.concat([acc_df,gyro_df],1)\n",
    "    exp_df[\"experiment\"] = int(experiment) #keep track of the experiment\n",
    "\n",
    "        \n",
    "    return exp_df"
   ]
  },
  {
   "cell_type": "code",
   "execution_count": 267,
   "metadata": {
    "ExecuteTime": {
     "end_time": "2020-06-01T09:52:03.529227Z",
     "start_time": "2020-06-01T09:52:03.515232Z"
    }
   },
   "outputs": [],
   "source": [
    "def read_real_data():\n",
    "    \n",
    "    acc_df = pd.read_csv(\"../data/RealData/Accelerometer.csv\", sep = \",\", \n",
    "                         names=['time','acc_x','acc_y','acc_z'],header=None)\n",
    "    acc_df.drop('time',axis = 1, inplace = True)\n",
    "    acc_df.drop(0,inplace=True)\n",
    "    \n",
    "    \n",
    "    gyro_df = pd.read_csv(\"../data/RealData/Gyroscope.csv\", sep = \",\", \n",
    "                          names=['time','gyro_x','gyro_y','gyro_z'], header = None) \n",
    "    gyro_df.drop('time',axis = 1, inplace = True)\n",
    "    gyro_df.drop(0,inplace=True)\n",
    "    \n",
    "    df = pd.concat([acc_df,gyro_df],1)\n",
    "    df.dropna(inplace=True)\n",
    "    df.reset_index(drop=True, inplace=True)\n",
    "    df = df.astype(\"float\")\n",
    "    \n",
    "    return df"
   ]
  },
  {
   "cell_type": "code",
   "execution_count": 268,
   "metadata": {
    "ExecuteTime": {
     "end_time": "2020-06-01T09:52:03.610178Z",
     "start_time": "2020-06-01T09:52:03.534222Z"
    }
   },
   "outputs": [],
   "source": [
    "df = read_test_data(10)"
   ]
  },
  {
   "cell_type": "code",
   "execution_count": 269,
   "metadata": {
    "ExecuteTime": {
     "end_time": "2020-06-01T09:52:03.620174Z",
     "start_time": "2020-06-01T09:52:03.614177Z"
    }
   },
   "outputs": [],
   "source": [
    "#df =  read_real_data()"
   ]
  },
  {
   "cell_type": "markdown",
   "metadata": {},
   "source": [
    "## Filter data"
   ]
  },
  {
   "cell_type": "code",
   "execution_count": 270,
   "metadata": {
    "ExecuteTime": {
     "end_time": "2020-06-01T09:52:03.656152Z",
     "start_time": "2020-06-01T09:52:03.624169Z"
    }
   },
   "outputs": [],
   "source": [
    "def butter_lowpass(cutoff, fs, order=5):\n",
    "    nyq = 0.5 * fs\n",
    "    normal_cutoff = cutoff / nyq\n",
    "    b, a = butter(order, normal_cutoff, btype='low', analog=False)\n",
    "    return b, a\n",
    "\n",
    "def butter_lowpass_filter(data, cutoff, fs, order=5):\n",
    "    b, a = butter_lowpass(cutoff, fs, order=order)\n",
    "    y = lfilter(b, a, data)\n",
    "    return y\n",
    "\n",
    "def filter_acc(df, cutoff=10, fs=50, order=2):\n",
    "    \n",
    "    signals = [\"acc_x\",\"acc_y\",\"acc_z\"]\n",
    "    \n",
    "    new_df = pd.DataFrame(columns=signals)\n",
    "\n",
    "    list_signals = []\n",
    "\n",
    "    for j in signals:\n",
    "\n",
    "        filtered_signal = butter_lowpass_filter(df[j], cutoff=cutoff, fs=fs, order=order)\n",
    "\n",
    "        list_signals.append(filtered_signal)\n",
    "\n",
    "    new_df = pd.concat([new_df, pd.DataFrame(np.array(list_signals).T,columns=signals)])\n",
    "\n",
    "    return new_df\n",
    "\n",
    "\n",
    "def filter_gyro(df, cutoff=10, fs=50, order=2):\n",
    "    \n",
    "    signals = [\"gyro_x\",\"gyro_y\",\"gyro_z\"]\n",
    "    \n",
    "    new_df = pd.DataFrame(columns=signals)\n",
    "    \n",
    "    list_signals = []\n",
    "\n",
    "    for j in signals:\n",
    "\n",
    "        filtered_signal = butter_lowpass_filter(df[j], cutoff=cutoff, fs=fs, order=order)\n",
    "\n",
    "        list_signals.append(filtered_signal)\n",
    "\n",
    "    new_df = pd.concat([new_df, pd.DataFrame(np.array(list_signals).T,columns=signals)])\n",
    "        \n",
    "    return new_df"
   ]
  },
  {
   "cell_type": "code",
   "execution_count": 271,
   "metadata": {
    "ExecuteTime": {
     "end_time": "2020-06-01T09:52:03.673141Z",
     "start_time": "2020-06-01T09:52:03.660150Z"
    }
   },
   "outputs": [],
   "source": [
    "def remake_df(df):\n",
    "    \n",
    "    filtered_df_acc = filter_acc(df,cutoff = 12)\n",
    "    filtered_df_gyro = filter_gyro(df,cutoff= 2)\n",
    "\n",
    "\n",
    "    df = pd.concat([filtered_df_acc.reset_index(drop=True), filtered_df_gyro.reset_index(drop=True)], axis=1)\n",
    "    df.reset_index(inplace = True)\n",
    "    \n",
    "    df.rename(columns={'index': 'sample'},inplace=True)\n",
    "    \n",
    "    return df"
   ]
  },
  {
   "cell_type": "code",
   "execution_count": 272,
   "metadata": {
    "ExecuteTime": {
     "end_time": "2020-06-01T09:52:03.744103Z",
     "start_time": "2020-06-01T09:52:03.688133Z"
    }
   },
   "outputs": [],
   "source": [
    "df = remake_df(df)"
   ]
  },
  {
   "cell_type": "markdown",
   "metadata": {},
   "source": [
    "## Create clock df"
   ]
  },
  {
   "cell_type": "code",
   "execution_count": 273,
   "metadata": {
    "ExecuteTime": {
     "end_time": "2020-06-01T09:52:03.755095Z",
     "start_time": "2020-06-01T09:52:03.748101Z"
    }
   },
   "outputs": [],
   "source": [
    "def create_block_df(df,window_size):\n",
    "    \n",
    "    df['flag'] = np.where(df.index % window_size == 0,1,0)\n",
    "    df[\"block\"] = df['flag'].cumsum()\n",
    "    \n",
    "    return df"
   ]
  },
  {
   "cell_type": "code",
   "execution_count": 274,
   "metadata": {
    "ExecuteTime": {
     "end_time": "2020-06-01T09:52:03.769089Z",
     "start_time": "2020-06-01T09:52:03.758092Z"
    }
   },
   "outputs": [],
   "source": [
    "df = create_block_df(df, 256)"
   ]
  },
  {
   "cell_type": "markdown",
   "metadata": {},
   "source": [
    "## Aggregate data for the features"
   ]
  },
  {
   "cell_type": "code",
   "execution_count": 275,
   "metadata": {
    "ExecuteTime": {
     "end_time": "2020-06-01T09:52:03.783079Z",
     "start_time": "2020-06-01T09:52:03.773085Z"
    }
   },
   "outputs": [],
   "source": [
    "def kurtosis_time(x):\n",
    "\n",
    "    return kurtosis(x, fisher=True)\n",
    "\n",
    "def rms_100(x):\n",
    "\n",
    "    return np.sqrt(np.mean(x**2)) \n",
    "\n",
    "def crest(x):\n",
    "    \n",
    "    return max(abs(x))/np.sqrt(np.mean(x**2))"
   ]
  },
  {
   "cell_type": "code",
   "execution_count": 276,
   "metadata": {
    "ExecuteTime": {
     "end_time": "2020-06-01T09:52:03.798070Z",
     "start_time": "2020-06-01T09:52:03.787078Z"
    }
   },
   "outputs": [],
   "source": [
    "def create_aggregated(block_df):\n",
    "    \n",
    "    signals = [\"acc_x\", \"acc_y\", \"acc_z\", \"gyro_x\", \"gyro_y\", \"gyro_z\"]\n",
    "    \n",
    "    samples = {\"sample\": [\"first\",'last']}\n",
    "    functions = {x: [\"sum\", \"mean\", \"mad\",\n",
    "                    \"median\", \"min\", \"max\", \n",
    "                    \"std\", \"var\", \"sem\", \n",
    "                    \"skew\", \"quantile\", \n",
    "                    kurtosis_time, rms_100, \n",
    "                    crest] for x in signals}\n",
    "    \n",
    "\n",
    "    samples.update(functions)\n",
    "    \n",
    "    agg_df = block_df.groupby(\"block\").agg(samples)\n",
    "    \n",
    "    return agg_df"
   ]
  },
  {
   "cell_type": "code",
   "execution_count": 277,
   "metadata": {
    "ExecuteTime": {
     "end_time": "2020-06-01T09:52:05.634022Z",
     "start_time": "2020-06-01T09:52:03.802069Z"
    }
   },
   "outputs": [],
   "source": [
    "agg_df = create_aggregated(df)"
   ]
  },
  {
   "cell_type": "code",
   "execution_count": 278,
   "metadata": {
    "ExecuteTime": {
     "end_time": "2020-06-01T09:52:05.657008Z",
     "start_time": "2020-06-01T09:52:05.641015Z"
    }
   },
   "outputs": [],
   "source": [
    "def do_fft(df):\n",
    "    \n",
    "    \"Creat a new df with the frequency spectrum of each blocks\"\n",
    "    \n",
    "    signals = [\"acc_x\",\"acc_y\",\"acc_z\",\"gyro_x\",\"gyro_y\",\"gyro_z\"]\n",
    "    #df.columns = ['index', 'id', 'experiment', 'activity'] + signals + [\"block\"]\n",
    "    \n",
    "    new_df = pd.DataFrame()\n",
    "    \n",
    "    for block in df.block.unique():\n",
    "        \n",
    "        fft_df = df[df[\"block\"] == block]\n",
    "        \n",
    "        list_signals = []\n",
    "        \n",
    "        for j in signals:\n",
    "            \n",
    "            freq, amp = signal.welch(fft_df[j], 50, nperseg=64)\n",
    "            \n",
    "            list_signals.append(amp)\n",
    "            \n",
    "        list_signals.append(np.full(len(freq), block))\n",
    "        \n",
    "        new_df = pd.concat([new_df, pd.DataFrame(np.array(list_signals).T,columns=[x+\"_FFT\" for x in signals]+[\"block\"])])\n",
    "        new_df.dropna(axis=1,inplace=True)\n",
    "        \n",
    "        \n",
    "    #new_df[\"freq\"] = np.tile(x,len(df.block.unique()))\n",
    "    new_df[\"block\"] = new_df[\"block\"].astype('int32')\n",
    "        \n",
    "    return new_df"
   ]
  },
  {
   "cell_type": "code",
   "execution_count": 279,
   "metadata": {
    "ExecuteTime": {
     "end_time": "2020-06-01T09:52:05.677998Z",
     "start_time": "2020-06-01T09:52:05.662007Z"
    }
   },
   "outputs": [],
   "source": [
    "# fft_df"
   ]
  },
  {
   "cell_type": "code",
   "execution_count": 280,
   "metadata": {
    "ExecuteTime": {
     "end_time": "2020-06-01T09:52:06.316629Z",
     "start_time": "2020-06-01T09:52:05.681992Z"
    }
   },
   "outputs": [],
   "source": [
    "fft_df = do_fft(df)"
   ]
  },
  {
   "cell_type": "code",
   "execution_count": 281,
   "metadata": {
    "ExecuteTime": {
     "end_time": "2020-06-01T09:52:06.342612Z",
     "start_time": "2020-06-01T09:52:06.319627Z"
    }
   },
   "outputs": [],
   "source": [
    "def peak_sum_all(x):\n",
    "    \n",
    "    peaks, _ = signal.find_peaks(x, height=0,)\n",
    "    \n",
    "    return sum(peaks)\n",
    "\n",
    "def peak_mean_12(x):\n",
    "    \n",
    "    peaks, hight = signal.find_peaks(x, height=0,)\n",
    "    hight[\"peak_heights\"][::-1].sort()\n",
    "    \n",
    "    if len( hight[\"peak_heights\"])>=12:\n",
    "    \n",
    "        return np.mean(hight[\"peak_heights\"][:12])\n",
    "\n",
    "def peak_mean_8(x):\n",
    "    \n",
    "    peaks, hight = signal.find_peaks(x, height=0,)\n",
    "    hight[\"peak_heights\"][::-1].sort()\n",
    "    \n",
    "    if len( hight[\"peak_heights\"])>=8:\n",
    "    \n",
    "        return np.mean(hight[\"peak_heights\"][:8])\n",
    "\n",
    "def peak_mean_6(x):\n",
    "    \n",
    "    peaks, hight = signal.find_peaks(x, height=0,)\n",
    "    hight[\"peak_heights\"][::-1].sort()\n",
    "    \n",
    "    if len( hight[\"peak_heights\"])>=6:\n",
    "    \n",
    "        return np.mean(hight[\"peak_heights\"][:6])\n",
    "\n",
    "def peak_mean_2(x):\n",
    "    \n",
    "    peaks, hight = signal.find_peaks(x, height=0,)\n",
    "    hight[\"peak_heights\"][::-1].sort()\n",
    "    \n",
    "    if len( hight[\"peak_heights\"])>=2:\n",
    "    \n",
    "        return np.mean(hight[\"peak_heights\"][:2])\n"
   ]
  },
  {
   "cell_type": "code",
   "execution_count": 282,
   "metadata": {
    "ExecuteTime": {
     "end_time": "2020-06-01T09:52:06.368599Z",
     "start_time": "2020-06-01T09:52:06.347612Z"
    }
   },
   "outputs": [],
   "source": [
    "def kurtosis_freq(x):\n",
    "\n",
    "    return kurtosis(x, fisher=True)\n",
    "\n",
    "def rms_10(x):\n",
    "    \n",
    "    y = x[:int(len(x)*0.1)]\n",
    "    \n",
    "    return np.sqrt(np.mean(y*2))\n",
    "def rms_20(x):\n",
    "    \n",
    "    y = x[:int(len(x)*0.20)]\n",
    "    \n",
    "    return np.sqrt(np.mean(y**2))\n",
    "\n",
    "def rms_50(x):\n",
    "    \n",
    "    y = x[:int(len(x)*0.50)]\n",
    "    \n",
    "    return np.sqrt(np.mean(y**2))\n",
    "\n",
    "def rms_80(x):\n",
    "    \n",
    "    y = x[:int(len(x)*0.80)]\n",
    "    \n",
    "    return np.sqrt(np.mean(y**2))\n",
    "\n",
    "def rms_100(x):\n",
    "\n",
    "    return np.sqrt(np.mean(x**2)) \n",
    "\n",
    "def quad_sum(x):\n",
    "    \n",
    "    return np.sum(x**2)"
   ]
  },
  {
   "cell_type": "code",
   "execution_count": 283,
   "metadata": {
    "ExecuteTime": {
     "end_time": "2020-06-01T09:52:06.383590Z",
     "start_time": "2020-06-01T09:52:06.372598Z"
    }
   },
   "outputs": [],
   "source": [
    "def create_aggregated_freq(fft_df):\n",
    "    \n",
    "    signals = ['acc_x_FFT', 'acc_y_FFT', 'acc_z_FFT', 'gyro_x_FFT', 'gyro_y_FFT','gyro_z_FFT']\n",
    "\n",
    "    fft_agg_df = fft_df.groupby(\"block\").agg({x: [\"sum\", \"mean\", \"mad\",\n",
    "                                                  \"median\", \"min\", \"max\", \n",
    "                                                  \"std\", \"var\", \"sem\", \n",
    "                                                  \"skew\", \"quantile\",\n",
    "                                                  peak_sum_all, kurtosis_freq, peak_mean_2,\n",
    "                                                  peak_mean_6, peak_mean_8, peak_mean_12,\n",
    "                                                  rms_10, rms_20, rms_50,\n",
    "                                                  rms_80, rms_100, quad_sum] for x in signals })\n",
    "    return fft_agg_df"
   ]
  },
  {
   "cell_type": "code",
   "execution_count": 284,
   "metadata": {
    "ExecuteTime": {
     "end_time": "2020-06-01T09:52:09.023079Z",
     "start_time": "2020-06-01T09:52:06.387588Z"
    }
   },
   "outputs": [],
   "source": [
    "fft_agg_df = create_aggregated_freq(fft_df)"
   ]
  },
  {
   "cell_type": "markdown",
   "metadata": {},
   "source": [
    "## Create data for classification"
   ]
  },
  {
   "cell_type": "code",
   "execution_count": 285,
   "metadata": {
    "ExecuteTime": {
     "end_time": "2020-06-01T09:52:09.033077Z",
     "start_time": "2020-06-01T09:52:09.025079Z"
    }
   },
   "outputs": [],
   "source": [
    "def create_clf_data(agg_df,fft_agg_df):\n",
    "    \n",
    "    features = agg_df.merge(fft_agg_df,on=\"block\")\n",
    "    clf_data = features.drop([('sample','first'),('sample','last')],axis=1)\n",
    "    \n",
    "    return clf_data"
   ]
  },
  {
   "cell_type": "code",
   "execution_count": 286,
   "metadata": {
    "ExecuteTime": {
     "end_time": "2020-06-01T09:52:09.105032Z",
     "start_time": "2020-06-01T09:52:09.037071Z"
    }
   },
   "outputs": [],
   "source": [
    "clf_data = create_clf_data(agg_df,fft_agg_df)"
   ]
  },
  {
   "cell_type": "code",
   "execution_count": 287,
   "metadata": {
    "ExecuteTime": {
     "end_time": "2020-06-01T09:52:09.128021Z",
     "start_time": "2020-06-01T09:52:09.108031Z"
    }
   },
   "outputs": [],
   "source": [
    "def preprocess_data(df):\n",
    "  \n",
    "    \n",
    "    features_to_drop = [('acc_x_FFT', 'peak_mean_6'),\n",
    " ('acc_x_FFT', 'peak_mean_8'),\n",
    " ('acc_x_FFT', 'peak_mean_12'),\n",
    " ('acc_y_FFT', 'peak_mean_6'),\n",
    " ('acc_y_FFT', 'peak_mean_8'),\n",
    " ('acc_y_FFT', 'peak_mean_12'),\n",
    " ('acc_z_FFT', 'peak_mean_6'),\n",
    " ('acc_z_FFT', 'peak_mean_8'),\n",
    " ('acc_z_FFT', 'peak_mean_12'),\n",
    " ('gyro_x_FFT', 'peak_mean_6'),\n",
    " ('gyro_x_FFT', 'peak_mean_8'),\n",
    " ('gyro_x_FFT', 'peak_mean_12'),\n",
    " ('gyro_y_FFT', 'peak_mean_6'),\n",
    " ('gyro_y_FFT', 'peak_mean_8'),\n",
    " ('gyro_y_FFT', 'peak_mean_12'),\n",
    " ('gyro_z_FFT', 'peak_mean_6'),\n",
    " ('gyro_z_FFT', 'peak_mean_8'),\n",
    " ('gyro_z_FFT', 'peak_mean_12')]\n",
    "    \n",
    "    df.drop(features_to_drop,axis=1, inplace = True)\n",
    "    \n",
    "    pipe = Pipeline([(\"imputer\", SimpleImputer(fill_value = 0)),\n",
    "                         ('scaler', StandardScaler())])\n",
    "    \n",
    "    clf_data = pd.DataFrame(pipe.fit_transform(df),columns=df.columns) \n",
    "   \n",
    "    return clf_data\n",
    "    "
   ]
  },
  {
   "cell_type": "code",
   "execution_count": 288,
   "metadata": {
    "ExecuteTime": {
     "end_time": "2020-06-01T09:52:09.165000Z",
     "start_time": "2020-06-01T09:52:09.134020Z"
    }
   },
   "outputs": [],
   "source": [
    "clf_data = preprocess_data(clf_data)"
   ]
  },
  {
   "cell_type": "code",
   "execution_count": 289,
   "metadata": {
    "ExecuteTime": {
     "end_time": "2020-06-01T09:52:09.174993Z",
     "start_time": "2020-06-01T09:52:09.169998Z"
    }
   },
   "outputs": [],
   "source": [
    "def load_model(filename):\n",
    "    \n",
    "    # load the model from disk\n",
    "    model = joblib.load(filename)\n",
    "    return model"
   ]
  },
  {
   "cell_type": "code",
   "execution_count": 290,
   "metadata": {
    "ExecuteTime": {
     "end_time": "2020-06-01T09:52:09.318912Z",
     "start_time": "2020-06-01T09:52:09.178991Z"
    }
   },
   "outputs": [],
   "source": [
    "model = load_model(\"../models/har_model_v05.sav\")"
   ]
  },
  {
   "cell_type": "code",
   "execution_count": 291,
   "metadata": {
    "ExecuteTime": {
     "end_time": "2020-06-01T09:52:09.331905Z",
     "start_time": "2020-06-01T09:52:09.324906Z"
    }
   },
   "outputs": [],
   "source": [
    "def classify(df,model):\n",
    "    \n",
    "    labels = model.predict(df)\n",
    "    \n",
    "    return labels"
   ]
  },
  {
   "cell_type": "code",
   "execution_count": 292,
   "metadata": {
    "ExecuteTime": {
     "end_time": "2020-06-01T09:52:09.385872Z",
     "start_time": "2020-06-01T09:52:09.336900Z"
    }
   },
   "outputs": [],
   "source": [
    "labels = classify(clf_data,model)"
   ]
  },
  {
   "cell_type": "code",
   "execution_count": 293,
   "metadata": {
    "ExecuteTime": {
     "end_time": "2020-06-01T09:52:09.398864Z",
     "start_time": "2020-06-01T09:52:09.389869Z"
    }
   },
   "outputs": [],
   "source": [
    "def label_original(df, labels, model):\n",
    "    \n",
    "    labels = pd.DataFrame(labels,index=[x for x in range(1,len(labels)+1)], columns=[\"labels\"])\n",
    "    labeled_df = df.merge(labels, how='outer', left_on=\"block\", right_on=labels.index)\n",
    "    \n",
    "    return labeled_df"
   ]
  },
  {
   "cell_type": "code",
   "execution_count": 294,
   "metadata": {
    "ExecuteTime": {
     "end_time": "2020-06-01T09:52:09.422851Z",
     "start_time": "2020-06-01T09:52:09.406860Z"
    },
    "scrolled": true
   },
   "outputs": [],
   "source": [
    "labeled_df = label_original(df,labels,model)"
   ]
  },
  {
   "cell_type": "code",
   "execution_count": 295,
   "metadata": {
    "ExecuteTime": {
     "end_time": "2020-06-01T09:52:09.432845Z",
     "start_time": "2020-06-01T09:52:09.425850Z"
    }
   },
   "outputs": [],
   "source": [
    "def most_common_label(x):\n",
    "    c = Counter(x)\n",
    "    return c.most_common(1)[0][0]"
   ]
  },
  {
   "cell_type": "code",
   "execution_count": 296,
   "metadata": {
    "ExecuteTime": {
     "end_time": "2020-06-01T09:52:09.446838Z",
     "start_time": "2020-06-01T09:52:09.436843Z"
    }
   },
   "outputs": [],
   "source": [
    "def label_agg_df(agg_df,labels):\n",
    "    \n",
    "    labels = pd.DataFrame(labels,index=[x for x in range(1,len(labels)+1)], columns=[\"labels\"])\n",
    "    labeled_agg_df = agg_df[\"sample\"].merge(labels, how='outer', left_on=\"block\", right_on=labels.index)\n",
    "    labeled_agg_df[\"smooth_block\"] = labeled_agg_df[\"labels\"].rolling(5,center=True).apply(most_common_label)\n",
    "    \n",
    "    return labeled_agg_df"
   ]
  },
  {
   "cell_type": "code",
   "execution_count": 297,
   "metadata": {
    "ExecuteTime": {
     "end_time": "2020-06-01T09:52:09.488813Z",
     "start_time": "2020-06-01T09:52:09.453834Z"
    }
   },
   "outputs": [],
   "source": [
    "labeled_agg_df = label_agg_df(agg_df,labels)"
   ]
  },
  {
   "cell_type": "code",
   "execution_count": 298,
   "metadata": {
    "ExecuteTime": {
     "end_time": "2020-06-01T09:52:09.544784Z",
     "start_time": "2020-06-01T09:52:09.491811Z"
    }
   },
   "outputs": [],
   "source": [
    "def plot_activity(labeled_df, labeled_agg_df, experiment = True, experiment_n = 2):\n",
    "    \n",
    "    plt.figure()\n",
    "    ax=plt.subplot(2, 1, 1)\n",
    "    ax.plot(np.linspace(0,len(labeled_df[\"acc_x\"]),len(labeled_df[\"acc_x\"])),\n",
    "                        labeled_df[\"acc_x\"], c=\"#003366\")\n",
    "    colors = {0: \"white\", 1:'blue',2:\"orange\",3:'green', 4:'red', 5:'purple', 6:'brown',\n",
    "              7:'pink',8: 'gray', 9:'olive', 10:'cyan', 11:'limegreen',12:'yellow'}\n",
    "    \n",
    "    activity ={0:'No_Activity',\n",
    "               1: 'WALKING',\n",
    "                2: 'WALKING_UPSTAIRS',\n",
    "                3: 'WALKING_DOWNSTAIRS',\n",
    "                4: 'SITTING',\n",
    "                5: 'STANDING',\n",
    "                6: 'LAYING',\n",
    "                7: 'STAND_TO_SIT',\n",
    "                8: 'SIT_TO_STAND',\n",
    "                9: 'SIT_TO_LIE',\n",
    "                10: 'LIE_TO_SIT',\n",
    "                11: 'STAND_TO_LIE',\n",
    "                12: 'LIE_TO_STAND'}\n",
    "\n",
    "    for index,row in labeled_agg_df.iterrows():\n",
    "\n",
    "        start = row['first']\n",
    "        end = row[\"last\"]\n",
    "        c = colors[row['labels']]\n",
    "\n",
    "        rect = plt.Rectangle((start,labeled_df[\"acc_x\"].min()), \n",
    "                             (end-start),\n",
    "                             labeled_df[\"acc_x\"].max()-labeled_df[\"acc_x\"].min(),\n",
    "                             color = c, alpha = 0.4)\n",
    "        ax.add_patch(rect)\n",
    "\n",
    "    custom_lines = []\n",
    "\n",
    "    for c in colors:\n",
    "\n",
    "        custom_lines.append(Line2D([0], [0], color=colors[c], lw=4, alpha= 0.7))\n",
    "\n",
    "    ax.legend(custom_lines, [activity[x] for x in colors],\n",
    "             loc='upper center', bbox_to_anchor=(0.5, -0.05),\n",
    "              fancybox=True, shadow=True, ncol=5)\n",
    "    \n",
    "    ax.set_xlabel(\"time $[s]$\")\n",
    "    ax.set_ylabel(\"Amplitude\")\n",
    "    ax.set_title(\"Classified Data\")\n",
    "    ax.grid()\n",
    "    \n",
    "    if experiment:\n",
    "        \n",
    "        labeled_agg_df = pd.read_csv('../data/RawData/labels.txt', sep=\" \", header=None)\n",
    "        labeled_agg_df.columns = ['experiment','person','labels','first','last']\n",
    "        labeled_agg_df= labeled_agg_df[labeled_agg_df[\"experiment\"] == experiment_n]\n",
    "        \n",
    "        \n",
    "        plt.figure()\n",
    "        ax=plt.subplot(2, 1, 2)\n",
    "        ax.plot(np.linspace(0,len(labeled_df[\"acc_x\"]),len(labeled_df[\"acc_x\"])),\n",
    "                            labeled_df[\"acc_x\"], c=\"#003366\")\n",
    "        colors = {0: \"white\", 1:'blue',2:\"orange\",3:'green', 4:'red', 5:'purple', 6:'brown',\n",
    "                  7:'pink',8: 'gray', 9:'olive', 10:'cyan', 11:'limegreen',12:'yellow'}\n",
    "\n",
    "        activity ={0:'No_Activity',\n",
    "                   1: 'WALKING',\n",
    "                    2: 'WALKING_UPSTAIRS',\n",
    "                    3: 'WALKING_DOWNSTAIRS',\n",
    "                    4: 'SITTING',\n",
    "                    5: 'STANDING',\n",
    "                    6: 'LAYING',\n",
    "                    7: 'STAND_TO_SIT',\n",
    "                    8: 'SIT_TO_STAND',\n",
    "                    9: 'SIT_TO_LIE',\n",
    "                    10: 'LIE_TO_SIT',\n",
    "                    11: 'STAND_TO_LIE',\n",
    "                    12: 'LIE_TO_STAND'}\n",
    "\n",
    "        for index,row in labeled_agg_df.iterrows():\n",
    "\n",
    "            start = row['first']\n",
    "            end = row[\"last\"]\n",
    "            c = colors[row['labels']]\n",
    "\n",
    "            rect = plt.Rectangle((start,labeled_df[\"acc_x\"].min()), \n",
    "                                 (end-start),\n",
    "                                 labeled_df[\"acc_x\"].max()-labeled_df[\"acc_x\"].min(),\n",
    "                                 color = c, alpha = 0.4)\n",
    "            ax.add_patch(rect)\n",
    "\n",
    "        custom_lines = []\n",
    "\n",
    "        for c in colors:\n",
    "\n",
    "            custom_lines.append(Line2D([0], [0], color=colors[c], lw=4, alpha= 0.7))\n",
    "\n",
    "        ax.legend(custom_lines, [activity[x] for x in colors],\n",
    "                 loc='upper center', bbox_to_anchor=(0.5, -0.05),\n",
    "                  fancybox=True, shadow=True, ncol=5)\n",
    "\n",
    "        ax.set_xlabel(\"time $[s]$\")\n",
    "        ax.set_ylabel(\"Amplitude\")\n",
    "        ax.set_title(\"Original Data\")\n",
    "        ax.grid()\n"
   ]
  },
  {
   "cell_type": "code",
   "execution_count": 299,
   "metadata": {
    "ExecuteTime": {
     "end_time": "2020-06-01T09:52:11.118881Z",
     "start_time": "2020-06-01T09:52:09.548778Z"
    },
    "scrolled": false
   },
   "outputs": [
    {
     "data": {
      "image/png": "[encoded data removed]",
      "text/plain": [
       "<Figure size 1152x864 with 1 Axes>"
      ]
     },
     "metadata": {
      "needs_background": "light"
     },
     "output_type": "display_data"
    },
    {
     "data": {
      "image/png": "[encoded data removed]",
      "text/plain": [
       "<Figure size 1152x864 with 1 Axes>"
      ]
     },
     "metadata": {
      "needs_background": "light"
     },
     "output_type": "display_data"
    }
   ],
   "source": [
    "plot_activity(labeled_df,labeled_agg_df, experiment_n = 5)"
   ]
  },
  {
   "cell_type": "code",
   "execution_count": 300,
   "metadata": {
    "ExecuteTime": {
     "end_time": "2020-06-01T09:52:11.132875Z",
     "start_time": "2020-06-01T09:52:11.121879Z"
    }
   },
   "outputs": [
    {
     "data": {
      "text/plain": [
       "array([0, 0, 0, 0, 5, 0, 0, 0, 4, 0, 6, 6, 0, 0, 0, 0, 0, 0, 4, 4, 4, 6,\n",
       "       0, 0, 0, 0, 0, 0, 5, 0, 0, 0, 0, 0, 2, 0, 0, 0, 0, 2, 2, 1, 0, 2,\n",
       "       0, 2, 2, 1, 1, 1, 2, 2, 2, 1, 1, 0, 5, 0, 0], dtype=int64)"
      ]
     },
     "execution_count": 300,
     "metadata": {},
     "output_type": "execute_result"
    }
   ],
   "source": [
    "labels"
   ]
  },
  {
   "cell_type": "code",
   "execution_count": null,
   "metadata": {},
   "outputs": [],
   "source": []
  }
 ],
 "metadata": {
  "kernelspec": {
   "display_name": "Python 3",
   "language": "python",
   "name": "python3"
  },
  "language_info": {
   "codemirror_mode": {
    "name": "ipython",
    "version": 3
   },
   "file_extension": ".py",
   "mimetype": "text/x-python",
   "name": "python",
   "nbconvert_exporter": "python",
   "pygments_lexer": "ipython3",
   "version": "3.7.5"
  },
  "toc": {
   "base_numbering": 1,
   "nav_menu": {},
   "number_sections": true,
   "sideBar": true,
   "skip_h1_title": false,
   "title_cell": "Table of Contents",
   "title_sidebar": "Contents",
   "toc_cell": false,
   "toc_position": {},
   "toc_section_display": true,
   "toc_window_display": true
  },
  "varInspector": {
   "cols": {
    "lenName": 16,
    "lenType": 16,
    "lenVar": 40
   },
   "kernels_config": {
    "python": {
     "delete_cmd_postfix": "",
     "delete_cmd_prefix": "del ",
     "library": "var_list.py",
     "varRefreshCmd": "print(var_dic_list())"
    },
    "r": {
     "delete_cmd_postfix": ") ",
     "delete_cmd_prefix": "rm(",
     "library": "var_list.r",
     "varRefreshCmd": "cat(var_dic_list()) "
    }
   },
   "types_to_exclude": [
    "module",
    "function",
    "builtin_function_or_method",
    "instance",
    "_Feature"
   ],
   "window_display": false
  }
 },
 "nbformat": 4,
 "nbformat_minor": 4
}
